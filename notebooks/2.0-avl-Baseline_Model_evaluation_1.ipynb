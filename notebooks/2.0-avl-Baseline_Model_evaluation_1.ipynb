{
 "cells": [
  {
   "cell_type": "markdown",
   "metadata": {},
   "source": [
    "# <center> Models Analysis </center>\n",
    "\n",
    "## <center>Baseline</center>\n"
   ]
  },
  {
   "cell_type": "markdown",
   "metadata": {},
   "source": [
    "|                     | Random Forest |          LightGBM |            XGBoost |          CatBoost |\n",
    "|--------------------:|--------------:|------------------:|-------------------:|------------------:|\n",
    "|            Accuracy |        0.7364 |            0.7395 |         **0.7397** |            0.7392 |\n",
    "|             ROC AUC |      0.615017 |          0.630551 |       **0.639458** |          0.616246 |\n",
    "|       Training Time | 0 min 37 secs | 2 mins and 45 secs | 8 mins and 58 secs | **0 min 21 secs** |\n",
    "| Inference time Unit | 0.927343 secs | **0.004546 secs** |      0.019042 secs |     0.549788 secs |\n",
    "|                Size |      190.11MB |            0.72MB |             0.79MB |         **0.2MB** |"
   ]
  },
  {
   "cell_type": "markdown",
   "metadata": {},
   "source": [
    "## Model podium performance\n"
   ]
  },
  {
   "cell_type": "markdown",
   "metadata": {},
   "source": [
    "\n",
    "|                     | AUC | Inference time |\n",
    "|---------------------|-----|----------------|\n",
    "| XGBoost             | 🥇   | 🥉           |\n",
    "| CatBoost            | 🥉   | 🥈           |\n",
    "| LightGBM            | 🥈   | 🥇           |"
   ]
  },
  {
   "cell_type": "code",
   "execution_count": null,
   "metadata": {},
   "outputs": [],
   "source": [
    "import matplotlib.pyplot as plt\n",
    "from sklearn.ensemble import RandomForestClassifier , VotingClassifier\n",
    "from sklearn.linear_model import LogisticRegressionCV\n",
    "import lightgbm as lgb\n",
    "import xgboost as xgb\n",
    "from catboost import CatBoostClassifier, Pool\n",
    "from sklearn.model_selection import RandomizedSearchCV, train_test_split, StratifiedKFold, cross_val_score\n",
    "from sklearn.metrics import classification_report, roc_auc_score, roc_curve\n",
    "from src import utils\n",
    "from src.models import predict_model\n",
    "import os\n",
    "import warnings\n",
    "warnings.filterwarnings(\"ignore\")"
   ]
  },
  {
   "cell_type": "markdown",
   "metadata": {},
   "source": [
    "### Load pre-processed data"
   ]
  },
  {
   "cell_type": "code",
   "execution_count": null,
   "metadata": {
    "scrolled": true
   },
   "outputs": [],
   "source": [
    "X_train = utils.load_data_checkpoint('../data/processed/X_train.pickle')\n",
    "X_test = utils.load_data_checkpoint('../data/processed/X_test.pickle')\n",
    "y_train = utils.load_data_checkpoint('../data/processed/y_train.pickle')\n",
    "y_test = utils.load_data_checkpoint('../data/processed/y_test.pickle')"
   ]
  },
  {
   "cell_type": "code",
   "execution_count": 5,
   "metadata": {
    "scrolled": false
   },
   "outputs": [
    {
     "name": "stdout",
     "output_type": "stream",
     "text": [
      "X_train = (40000, 1773), X_test = (10000, 1773)\n",
      "y_train = (40000,), y_test = (10000,)\n"
     ]
    }
   ],
   "source": [
    "print(f\"X_train = {X_train.shape}, X_test = {X_test.shape}\")\n",
    "print(f\"y_train = {y_train.shape}, y_test = {y_test.shape}\")"
   ]
  },
  {
   "cell_type": "markdown",
   "metadata": {},
   "source": [
    "-----------------------------------------------\n",
    "### 1.0 - Training a Random Forest Classifier \n",
    "-----------------------------------------------"
   ]
  },
  {
   "cell_type": "code",
   "execution_count": 6,
   "metadata": {
    "scrolled": true
   },
   "outputs": [
    {
     "name": "stdout",
     "output_type": "stream",
     "text": [
      "Time taken by function: 0 hours , 0 mins and 37.731468 secs\n"
     ]
    }
   ],
   "source": [
    "#instance object\n",
    "rforest = RandomForestClassifier(n_jobs=-1, random_state=42)\n",
    "\n",
    "#setting timer to now\n",
    "start_time = utils.timer(None)\n",
    "\n",
    "#train and predict \n",
    "rforest.fit(X_train, y_train)\n",
    "\n",
    "#use function time based on setting before\n",
    "utils.timer(start_time)"
   ]
  },
  {
   "cell_type": "markdown",
   "metadata": {},
   "source": [
    "#### 1.1 - Random Forest Classifier: Inference time"
   ]
  },
  {
   "cell_type": "code",
   "execution_count": 7,
   "metadata": {},
   "outputs": [
    {
     "name": "stdout",
     "output_type": "stream",
     "text": [
      "Time taken by function: 0 hours , 0 mins and 0.099434 secs\n"
     ]
    },
    {
     "name": "stderr",
     "output_type": "stream",
     "text": [
      "/home/app/.local/lib/python3.8/site-packages/sklearn/base.py:450: UserWarning: X does not have valid feature names, but RandomForestClassifier was fitted with feature names\n",
      "  warnings.warn(\n"
     ]
    }
   ],
   "source": [
    "start_time = utils.timer(None)\n",
    "\n",
    "y_pred = rforest.predict(X_test.iloc[0].values.reshape(1,-1))\n",
    "\n",
    "utils.timer(start_time)"
   ]
  },
  {
   "cell_type": "markdown",
   "metadata": {},
   "source": [
    "#### 1.2 - Random Forest Classifier: Performance metrics and classification report"
   ]
  },
  {
   "cell_type": "code",
   "execution_count": 8,
   "metadata": {
    "scrolled": false
   },
   "outputs": [
    {
     "name": "stdout",
     "output_type": "stream",
     "text": [
      "Time taken by function: 0 hours , 0 mins and 0.927343 secs\n"
     ]
    }
   ],
   "source": [
    "start_time = utils.timer(None)\n",
    "\n",
    "y_pred = rforest.predict(X_test)\n",
    "\n",
    "utils.timer(start_time)"
   ]
  },
  {
   "cell_type": "code",
   "execution_count": 9,
   "metadata": {
    "scrolled": false
   },
   "outputs": [
    {
     "name": "stdout",
     "output_type": "stream",
     "text": [
      "Model Performance metrics:\n",
      "------------------------------\n",
      "Accuracy: 0.7364\n",
      "Precision: 0.4320388349514563\n",
      "Recall: 0.03412576687116564\n",
      "F1 Score: 0.06325515280739161\n",
      "\n",
      "Model Classification report:\n",
      "------------------------------\n",
      "              precision    recall  f1-score   support\n",
      "\n",
      "           0       0.74      0.98      0.85      7392\n",
      "           1       0.43      0.03      0.06      2608\n",
      "\n",
      "    accuracy                           0.74     10000\n",
      "   macro avg       0.59      0.51      0.45     10000\n",
      "weighted avg       0.66      0.74      0.64     10000\n",
      "\n",
      "\n",
      "Prediction Confusion Matrix:\n",
      "------------------------------\n",
      "      0    1\n",
      "0  7275  117\n",
      "1  2519   89\n"
     ]
    },
    {
     "data": {
      "image/png": "[encoded data removed]",
      "text/plain": [
       "<Figure size 720x360 with 1 Axes>"
      ]
     },
     "metadata": {
      "needs_background": "light"
     },
     "output_type": "display_data"
    }
   ],
   "source": [
    "accuracy, precision, recall, f1_score = predict_model.get_performance(y_pred,y_test,labels=[0,1])\n",
    "roc_auc = predict_model.plot_roc(rforest,y_test,X_test)"
   ]
  },
  {
   "cell_type": "markdown",
   "metadata": {},
   "source": [
    "#### 1.3 -  Random Forest Classifier: Save model\n"
   ]
  },
  {
   "cell_type": "code",
   "execution_count": 62,
   "metadata": {
    "scrolled": true
   },
   "outputs": [
    {
     "name": "stdout",
     "output_type": "stream",
     "text": [
      "Object saved successfully in ../src/models/trained_models/simplerforest.pickle with 190.11MB.\n"
     ]
    }
   ],
   "source": [
    "utils.save_data_checkpoint(rforest,'../src/models/trained_models/simplerforest.pickle')"
   ]
  },
  {
   "cell_type": "markdown",
   "metadata": {},
   "source": [
    "-----------------------------------------------\n",
    "### 2.0 - Training a LightGBM Classifier \n",
    "-----------------------------------------------"
   ]
  },
  {
   "cell_type": "code",
   "execution_count": 15,
   "metadata": {
    "scrolled": true
   },
   "outputs": [
    {
     "name": "stdout",
     "output_type": "stream",
     "text": [
      "Fitting 4 folds for each of 1 candidates, totalling 4 fits\n",
      "[CV 1/4] END boosting_type=gbdt, importance_type=split, learning_rate=0.01, max_depth=-1, n_estimators=200, num_leaves=30;, score=0.630 total time=  42.0s\n",
      "[CV 2/4] END boosting_type=gbdt, importance_type=split, learning_rate=0.01, max_depth=-1, n_estimators=200, num_leaves=30;, score=0.634 total time=  35.6s\n",
      "[CV 3/4] END boosting_type=gbdt, importance_type=split, learning_rate=0.01, max_depth=-1, n_estimators=200, num_leaves=30;, score=0.625 total time=  28.3s\n",
      "[CV 4/4] END boosting_type=gbdt, importance_type=split, learning_rate=0.01, max_depth=-1, n_estimators=200, num_leaves=30;, score=0.632 total time=  35.9s\n",
      "Time taken by function: 0 hours , 2 mins and 45.803425000000004 secs\n"
     ]
    }
   ],
   "source": [
    "lgbclf = lgb.LGBMClassifier(random_state=42)\n",
    "\n",
    "#setting timer\n",
    "start_time = utils.timer(None)\n",
    "\n",
    "param_grid = {\n",
    "    'boosting_type': ['gbdt'],\n",
    "    'importance_type':['split'],\n",
    "    'learning_rate':[0.1,0.01,0.001],\n",
    "    'max_depth':[-1,1,2],\n",
    "    'n_estimators':[100,200,300],\n",
    "    'num_leaves':[30,15,5]\n",
    "}\n",
    "\n",
    "lgbclf_randomcv = RandomizedSearchCV(lgbclf, param_grid, n_iter=1, random_state=42, cv=4,scoring='roc_auc',verbose=8)\n",
    "\n",
    "lgbclf_randomcv.fit(X_train, y_train)\n",
    "\n",
    "#use function time based on setting before\n",
    "utils.timer(start_time)"
   ]
  },
  {
   "cell_type": "markdown",
   "metadata": {},
   "source": [
    "#### 2.1 LightGBM Classifier: Best hyperparameters with RandomizedsearchCV"
   ]
  },
  {
   "cell_type": "code",
   "execution_count": 16,
   "metadata": {},
   "outputs": [
    {
     "name": "stdout",
     "output_type": "stream",
     "text": [
      "LightGBM Classifier:\n",
      "\n",
      "Best params:\n",
      "num_leaves : 30\n",
      "n_estimators : 200\n",
      "max_depth : -1\n",
      "learning_rate : 0.01\n",
      "importance_type : split\n",
      "boosting_type : gbdt\n",
      "\n",
      "Best Score: 0.630276\n",
      "\n"
     ]
    }
   ],
   "source": [
    "print(f'LightGBM Classifier:\\n\\nBest params:')\n",
    "for key, values in lgbclf_randomcv.best_params_.items():\n",
    "  print(f'{key} : {values}')\n",
    "print(f\"\\nBest Score: {lgbclf_randomcv.best_score_:.6f}\\n\")"
   ]
  },
  {
   "cell_type": "markdown",
   "metadata": {},
   "source": [
    "#### 2.2 LightGBM Classifier: Inference time"
   ]
  },
  {
   "cell_type": "code",
   "execution_count": 17,
   "metadata": {},
   "outputs": [
    {
     "name": "stdout",
     "output_type": "stream",
     "text": [
      "Time taken by function: 0 hours , 0 mins and 0.004546 secs\n"
     ]
    }
   ],
   "source": [
    "start_time = utils.timer(None)\n",
    "\n",
    "y_pred = lgbclf_randomcv.predict(X_test.iloc[0].values.reshape(1,-1))\n",
    "\n",
    "utils.timer(start_time)"
   ]
  },
  {
   "cell_type": "markdown",
   "metadata": {},
   "source": [
    "#### 2.3 - LightGBM Classifier: Performance metrics and classification report"
   ]
  },
  {
   "cell_type": "code",
   "execution_count": 18,
   "metadata": {},
   "outputs": [
    {
     "name": "stdout",
     "output_type": "stream",
     "text": [
      "Time taken by function: 0 hours , 0 mins and 0.529568 secs\n"
     ]
    }
   ],
   "source": [
    "start_time = utils.timer(None)\n",
    "\n",
    "y_pred = lgbclf_randomcv.predict(X_test)\n",
    "\n",
    "utils.timer(start_time)"
   ]
  },
  {
   "cell_type": "code",
   "execution_count": 19,
   "metadata": {
    "scrolled": true
   },
   "outputs": [
    {
     "name": "stdout",
     "output_type": "stream",
     "text": [
      "Model Performance metrics:\n",
      "------------------------------\n",
      "Accuracy: 0.7395\n",
      "Precision: 1.0\n",
      "Recall: 0.0011503067484662577\n",
      "F1 Score: 0.002297970126388357\n",
      "\n",
      "Model Classification report:\n",
      "------------------------------\n",
      "              precision    recall  f1-score   support\n",
      "\n",
      "           0       0.74      1.00      0.85      7392\n",
      "           1       1.00      0.00      0.00      2608\n",
      "\n",
      "    accuracy                           0.74     10000\n",
      "   macro avg       0.87      0.50      0.43     10000\n",
      "weighted avg       0.81      0.74      0.63     10000\n",
      "\n",
      "\n",
      "Prediction Confusion Matrix:\n",
      "------------------------------\n",
      "      0  1\n",
      "0  7392  0\n",
      "1  2605  3\n"
     ]
    },
    {
     "data": {
      "image/png": "[encoded data removed]",
      "text/plain": [
       "<Figure size 720x360 with 1 Axes>"
      ]
     },
     "metadata": {
      "needs_background": "light"
     },
     "output_type": "display_data"
    }
   ],
   "source": [
    "accuracy, precision, recall, f1_score = predict_model.get_performance(y_pred,y_test,labels=[0,1])\n",
    "roc_auc = predict_model.plot_roc(lgbclf_randomcv,y_test,X_test)"
   ]
  },
  {
   "cell_type": "markdown",
   "metadata": {},
   "source": [
    "#### 2.4 - LightGBM Classifier: Save model\n"
   ]
  },
  {
   "cell_type": "code",
   "execution_count": 45,
   "metadata": {
    "scrolled": true
   },
   "outputs": [
    {
     "name": "stdout",
     "output_type": "stream",
     "text": [
      "Object saved successfully in ../src/models/trained_models/lgbm.pickle with 0.72MB.\n"
     ]
    }
   ],
   "source": [
    "utils.save_data_checkpoint(lgbclf_randomcv,'../src/models/trained_models/lgbm.pickle')"
   ]
  },
  {
   "cell_type": "markdown",
   "metadata": {},
   "source": [
    "-----------------------------------------------\n",
    "### 3.0 - Training a XGBClassifier\n",
    "-----------------------------------------------"
   ]
  },
  {
   "cell_type": "code",
   "execution_count": 20,
   "metadata": {},
   "outputs": [
    {
     "name": "stdout",
     "output_type": "stream",
     "text": [
      "Fitting 4 folds for each of 1 candidates, totalling 4 fits\n",
      "[CV 1/4] END colsample_bytree=0.5, gamma=0, learning_rate=0.05, max_depth=7, reg_lambda=1, scale_pos_weight=1, subsample=0.8;, score=0.640 total time= 1.7min\n",
      "[CV 2/4] END colsample_bytree=0.5, gamma=0, learning_rate=0.05, max_depth=7, reg_lambda=1, scale_pos_weight=1, subsample=0.8;, score=0.640 total time= 1.8min\n",
      "[CV 3/4] END colsample_bytree=0.5, gamma=0, learning_rate=0.05, max_depth=7, reg_lambda=1, scale_pos_weight=1, subsample=0.8;, score=0.634 total time= 1.6min\n",
      "[CV 4/4] END colsample_bytree=0.5, gamma=0, learning_rate=0.05, max_depth=7, reg_lambda=1, scale_pos_weight=1, subsample=0.8;, score=0.643 total time= 1.7min\n",
      "Time taken by function: 0 hours , 8 mins and 57.90629799999999 secs\n"
     ]
    }
   ],
   "source": [
    "xgb_cl = xgb.XGBClassifier(random_state=42)\n",
    "\n",
    "param_grid = {\n",
    "    \"max_depth\": [3, 4, 5, 7],\n",
    "    \"learning_rate\": [0.1, 0.01, 0.05],\n",
    "    \"gamma\": [0, 0.25, 1],\n",
    "    \"reg_lambda\": [0, 1, 10],\n",
    "    \"scale_pos_weight\": [1, 3, 5],\n",
    "    \"subsample\": [0.8],\n",
    "    \"colsample_bytree\": [0.5],\n",
    "}\n",
    "\n",
    "start_time = utils.timer(None)\n",
    "\n",
    "xgb_cl_randomcv = RandomizedSearchCV(xgb_cl, param_grid, n_iter=1, random_state=42, cv=4,scoring='roc_auc',verbose=8)\n",
    "\n",
    "xgb_cl_randomcv.fit(X_train, y_train)\n",
    "\n",
    "utils.timer(start_time)"
   ]
  },
  {
   "cell_type": "markdown",
   "metadata": {},
   "source": [
    "#### 3.1 - XGBoost Classifier: Best hyperparameters with RandomizedsearchCV "
   ]
  },
  {
   "cell_type": "code",
   "execution_count": 21,
   "metadata": {},
   "outputs": [
    {
     "name": "stdout",
     "output_type": "stream",
     "text": [
      "XGBoost Classifier:\n",
      "\n",
      "Best params:\n",
      "subsample : 0.8\n",
      "scale_pos_weight : 1\n",
      "reg_lambda : 1\n",
      "max_depth : 7\n",
      "learning_rate : 0.05\n",
      "gamma : 0\n",
      "colsample_bytree : 0.5\n",
      "\n",
      "Best Score: 0.639478\n",
      "\n"
     ]
    }
   ],
   "source": [
    "print(f'XGBoost Classifier:\\n\\nBest params:')\n",
    "for key, values in xgb_cl_randomcv.best_params_.items():\n",
    "  print(f'{key} : {values}')\n",
    "print(f\"\\nBest Score: {xgb_cl_randomcv.best_score_:.6f}\\n\")"
   ]
  },
  {
   "cell_type": "markdown",
   "metadata": {},
   "source": [
    "#### 3.2 - XGBoost Classifier: Inference time"
   ]
  },
  {
   "cell_type": "code",
   "execution_count": 22,
   "metadata": {
    "scrolled": true
   },
   "outputs": [
    {
     "name": "stdout",
     "output_type": "stream",
     "text": [
      "Time taken by function: 0 hours , 0 mins and 0.019042 secs\n"
     ]
    }
   ],
   "source": [
    "start_time = utils.timer(None)\n",
    "\n",
    "y_pred = xgb_cl_randomcv.predict(X_test.iloc[0].values.reshape(1,-1))\n",
    "\n",
    "utils.timer(start_time)"
   ]
  },
  {
   "cell_type": "markdown",
   "metadata": {},
   "source": [
    "#### 3.3 - XGBoost Classifier: Performance metrics and classification report"
   ]
  },
  {
   "cell_type": "code",
   "execution_count": 23,
   "metadata": {},
   "outputs": [
    {
     "name": "stdout",
     "output_type": "stream",
     "text": [
      "Time taken by function: 0 hours , 0 mins and 0.624998 secs\n"
     ]
    }
   ],
   "source": [
    "start_time = utils.timer(None)\n",
    "\n",
    "y_pred = xgb_cl_randomcv.predict(X_test)\n",
    "\n",
    "utils.timer(start_time)"
   ]
  },
  {
   "cell_type": "code",
   "execution_count": 24,
   "metadata": {},
   "outputs": [
    {
     "name": "stdout",
     "output_type": "stream",
     "text": [
      "Model Performance metrics:\n",
      "------------------------------\n",
      "Accuracy: 0.7397\n",
      "Precision: 0.5714285714285714\n",
      "Recall: 0.007668711656441718\n",
      "F1 Score: 0.015134317063942491\n",
      "\n",
      "Model Classification report:\n",
      "------------------------------\n",
      "              precision    recall  f1-score   support\n",
      "\n",
      "           0       0.74      1.00      0.85      7392\n",
      "           1       0.57      0.01      0.02      2608\n",
      "\n",
      "    accuracy                           0.74     10000\n",
      "   macro avg       0.66      0.50      0.43     10000\n",
      "weighted avg       0.70      0.74      0.63     10000\n",
      "\n",
      "\n",
      "Prediction Confusion Matrix:\n",
      "------------------------------\n",
      "      0   1\n",
      "0  7377  15\n",
      "1  2588  20\n"
     ]
    },
    {
     "data": {
      "image/png": "[encoded data removed]",
      "text/plain": [
       "<Figure size 720x360 with 1 Axes>"
      ]
     },
     "metadata": {
      "needs_background": "light"
     },
     "output_type": "display_data"
    }
   ],
   "source": [
    "accuracy, precision, recall, f1_score = predict_model.get_performance(y_pred,y_test,labels=[0,1])\n",
    "roc_auc = predict_model.plot_roc(xgb_cl_randomcv,y_test,X_test)"
   ]
  },
  {
   "cell_type": "markdown",
   "metadata": {},
   "source": [
    "#### 3.4 - XGBoost Classifier: Save model\n"
   ]
  },
  {
   "cell_type": "code",
   "execution_count": 50,
   "metadata": {},
   "outputs": [
    {
     "name": "stdout",
     "output_type": "stream",
     "text": [
      "Object saved successfully in ../src/models/trained_models/xgb.pickle with 0.79MB.\n"
     ]
    }
   ],
   "source": [
    "utils.save_data_checkpoint(xgb_cl_randomcv,'../src/models/trained_models/xgb.pickle')"
   ]
  },
  {
   "cell_type": "markdown",
   "metadata": {},
   "source": [
    "-----------------------------------------------\n",
    "### 4.0 - Training a CatBoost Classifier\n",
    "-----------------------------------------------"
   ]
  },
  {
   "cell_type": "code",
   "execution_count": 25,
   "metadata": {},
   "outputs": [
    {
     "name": "stdout",
     "output_type": "stream",
     "text": [
      "Fitting 4 folds for each of 1 candidates, totalling 4 fits\n",
      "0:\tlearn: 0.6855778\ttotal: 87.5ms\tremaining: 5.16s\n",
      "1:\tlearn: 0.6776493\ttotal: 116ms\tremaining: 3.38s\n",
      "2:\tlearn: 0.6703309\ttotal: 149ms\tremaining: 2.82s\n",
      "3:\tlearn: 0.6641159\ttotal: 170ms\tremaining: 2.38s\n",
      "4:\tlearn: 0.6578423\ttotal: 197ms\tremaining: 2.17s\n",
      "5:\tlearn: 0.6519605\ttotal: 227ms\tremaining: 2.04s\n",
      "6:\tlearn: 0.6461849\ttotal: 258ms\tremaining: 1.96s\n",
      "7:\tlearn: 0.6411062\ttotal: 292ms\tremaining: 1.9s\n",
      "8:\tlearn: 0.6362078\ttotal: 319ms\tremaining: 1.81s\n",
      "9:\tlearn: 0.6318418\ttotal: 345ms\tremaining: 1.73s\n",
      "10:\tlearn: 0.6277728\ttotal: 378ms\tremaining: 1.68s\n",
      "11:\tlearn: 0.6239287\ttotal: 404ms\tremaining: 1.62s\n",
      "12:\tlearn: 0.6201049\ttotal: 436ms\tremaining: 1.58s\n",
      "13:\tlearn: 0.6166900\ttotal: 463ms\tremaining: 1.52s\n",
      "14:\tlearn: 0.6136231\ttotal: 494ms\tremaining: 1.48s\n",
      "15:\tlearn: 0.6105626\ttotal: 522ms\tremaining: 1.44s\n",
      "16:\tlearn: 0.6076590\ttotal: 567ms\tremaining: 1.44s\n",
      "17:\tlearn: 0.6050566\ttotal: 611ms\tremaining: 1.43s\n",
      "18:\tlearn: 0.6022444\ttotal: 641ms\tremaining: 1.38s\n",
      "19:\tlearn: 0.5996702\ttotal: 702ms\tremaining: 1.4s\n",
      "20:\tlearn: 0.5975726\ttotal: 738ms\tremaining: 1.37s\n",
      "21:\tlearn: 0.5954972\ttotal: 770ms\tremaining: 1.33s\n",
      "22:\tlearn: 0.5935203\ttotal: 806ms\tremaining: 1.3s\n",
      "23:\tlearn: 0.5916382\ttotal: 831ms\tremaining: 1.25s\n",
      "24:\tlearn: 0.5898346\ttotal: 857ms\tremaining: 1.2s\n",
      "25:\tlearn: 0.5881256\ttotal: 898ms\tremaining: 1.17s\n",
      "26:\tlearn: 0.5865129\ttotal: 927ms\tremaining: 1.13s\n",
      "27:\tlearn: 0.5852324\ttotal: 962ms\tremaining: 1.1s\n",
      "28:\tlearn: 0.5836987\ttotal: 992ms\tremaining: 1.06s\n",
      "29:\tlearn: 0.5821504\ttotal: 1.02s\tremaining: 1.02s\n",
      "30:\tlearn: 0.5809856\ttotal: 1.05s\tremaining: 980ms\n",
      "31:\tlearn: 0.5798087\ttotal: 1.07s\tremaining: 937ms\n",
      "32:\tlearn: 0.5785202\ttotal: 1.1s\tremaining: 905ms\n",
      "33:\tlearn: 0.5775572\ttotal: 1.14s\tremaining: 871ms\n",
      "34:\tlearn: 0.5764645\ttotal: 1.18s\tremaining: 843ms\n",
      "35:\tlearn: 0.5755983\ttotal: 1.22s\tremaining: 811ms\n",
      "36:\tlearn: 0.5745342\ttotal: 1.24s\tremaining: 772ms\n",
      "37:\tlearn: 0.5736119\ttotal: 1.27s\tremaining: 739ms\n",
      "38:\tlearn: 0.5725747\ttotal: 1.3s\tremaining: 701ms\n",
      "39:\tlearn: 0.5718700\ttotal: 1.33s\tremaining: 665ms\n",
      "40:\tlearn: 0.5712578\ttotal: 1.37s\tremaining: 633ms\n",
      "41:\tlearn: 0.5704152\ttotal: 1.41s\tremaining: 606ms\n",
      "42:\tlearn: 0.5696440\ttotal: 1.46s\tremaining: 579ms\n",
      "43:\tlearn: 0.5689292\ttotal: 1.55s\tremaining: 562ms\n",
      "44:\tlearn: 0.5683383\ttotal: 1.59s\tremaining: 530ms\n",
      "45:\tlearn: 0.5678026\ttotal: 1.64s\tremaining: 498ms\n",
      "46:\tlearn: 0.5671037\ttotal: 1.68s\tremaining: 464ms\n",
      "47:\tlearn: 0.5665705\ttotal: 1.71s\tremaining: 428ms\n",
      "48:\tlearn: 0.5659618\ttotal: 1.75s\tremaining: 393ms\n",
      "49:\tlearn: 0.5654134\ttotal: 1.8s\tremaining: 361ms\n",
      "50:\tlearn: 0.5650121\ttotal: 1.84s\tremaining: 325ms\n",
      "51:\tlearn: 0.5645358\ttotal: 1.88s\tremaining: 289ms\n",
      "52:\tlearn: 0.5641714\ttotal: 1.93s\tremaining: 254ms\n",
      "53:\tlearn: 0.5638144\ttotal: 1.97s\tremaining: 219ms\n",
      "54:\tlearn: 0.5634116\ttotal: 2.01s\tremaining: 183ms\n",
      "55:\tlearn: 0.5630756\ttotal: 2.04s\tremaining: 146ms\n",
      "56:\tlearn: 0.5627080\ttotal: 2.06s\tremaining: 109ms\n",
      "57:\tlearn: 0.5623903\ttotal: 2.1s\tremaining: 72.4ms\n",
      "58:\tlearn: 0.5620636\ttotal: 2.16s\tremaining: 36.6ms\n",
      "59:\tlearn: 0.5616879\ttotal: 2.22s\tremaining: 0us\n",
      "[CV 1/4] END depth=6, iterations=60, learning_rate=0.03;, score=0.616 total time=   4.5s\n",
      "0:\tlearn: 0.6853139\ttotal: 16.9ms\tremaining: 997ms\n",
      "1:\tlearn: 0.6773321\ttotal: 35ms\tremaining: 1.02s\n",
      "2:\tlearn: 0.6701932\ttotal: 54.2ms\tremaining: 1.03s\n",
      "3:\tlearn: 0.6633843\ttotal: 73.7ms\tremaining: 1.03s\n",
      "4:\tlearn: 0.6569218\ttotal: 102ms\tremaining: 1.13s\n",
      "5:\tlearn: 0.6513064\ttotal: 124ms\tremaining: 1.12s\n",
      "6:\tlearn: 0.6456610\ttotal: 145ms\tremaining: 1.1s\n",
      "7:\tlearn: 0.6402457\ttotal: 164ms\tremaining: 1.07s\n",
      "8:\tlearn: 0.6358023\ttotal: 184ms\tremaining: 1.04s\n",
      "9:\tlearn: 0.6312760\ttotal: 205ms\tremaining: 1.02s\n",
      "10:\tlearn: 0.6272224\ttotal: 228ms\tremaining: 1.01s\n",
      "11:\tlearn: 0.6233218\ttotal: 251ms\tremaining: 1s\n",
      "12:\tlearn: 0.6199318\ttotal: 269ms\tremaining: 972ms\n",
      "13:\tlearn: 0.6162765\ttotal: 290ms\tremaining: 953ms\n",
      "14:\tlearn: 0.6131510\ttotal: 312ms\tremaining: 936ms\n",
      "15:\tlearn: 0.6103623\ttotal: 337ms\tremaining: 927ms\n",
      "16:\tlearn: 0.6075820\ttotal: 362ms\tremaining: 916ms\n",
      "17:\tlearn: 0.6047543\ttotal: 383ms\tremaining: 893ms\n",
      "18:\tlearn: 0.6020556\ttotal: 405ms\tremaining: 874ms\n",
      "19:\tlearn: 0.5994874\ttotal: 426ms\tremaining: 852ms\n",
      "20:\tlearn: 0.5972237\ttotal: 450ms\tremaining: 835ms\n",
      "21:\tlearn: 0.5948841\ttotal: 470ms\tremaining: 811ms\n",
      "22:\tlearn: 0.5927322\ttotal: 491ms\tremaining: 789ms\n",
      "23:\tlearn: 0.5909872\ttotal: 509ms\tremaining: 764ms\n",
      "24:\tlearn: 0.5892836\ttotal: 533ms\tremaining: 746ms\n",
      "25:\tlearn: 0.5874951\ttotal: 553ms\tremaining: 724ms\n",
      "26:\tlearn: 0.5859229\ttotal: 577ms\tremaining: 705ms\n",
      "27:\tlearn: 0.5844849\ttotal: 601ms\tremaining: 686ms\n",
      "28:\tlearn: 0.5828788\ttotal: 624ms\tremaining: 667ms\n",
      "29:\tlearn: 0.5815209\ttotal: 648ms\tremaining: 648ms\n",
      "30:\tlearn: 0.5803904\ttotal: 670ms\tremaining: 627ms\n",
      "31:\tlearn: 0.5793259\ttotal: 694ms\tremaining: 607ms\n",
      "32:\tlearn: 0.5783199\ttotal: 725ms\tremaining: 593ms\n",
      "33:\tlearn: 0.5774351\ttotal: 746ms\tremaining: 570ms\n",
      "34:\tlearn: 0.5763895\ttotal: 766ms\tremaining: 547ms\n",
      "35:\tlearn: 0.5753861\ttotal: 785ms\tremaining: 523ms\n",
      "36:\tlearn: 0.5745607\ttotal: 810ms\tremaining: 503ms\n",
      "37:\tlearn: 0.5737587\ttotal: 831ms\tremaining: 481ms\n",
      "38:\tlearn: 0.5730194\ttotal: 852ms\tremaining: 459ms\n",
      "39:\tlearn: 0.5720890\ttotal: 875ms\tremaining: 437ms\n",
      "40:\tlearn: 0.5713038\ttotal: 893ms\tremaining: 414ms\n",
      "41:\tlearn: 0.5703733\ttotal: 919ms\tremaining: 394ms\n",
      "42:\tlearn: 0.5697446\ttotal: 941ms\tremaining: 372ms\n",
      "43:\tlearn: 0.5690291\ttotal: 959ms\tremaining: 349ms\n",
      "44:\tlearn: 0.5684255\ttotal: 980ms\tremaining: 327ms\n",
      "45:\tlearn: 0.5677681\ttotal: 1s\tremaining: 305ms\n",
      "46:\tlearn: 0.5671872\ttotal: 1.02s\tremaining: 284ms\n",
      "47:\tlearn: 0.5667547\ttotal: 1.05s\tremaining: 262ms\n",
      "48:\tlearn: 0.5663504\ttotal: 1.07s\tremaining: 239ms\n",
      "49:\tlearn: 0.5657860\ttotal: 1.09s\tremaining: 218ms\n",
      "50:\tlearn: 0.5652991\ttotal: 1.11s\tremaining: 196ms\n",
      "51:\tlearn: 0.5648890\ttotal: 1.13s\tremaining: 174ms\n",
      "52:\tlearn: 0.5643398\ttotal: 1.16s\tremaining: 153ms\n",
      "53:\tlearn: 0.5638947\ttotal: 1.18s\tremaining: 131ms\n",
      "54:\tlearn: 0.5634930\ttotal: 1.21s\tremaining: 110ms\n",
      "55:\tlearn: 0.5631434\ttotal: 1.24s\tremaining: 88.2ms\n",
      "56:\tlearn: 0.5628943\ttotal: 1.25s\tremaining: 66.1ms\n",
      "57:\tlearn: 0.5625938\ttotal: 1.28s\tremaining: 44ms\n",
      "58:\tlearn: 0.5621817\ttotal: 1.29s\tremaining: 22ms\n",
      "59:\tlearn: 0.5618386\ttotal: 1.31s\tremaining: 0us\n",
      "[CV 2/4] END depth=6, iterations=60, learning_rate=0.03;, score=0.621 total time=   5.4s\n",
      "0:\tlearn: 0.6857592\ttotal: 6.39ms\tremaining: 377ms\n",
      "1:\tlearn: 0.6783396\ttotal: 25.9ms\tremaining: 751ms\n",
      "2:\tlearn: 0.6708229\ttotal: 44.1ms\tremaining: 838ms\n",
      "3:\tlearn: 0.6642981\ttotal: 66.6ms\tremaining: 932ms\n",
      "4:\tlearn: 0.6584130\ttotal: 85.8ms\tremaining: 944ms\n",
      "5:\tlearn: 0.6521982\ttotal: 107ms\tremaining: 961ms\n",
      "6:\tlearn: 0.6470591\ttotal: 126ms\tremaining: 958ms\n",
      "7:\tlearn: 0.6419784\ttotal: 149ms\tremaining: 968ms\n",
      "8:\tlearn: 0.6370118\ttotal: 169ms\tremaining: 956ms\n",
      "9:\tlearn: 0.6326081\ttotal: 189ms\tremaining: 943ms\n",
      "10:\tlearn: 0.6284583\ttotal: 211ms\tremaining: 939ms\n",
      "11:\tlearn: 0.6243115\ttotal: 232ms\tremaining: 927ms\n",
      "12:\tlearn: 0.6205996\ttotal: 252ms\tremaining: 912ms\n",
      "13:\tlearn: 0.6172878\ttotal: 270ms\tremaining: 888ms\n",
      "14:\tlearn: 0.6138988\ttotal: 294ms\tremaining: 882ms\n",
      "15:\tlearn: 0.6105400\ttotal: 314ms\tremaining: 863ms\n",
      "16:\tlearn: 0.6072622\ttotal: 335ms\tremaining: 848ms\n",
      "17:\tlearn: 0.6046701\ttotal: 356ms\tremaining: 830ms\n",
      "18:\tlearn: 0.6021726\ttotal: 375ms\tremaining: 808ms\n",
      "19:\tlearn: 0.5998078\ttotal: 395ms\tremaining: 790ms\n",
      "20:\tlearn: 0.5973540\ttotal: 416ms\tremaining: 773ms\n",
      "21:\tlearn: 0.5952700\ttotal: 437ms\tremaining: 754ms\n",
      "22:\tlearn: 0.5933771\ttotal: 458ms\tremaining: 736ms\n",
      "23:\tlearn: 0.5915032\ttotal: 479ms\tremaining: 719ms\n",
      "24:\tlearn: 0.5897663\ttotal: 505ms\tremaining: 707ms\n",
      "25:\tlearn: 0.5878634\ttotal: 528ms\tremaining: 691ms\n",
      "26:\tlearn: 0.5864549\ttotal: 552ms\tremaining: 674ms\n",
      "27:\tlearn: 0.5849599\ttotal: 573ms\tremaining: 655ms\n",
      "28:\tlearn: 0.5835048\ttotal: 597ms\tremaining: 638ms\n",
      "29:\tlearn: 0.5819731\ttotal: 620ms\tremaining: 620ms\n",
      "30:\tlearn: 0.5806036\ttotal: 642ms\tremaining: 601ms\n",
      "31:\tlearn: 0.5792684\ttotal: 668ms\tremaining: 584ms\n",
      "32:\tlearn: 0.5779520\ttotal: 691ms\tremaining: 565ms\n",
      "33:\tlearn: 0.5769980\ttotal: 710ms\tremaining: 543ms\n",
      "34:\tlearn: 0.5759043\ttotal: 733ms\tremaining: 523ms\n",
      "35:\tlearn: 0.5748222\ttotal: 751ms\tremaining: 501ms\n",
      "36:\tlearn: 0.5739332\ttotal: 773ms\tremaining: 480ms\n",
      "37:\tlearn: 0.5731355\ttotal: 796ms\tremaining: 461ms\n"
     ]
    },
    {
     "name": "stdout",
     "output_type": "stream",
     "text": [
      "38:\tlearn: 0.5721734\ttotal: 817ms\tremaining: 440ms\n",
      "39:\tlearn: 0.5715004\ttotal: 836ms\tremaining: 418ms\n",
      "40:\tlearn: 0.5708791\ttotal: 851ms\tremaining: 394ms\n",
      "41:\tlearn: 0.5703126\ttotal: 870ms\tremaining: 373ms\n",
      "42:\tlearn: 0.5697782\ttotal: 890ms\tremaining: 352ms\n",
      "43:\tlearn: 0.5691272\ttotal: 912ms\tremaining: 331ms\n",
      "44:\tlearn: 0.5683842\ttotal: 930ms\tremaining: 310ms\n",
      "45:\tlearn: 0.5677492\ttotal: 955ms\tremaining: 291ms\n",
      "46:\tlearn: 0.5670799\ttotal: 974ms\tremaining: 269ms\n",
      "47:\tlearn: 0.5665253\ttotal: 994ms\tremaining: 248ms\n",
      "48:\tlearn: 0.5659890\ttotal: 1.02s\tremaining: 229ms\n",
      "49:\tlearn: 0.5654723\ttotal: 1.04s\tremaining: 208ms\n",
      "50:\tlearn: 0.5649805\ttotal: 1.06s\tremaining: 187ms\n",
      "51:\tlearn: 0.5645579\ttotal: 1.08s\tremaining: 166ms\n",
      "52:\tlearn: 0.5639644\ttotal: 1.1s\tremaining: 146ms\n",
      "53:\tlearn: 0.5635364\ttotal: 1.13s\tremaining: 126ms\n",
      "54:\tlearn: 0.5631308\ttotal: 1.15s\tremaining: 105ms\n",
      "55:\tlearn: 0.5627669\ttotal: 1.17s\tremaining: 83.7ms\n",
      "56:\tlearn: 0.5624429\ttotal: 1.19s\tremaining: 62.8ms\n",
      "57:\tlearn: 0.5619809\ttotal: 1.21s\tremaining: 41.9ms\n",
      "58:\tlearn: 0.5617049\ttotal: 1.23s\tremaining: 20.9ms\n",
      "59:\tlearn: 0.5614365\ttotal: 1.25s\tremaining: 0us\n",
      "[CV 3/4] END depth=6, iterations=60, learning_rate=0.03;, score=0.609 total time=   4.4s\n",
      "0:\tlearn: 0.6852808\ttotal: 29.9ms\tremaining: 1.76s\n",
      "1:\tlearn: 0.6779415\ttotal: 54.9ms\tremaining: 1.59s\n",
      "2:\tlearn: 0.6710577\ttotal: 81.6ms\tremaining: 1.55s\n",
      "3:\tlearn: 0.6649820\ttotal: 98.6ms\tremaining: 1.38s\n",
      "4:\tlearn: 0.6588315\ttotal: 127ms\tremaining: 1.4s\n",
      "5:\tlearn: 0.6531241\ttotal: 154ms\tremaining: 1.39s\n",
      "6:\tlearn: 0.6472510\ttotal: 184ms\tremaining: 1.39s\n",
      "7:\tlearn: 0.6418803\ttotal: 209ms\tremaining: 1.35s\n",
      "8:\tlearn: 0.6372766\ttotal: 240ms\tremaining: 1.36s\n",
      "9:\tlearn: 0.6324243\ttotal: 273ms\tremaining: 1.37s\n",
      "10:\tlearn: 0.6284435\ttotal: 300ms\tremaining: 1.34s\n",
      "11:\tlearn: 0.6248401\ttotal: 312ms\tremaining: 1.25s\n",
      "12:\tlearn: 0.6211653\ttotal: 336ms\tremaining: 1.21s\n",
      "13:\tlearn: 0.6176864\ttotal: 364ms\tremaining: 1.2s\n",
      "14:\tlearn: 0.6143845\ttotal: 390ms\tremaining: 1.17s\n",
      "15:\tlearn: 0.6109894\ttotal: 417ms\tremaining: 1.15s\n",
      "16:\tlearn: 0.6081876\ttotal: 443ms\tremaining: 1.12s\n",
      "17:\tlearn: 0.6052760\ttotal: 470ms\tremaining: 1.1s\n",
      "18:\tlearn: 0.6026419\ttotal: 495ms\tremaining: 1.07s\n",
      "19:\tlearn: 0.6003878\ttotal: 524ms\tremaining: 1.05s\n",
      "20:\tlearn: 0.5979325\ttotal: 547ms\tremaining: 1.02s\n",
      "21:\tlearn: 0.5958121\ttotal: 573ms\tremaining: 989ms\n",
      "22:\tlearn: 0.5937482\ttotal: 599ms\tremaining: 963ms\n",
      "23:\tlearn: 0.5918316\ttotal: 623ms\tremaining: 935ms\n",
      "24:\tlearn: 0.5902136\ttotal: 658ms\tremaining: 921ms\n",
      "25:\tlearn: 0.5885620\ttotal: 684ms\tremaining: 895ms\n",
      "26:\tlearn: 0.5868286\ttotal: 710ms\tremaining: 868ms\n",
      "27:\tlearn: 0.5850822\ttotal: 736ms\tremaining: 841ms\n",
      "28:\tlearn: 0.5837958\ttotal: 757ms\tremaining: 809ms\n",
      "29:\tlearn: 0.5824548\ttotal: 787ms\tremaining: 787ms\n",
      "30:\tlearn: 0.5809340\ttotal: 814ms\tremaining: 761ms\n",
      "31:\tlearn: 0.5795424\ttotal: 838ms\tremaining: 733ms\n",
      "32:\tlearn: 0.5782397\ttotal: 869ms\tremaining: 711ms\n",
      "33:\tlearn: 0.5771679\ttotal: 899ms\tremaining: 688ms\n",
      "34:\tlearn: 0.5763051\ttotal: 928ms\tremaining: 663ms\n",
      "35:\tlearn: 0.5751926\ttotal: 956ms\tremaining: 638ms\n",
      "36:\tlearn: 0.5743941\ttotal: 981ms\tremaining: 610ms\n",
      "37:\tlearn: 0.5736103\ttotal: 1s\tremaining: 582ms\n",
      "38:\tlearn: 0.5729456\ttotal: 1.03s\tremaining: 556ms\n",
      "39:\tlearn: 0.5720310\ttotal: 1.06s\tremaining: 530ms\n",
      "40:\tlearn: 0.5713368\ttotal: 1.09s\tremaining: 504ms\n",
      "41:\tlearn: 0.5705388\ttotal: 1.11s\tremaining: 475ms\n",
      "42:\tlearn: 0.5699427\ttotal: 1.13s\tremaining: 448ms\n",
      "43:\tlearn: 0.5691808\ttotal: 1.16s\tremaining: 421ms\n",
      "44:\tlearn: 0.5684953\ttotal: 1.18s\tremaining: 395ms\n",
      "45:\tlearn: 0.5678819\ttotal: 1.21s\tremaining: 367ms\n",
      "46:\tlearn: 0.5673941\ttotal: 1.23s\tremaining: 341ms\n",
      "47:\tlearn: 0.5668555\ttotal: 1.25s\tremaining: 314ms\n",
      "48:\tlearn: 0.5662647\ttotal: 1.28s\tremaining: 287ms\n",
      "49:\tlearn: 0.5657024\ttotal: 1.31s\tremaining: 262ms\n",
      "50:\tlearn: 0.5652548\ttotal: 1.34s\tremaining: 236ms\n",
      "51:\tlearn: 0.5648574\ttotal: 1.36s\tremaining: 210ms\n",
      "52:\tlearn: 0.5644007\ttotal: 1.39s\tremaining: 184ms\n",
      "53:\tlearn: 0.5640020\ttotal: 1.42s\tremaining: 158ms\n",
      "54:\tlearn: 0.5635198\ttotal: 1.44s\tremaining: 131ms\n",
      "55:\tlearn: 0.5632165\ttotal: 1.47s\tremaining: 105ms\n",
      "56:\tlearn: 0.5629510\ttotal: 1.5s\tremaining: 78.8ms\n",
      "57:\tlearn: 0.5625059\ttotal: 1.52s\tremaining: 52.6ms\n",
      "58:\tlearn: 0.5621510\ttotal: 1.55s\tremaining: 26.3ms\n",
      "59:\tlearn: 0.5618940\ttotal: 1.58s\tremaining: 0us\n",
      "[CV 4/4] END depth=6, iterations=60, learning_rate=0.03;, score=0.621 total time=   3.4s\n",
      "0:\tlearn: 0.6849927\ttotal: 37.2ms\tremaining: 2.2s\n",
      "1:\tlearn: 0.6771442\ttotal: 68.6ms\tremaining: 1.99s\n",
      "2:\tlearn: 0.6706602\ttotal: 97ms\tremaining: 1.84s\n",
      "3:\tlearn: 0.6637887\ttotal: 125ms\tremaining: 1.75s\n",
      "4:\tlearn: 0.6573956\ttotal: 161ms\tremaining: 1.77s\n",
      "5:\tlearn: 0.6512127\ttotal: 195ms\tremaining: 1.75s\n",
      "6:\tlearn: 0.6454677\ttotal: 230ms\tremaining: 1.74s\n",
      "7:\tlearn: 0.6407094\ttotal: 259ms\tremaining: 1.69s\n",
      "8:\tlearn: 0.6357259\ttotal: 293ms\tremaining: 1.66s\n",
      "9:\tlearn: 0.6313649\ttotal: 327ms\tremaining: 1.64s\n",
      "10:\tlearn: 0.6272201\ttotal: 360ms\tremaining: 1.6s\n",
      "11:\tlearn: 0.6230763\ttotal: 390ms\tremaining: 1.56s\n",
      "12:\tlearn: 0.6191983\ttotal: 422ms\tremaining: 1.53s\n",
      "13:\tlearn: 0.6157560\ttotal: 453ms\tremaining: 1.49s\n",
      "14:\tlearn: 0.6126982\ttotal: 485ms\tremaining: 1.46s\n",
      "15:\tlearn: 0.6095294\ttotal: 516ms\tremaining: 1.42s\n",
      "16:\tlearn: 0.6066362\ttotal: 541ms\tremaining: 1.37s\n",
      "17:\tlearn: 0.6039114\ttotal: 570ms\tremaining: 1.33s\n",
      "18:\tlearn: 0.6011818\ttotal: 600ms\tremaining: 1.29s\n",
      "19:\tlearn: 0.5987288\ttotal: 641ms\tremaining: 1.28s\n",
      "20:\tlearn: 0.5964518\ttotal: 677ms\tremaining: 1.26s\n",
      "21:\tlearn: 0.5941234\ttotal: 713ms\tremaining: 1.23s\n",
      "22:\tlearn: 0.5921338\ttotal: 749ms\tremaining: 1.2s\n",
      "23:\tlearn: 0.5902604\ttotal: 782ms\tremaining: 1.17s\n",
      "24:\tlearn: 0.5883185\ttotal: 814ms\tremaining: 1.14s\n",
      "25:\tlearn: 0.5866929\ttotal: 860ms\tremaining: 1.12s\n",
      "26:\tlearn: 0.5851121\ttotal: 890ms\tremaining: 1.09s\n",
      "27:\tlearn: 0.5834904\ttotal: 928ms\tremaining: 1.06s\n",
      "28:\tlearn: 0.5822551\ttotal: 969ms\tremaining: 1.03s\n",
      "29:\tlearn: 0.5809793\ttotal: 1s\tremaining: 1s\n",
      "30:\tlearn: 0.5797699\ttotal: 1.04s\tremaining: 978ms\n",
      "31:\tlearn: 0.5784297\ttotal: 1.08s\tremaining: 946ms\n",
      "32:\tlearn: 0.5772576\ttotal: 1.11s\tremaining: 913ms\n",
      "33:\tlearn: 0.5760966\ttotal: 1.16s\tremaining: 891ms\n",
      "34:\tlearn: 0.5750979\ttotal: 1.2s\tremaining: 859ms\n",
      "35:\tlearn: 0.5739744\ttotal: 1.26s\tremaining: 838ms\n",
      "36:\tlearn: 0.5730086\ttotal: 1.29s\tremaining: 803ms\n",
      "37:\tlearn: 0.5720583\ttotal: 1.33s\tremaining: 772ms\n",
      "38:\tlearn: 0.5712271\ttotal: 1.38s\tremaining: 742ms\n",
      "39:\tlearn: 0.5705415\ttotal: 1.43s\tremaining: 716ms\n",
      "40:\tlearn: 0.5698907\ttotal: 1.47s\tremaining: 681ms\n",
      "41:\tlearn: 0.5692670\ttotal: 1.51s\tremaining: 649ms\n",
      "42:\tlearn: 0.5686639\ttotal: 1.56s\tremaining: 618ms\n",
      "43:\tlearn: 0.5681147\ttotal: 1.6s\tremaining: 581ms\n",
      "44:\tlearn: 0.5675063\ttotal: 1.63s\tremaining: 543ms\n",
      "45:\tlearn: 0.5669714\ttotal: 1.67s\tremaining: 507ms\n",
      "46:\tlearn: 0.5664159\ttotal: 1.7s\tremaining: 471ms\n",
      "47:\tlearn: 0.5658547\ttotal: 1.75s\tremaining: 437ms\n",
      "48:\tlearn: 0.5653062\ttotal: 1.78s\tremaining: 399ms\n",
      "49:\tlearn: 0.5647899\ttotal: 1.82s\tremaining: 363ms\n",
      "50:\tlearn: 0.5643404\ttotal: 1.86s\tremaining: 328ms\n",
      "51:\tlearn: 0.5639055\ttotal: 1.91s\tremaining: 294ms\n",
      "52:\tlearn: 0.5633954\ttotal: 1.95s\tremaining: 258ms\n",
      "53:\tlearn: 0.5629779\ttotal: 1.99s\tremaining: 221ms\n",
      "54:\tlearn: 0.5626063\ttotal: 2.02s\tremaining: 184ms\n",
      "55:\tlearn: 0.5622577\ttotal: 2.06s\tremaining: 147ms\n",
      "56:\tlearn: 0.5618856\ttotal: 2.1s\tremaining: 110ms\n",
      "57:\tlearn: 0.5615226\ttotal: 2.13s\tremaining: 73.4ms\n",
      "58:\tlearn: 0.5611575\ttotal: 2.17s\tremaining: 36.8ms\n",
      "59:\tlearn: 0.5608880\ttotal: 2.2s\tremaining: 0us\n",
      "Time taken by function: 0 hours , 0 mins and 21.28462 secs\n"
     ]
    }
   ],
   "source": [
    "cbc = CatBoostClassifier(random_state=42)\n",
    "\n",
    "parameters = {\n",
    "    'depth': [4,5,6,7,8,9, 10],\n",
    "    'learning_rate': [0.01,0.02,0.03,0.04],\n",
    "    'iterations': [10, 20,30,40,50,60,70,80,90,100]\n",
    "}\n",
    "\n",
    "start_time = utils.timer(None)\n",
    "\n",
    "cbc_randomcv = RandomizedSearchCV(cbc, parameters, n_iter=1, random_state=42, cv=4,scoring='roc_auc',verbose=8)\n",
    "cbc_randomcv.fit(X_train, y_train)\n",
    "\n",
    "utils.timer(start_time)"
   ]
  },
  {
   "cell_type": "markdown",
   "metadata": {},
   "source": [
    "#### 4.1 - Catboost  Classifier: Best hyperparameters with RandomizedsearchCV "
   ]
  },
  {
   "cell_type": "code",
   "execution_count": 26,
   "metadata": {},
   "outputs": [
    {
     "name": "stdout",
     "output_type": "stream",
     "text": [
      "CatBoost Classifier:\n",
      "\n",
      "Best params:\n",
      "learning_rate : 0.03\n",
      "iterations : 60\n",
      "depth : 6\n",
      "\n",
      "Best Score: 0.616874\n",
      "\n"
     ]
    }
   ],
   "source": [
    "print(f'CatBoost Classifier:\\n\\nBest params:')\n",
    "for key, values in cbc_randomcv.best_params_.items():\n",
    "  print(f'{key} : {values}')\n",
    "print(f\"\\nBest Score: {cbc_randomcv.best_score_:.6f}\\n\")"
   ]
  },
  {
   "cell_type": "markdown",
   "metadata": {},
   "source": [
    "#### 4.2 - CatBoost Classifier: Inference time"
   ]
  },
  {
   "cell_type": "code",
   "execution_count": 27,
   "metadata": {},
   "outputs": [
    {
     "name": "stdout",
     "output_type": "stream",
     "text": [
      "Time taken by function: 0 hours , 0 mins and 0.063919 secs\n"
     ]
    }
   ],
   "source": [
    "start_time = utils.timer(None)\n",
    "\n",
    "y_pred = cbc_randomcv.predict(X_test.iloc[0].values.reshape(1,-1))\n",
    "\n",
    "utils.timer(start_time)"
   ]
  },
  {
   "cell_type": "markdown",
   "metadata": {},
   "source": [
    "#### 4.3 - CatBoost  Classifier: Performance metrics and classification report"
   ]
  },
  {
   "cell_type": "code",
   "execution_count": 28,
   "metadata": {},
   "outputs": [
    {
     "name": "stdout",
     "output_type": "stream",
     "text": [
      "Time taken by function: 0 hours , 0 mins and 0.549788 secs\n"
     ]
    }
   ],
   "source": [
    "start_time = utils.timer(None)\n",
    "\n",
    "y_pred = cbc_randomcv.predict(X_test)\n",
    "\n",
    "utils.timer(start_time)"
   ]
  },
  {
   "cell_type": "code",
   "execution_count": 29,
   "metadata": {
    "scrolled": true
   },
   "outputs": [
    {
     "name": "stdout",
     "output_type": "stream",
     "text": [
      "Model Performance metrics:\n",
      "------------------------------\n",
      "Accuracy: 0.7392\n",
      "Precision: 0.0\n",
      "Recall: 0.0\n",
      "F1 Score: 0.0\n",
      "\n",
      "Model Classification report:\n",
      "------------------------------\n",
      "              precision    recall  f1-score   support\n",
      "\n",
      "           0       0.74      1.00      0.85      7392\n",
      "           1       0.00      0.00      0.00      2608\n",
      "\n",
      "    accuracy                           0.74     10000\n",
      "   macro avg       0.37      0.50      0.43     10000\n",
      "weighted avg       0.55      0.74      0.63     10000\n",
      "\n",
      "\n",
      "Prediction Confusion Matrix:\n",
      "------------------------------\n",
      "      0  1\n",
      "0  7392  0\n",
      "1  2608  0\n"
     ]
    },
    {
     "name": "stderr",
     "output_type": "stream",
     "text": [
      "/home/app/.local/lib/python3.8/site-packages/sklearn/metrics/_classification.py:1327: UndefinedMetricWarning: Precision is ill-defined and being set to 0.0 due to no predicted samples. Use `zero_division` parameter to control this behavior.\n",
      "  _warn_prf(average, modifier, msg_start, len(result))\n",
      "/home/app/.local/lib/python3.8/site-packages/sklearn/metrics/_classification.py:1327: UndefinedMetricWarning: Precision and F-score are ill-defined and being set to 0.0 in labels with no predicted samples. Use `zero_division` parameter to control this behavior.\n",
      "  _warn_prf(average, modifier, msg_start, len(result))\n",
      "/home/app/.local/lib/python3.8/site-packages/sklearn/metrics/_classification.py:1327: UndefinedMetricWarning: Precision and F-score are ill-defined and being set to 0.0 in labels with no predicted samples. Use `zero_division` parameter to control this behavior.\n",
      "  _warn_prf(average, modifier, msg_start, len(result))\n",
      "/home/app/.local/lib/python3.8/site-packages/sklearn/metrics/_classification.py:1327: UndefinedMetricWarning: Precision and F-score are ill-defined and being set to 0.0 in labels with no predicted samples. Use `zero_division` parameter to control this behavior.\n",
      "  _warn_prf(average, modifier, msg_start, len(result))\n"
     ]
    },
    {
     "data": {
      "image/png": "[encoded data removed]",
      "text/plain": [
       "<Figure size 720x360 with 1 Axes>"
      ]
     },
     "metadata": {
      "needs_background": "light"
     },
     "output_type": "display_data"
    }
   ],
   "source": [
    "accuracy, precision, recall, f1_score = predict_model.get_performance(y_pred,y_test,labels=[0,1])\n",
    "roc_auc = predict_model.plot_roc(cbc_randomcv,y_test,X_test)"
   ]
  },
  {
   "cell_type": "markdown",
   "metadata": {},
   "source": [
    "#### 4.4 - CatBoost Classifier: Save model\n"
   ]
  },
  {
   "cell_type": "code",
   "execution_count": 56,
   "metadata": {
    "scrolled": true
   },
   "outputs": [
    {
     "name": "stdout",
     "output_type": "stream",
     "text": [
      "Object saved successfully in ../src/models/trained_models/cbc.pickle with 0.2MB.\n"
     ]
    }
   ],
   "source": [
    "utils.save_data_checkpoint(cbc_randomcv,'../src/models/trained_models/cbc.pickle')"
   ]
  }
 ],
 "metadata": {
  "kernelspec": {
   "display_name": "Python 3 (ipykernel)",
   "language": "python",
   "name": "python3"
  },
  "language_info": {
   "codemirror_mode": {
    "name": "ipython",
    "version": 3
   },
   "file_extension": ".py",
   "mimetype": "text/x-python",
   "name": "python",
   "nbconvert_exporter": "python",
   "pygments_lexer": "ipython3",
   "version": "3.8.13"
  },
  "vscode": {
   "interpreter": {
    "hash": "63413d40248b15c5e3979e4e9ac9f50870b25d2b4b7e5c66b4da92bd9f0fa5ed"
   }
  }
 },
 "nbformat": 4,
 "nbformat_minor": 2
}
