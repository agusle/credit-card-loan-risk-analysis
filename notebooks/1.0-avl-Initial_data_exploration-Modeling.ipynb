{
 "cells": [
  {
   "cell_type": "markdown",
   "id": "bc1e3b08",
   "metadata": {},
   "source": [
    "# <center> Exploratory Data Analysis</center>\n",
    "\n",
    "## <center> PAKDD2010_Modeling_Data.txt</center>\n"
   ]
  },
  {
   "cell_type": "code",
   "execution_count": 1,
   "id": "8e3bd481",
   "metadata": {},
   "outputs": [],
   "source": [
    "import pandas as pd\n",
    "import xlrd\n",
    "import IPython.display\n",
    "import matplotlib.pyplot as plt\n",
    "import seaborn as sns\n",
    "import numpy as np\n",
    "from sklearn.model_selection import train_test_split\n",
    "from src.visualization import visualize\n",
    "from src import utils"
   ]
  },
  {
   "cell_type": "markdown",
   "id": "c2cf9e87",
   "metadata": {},
   "source": [
    "----------------\n",
    "### Load dataset\n",
    "--------"
   ]
  },
  {
   "cell_type": "code",
   "execution_count": 2,
   "id": "077f2b5e",
   "metadata": {
    "scrolled": true
   },
   "outputs": [
    {
     "name": "stdout",
     "output_type": "stream",
     "text": [
      "<class 'list'>\n",
      "54 features in original list\n",
      "53 unique elements in list\n"
     ]
    }
   ],
   "source": [
    "#take headers from VariablesList.XLS\n",
    "headers_df = pd.read_excel('../data/raw/PAKDD2010_VariablesList.XLS') # can also index sheet by name or fetch all sheets\n",
    "headers = headers_df['Var_Title'].tolist()\n",
    "\n",
    "print(f'{type(headers)}\\n'\n",
    "      f'{len(headers)} features in original list\\n'\n",
    "      f'{len(set(headers))} unique elements in list')"
   ]
  },
  {
   "cell_type": "code",
   "execution_count": 3,
   "id": "e8357d10",
   "metadata": {
    "scrolled": true
   },
   "outputs": [
    {
     "name": "stdout",
     "output_type": "stream",
     "text": [
      "EDUCATION_LEVEL feature is duplicated and is replaced by EDUCATION_LEVEL_2\n"
     ]
    }
   ],
   "source": [
    "#replace duplicate headers\n",
    "\n",
    "headers_unique = []\n",
    "\n",
    "for header in headers:\n",
    "    if header not in headers_unique:\n",
    "        headers_unique.append(header)\n",
    "    else:\n",
    "        header_duplicated = header + \"_2\"\n",
    "        headers_unique.append(header_duplicated)\n",
    "        print(f'{header} feature is duplicated and is replaced by {header_duplicated}')"
   ]
  },
  {
   "cell_type": "code",
   "execution_count": 4,
   "id": "60793f70",
   "metadata": {
    "scrolled": false
   },
   "outputs": [
    {
     "name": "stdout",
     "output_type": "stream",
     "text": [
      "Object saved successfully in ../data/raw/features_list.pickle with 0.0MB.\n"
     ]
    }
   ],
   "source": [
    "#save features list\n",
    "features_list = headers_unique.copy()\n",
    "features_list.remove(\"ID_CLIENT\")\n",
    "features_list.remove(\"TARGET_LABEL_BAD=1\")\n",
    "utils.save_data_checkpoint(features_list,'../data/raw/features_list.pickle')"
   ]
  },
  {
   "cell_type": "markdown",
   "id": "eb2a8009",
   "metadata": {},
   "source": [
    "-----------------------------------------------\n",
    "### Brief dataset features description\n",
    "-----------------------------------------------\n",
    "\n"
   ]
  },
  {
   "cell_type": "code",
   "execution_count": 5,
   "id": "e7b36773",
   "metadata": {
    "scrolled": false
   },
   "outputs": [
    {
     "data": {
      "text/html": [
       "<table border=\"1\" class=\"dataframe\">\n",
       "  <thead>\n",
       "    <tr style=\"text-align: right;\">\n",
       "      <th></th>\n",
       "      <th>CLERK_TYPE</th>\n",
       "      <th>PAYMENT_DAY</th>\n",
       "      <th>APPLICATION_SUBMISSION_TYPE</th>\n",
       "      <th>QUANT_ADDITIONAL_CARDS</th>\n",
       "      <th>POSTAL_ADDRESS_TYPE</th>\n",
       "      <th>SEX</th>\n",
       "      <th>MARITAL_STATUS</th>\n",
       "      <th>QUANT_DEPENDANTS</th>\n",
       "      <th>EDUCATION_LEVEL</th>\n",
       "      <th>STATE_OF_BIRTH</th>\n",
       "      <th>CITY_OF_BIRTH</th>\n",
       "      <th>NACIONALITY</th>\n",
       "      <th>RESIDENCIAL_STATE</th>\n",
       "      <th>RESIDENCIAL_CITY</th>\n",
       "      <th>RESIDENCIAL_BOROUGH</th>\n",
       "      <th>FLAG_RESIDENCIAL_PHONE</th>\n",
       "      <th>RESIDENCIAL_PHONE_AREA_CODE</th>\n",
       "      <th>RESIDENCE_TYPE</th>\n",
       "      <th>MONTHS_IN_RESIDENCE</th>\n",
       "      <th>FLAG_MOBILE_PHONE</th>\n",
       "      <th>FLAG_EMAIL</th>\n",
       "      <th>PERSONAL_MONTHLY_INCOME</th>\n",
       "      <th>OTHER_INCOMES</th>\n",
       "      <th>FLAG_VISA</th>\n",
       "      <th>FLAG_MASTERCARD</th>\n",
       "      <th>FLAG_DINERS</th>\n",
       "      <th>FLAG_AMERICAN_EXPRESS</th>\n",
       "      <th>FLAG_OTHER_CARDS</th>\n",
       "      <th>QUANT_BANKING_ACCOUNTS</th>\n",
       "      <th>QUANT_SPECIAL_BANKING_ACCOUNTS</th>\n",
       "      <th>PERSONAL_ASSETS_VALUE</th>\n",
       "      <th>QUANT_CARS</th>\n",
       "      <th>COMPANY</th>\n",
       "      <th>PROFESSIONAL_STATE</th>\n",
       "      <th>PROFESSIONAL_CITY</th>\n",
       "      <th>PROFESSIONAL_BOROUGH</th>\n",
       "      <th>FLAG_PROFESSIONAL_PHONE</th>\n",
       "      <th>PROFESSIONAL_PHONE_AREA_CODE</th>\n",
       "      <th>MONTHS_IN_THE_JOB</th>\n",
       "      <th>PROFESSION_CODE</th>\n",
       "      <th>OCCUPATION_TYPE</th>\n",
       "      <th>MATE_PROFESSION_CODE</th>\n",
       "      <th>EDUCATION_LEVEL_2</th>\n",
       "      <th>FLAG_HOME_ADDRESS_DOCUMENT</th>\n",
       "      <th>FLAG_RG</th>\n",
       "      <th>FLAG_CPF</th>\n",
       "      <th>FLAG_INCOME_PROOF</th>\n",
       "      <th>PRODUCT</th>\n",
       "      <th>FLAG_ACSP_RECORD</th>\n",
       "      <th>AGE</th>\n",
       "      <th>RESIDENCIAL_ZIP_3</th>\n",
       "      <th>PROFESSIONAL_ZIP_3</th>\n",
       "      <th>TARGET_LABEL_BAD=1</th>\n",
       "    </tr>\n",
       "    <tr>\n",
       "      <th>ID_CLIENT</th>\n",
       "      <th></th>\n",
       "      <th></th>\n",
       "      <th></th>\n",
       "      <th></th>\n",
       "      <th></th>\n",
       "      <th></th>\n",
       "      <th></th>\n",
       "      <th></th>\n",
       "      <th></th>\n",
       "      <th></th>\n",
       "      <th></th>\n",
       "      <th></th>\n",
       "      <th></th>\n",
       "      <th></th>\n",
       "      <th></th>\n",
       "      <th></th>\n",
       "      <th></th>\n",
       "      <th></th>\n",
       "      <th></th>\n",
       "      <th></th>\n",
       "      <th></th>\n",
       "      <th></th>\n",
       "      <th></th>\n",
       "      <th></th>\n",
       "      <th></th>\n",
       "      <th></th>\n",
       "      <th></th>\n",
       "      <th></th>\n",
       "      <th></th>\n",
       "      <th></th>\n",
       "      <th></th>\n",
       "      <th></th>\n",
       "      <th></th>\n",
       "      <th></th>\n",
       "      <th></th>\n",
       "      <th></th>\n",
       "      <th></th>\n",
       "      <th></th>\n",
       "      <th></th>\n",
       "      <th></th>\n",
       "      <th></th>\n",
       "      <th></th>\n",
       "      <th></th>\n",
       "      <th></th>\n",
       "      <th></th>\n",
       "      <th></th>\n",
       "      <th></th>\n",
       "      <th></th>\n",
       "      <th></th>\n",
       "      <th></th>\n",
       "      <th></th>\n",
       "      <th></th>\n",
       "      <th></th>\n",
       "    </tr>\n",
       "  </thead>\n",
       "  <tbody>\n",
       "    <tr>\n",
       "      <th>1</th>\n",
       "      <td>C</td>\n",
       "      <td>5</td>\n",
       "      <td>Web</td>\n",
       "      <td>0</td>\n",
       "      <td>1</td>\n",
       "      <td>F</td>\n",
       "      <td>6</td>\n",
       "      <td>1</td>\n",
       "      <td>0</td>\n",
       "      <td>RN</td>\n",
       "      <td>Assu</td>\n",
       "      <td>1</td>\n",
       "      <td>RN</td>\n",
       "      <td>Santana do Matos</td>\n",
       "      <td>Centro</td>\n",
       "      <td>Y</td>\n",
       "      <td>105</td>\n",
       "      <td>1.0</td>\n",
       "      <td>15.0</td>\n",
       "      <td>N</td>\n",
       "      <td>1</td>\n",
       "      <td>900.0</td>\n",
       "      <td>0.0</td>\n",
       "      <td>1</td>\n",
       "      <td>1</td>\n",
       "      <td>0</td>\n",
       "      <td>0</td>\n",
       "      <td>0</td>\n",
       "      <td>0</td>\n",
       "      <td>0</td>\n",
       "      <td>0.0</td>\n",
       "      <td>0</td>\n",
       "      <td>N</td>\n",
       "      <td></td>\n",
       "      <td>NaN</td>\n",
       "      <td>NaN</td>\n",
       "      <td>N</td>\n",
       "      <td></td>\n",
       "      <td>0</td>\n",
       "      <td>9.0</td>\n",
       "      <td>4.0</td>\n",
       "      <td>NaN</td>\n",
       "      <td>NaN</td>\n",
       "      <td>0</td>\n",
       "      <td>0</td>\n",
       "      <td>0</td>\n",
       "      <td>0</td>\n",
       "      <td>1</td>\n",
       "      <td>N</td>\n",
       "      <td>32</td>\n",
       "      <td>595</td>\n",
       "      <td>595</td>\n",
       "      <td>1</td>\n",
       "    </tr>\n",
       "    <tr>\n",
       "      <th>2</th>\n",
       "      <td>C</td>\n",
       "      <td>15</td>\n",
       "      <td>Carga</td>\n",
       "      <td>0</td>\n",
       "      <td>1</td>\n",
       "      <td>F</td>\n",
       "      <td>2</td>\n",
       "      <td>0</td>\n",
       "      <td>0</td>\n",
       "      <td>RJ</td>\n",
       "      <td>rio de janeiro</td>\n",
       "      <td>1</td>\n",
       "      <td>RJ</td>\n",
       "      <td>RIO DE JANEIRO</td>\n",
       "      <td>CAMPO GRANDE</td>\n",
       "      <td>Y</td>\n",
       "      <td>20</td>\n",
       "      <td>1.0</td>\n",
       "      <td>1.0</td>\n",
       "      <td>N</td>\n",
       "      <td>1</td>\n",
       "      <td>750.0</td>\n",
       "      <td>0.0</td>\n",
       "      <td>0</td>\n",
       "      <td>0</td>\n",
       "      <td>0</td>\n",
       "      <td>0</td>\n",
       "      <td>0</td>\n",
       "      <td>0</td>\n",
       "      <td>0</td>\n",
       "      <td>0.0</td>\n",
       "      <td>0</td>\n",
       "      <td>Y</td>\n",
       "      <td></td>\n",
       "      <td>NaN</td>\n",
       "      <td>NaN</td>\n",
       "      <td>N</td>\n",
       "      <td></td>\n",
       "      <td>0</td>\n",
       "      <td>11.0</td>\n",
       "      <td>4.0</td>\n",
       "      <td>11.0</td>\n",
       "      <td>NaN</td>\n",
       "      <td>0</td>\n",
       "      <td>0</td>\n",
       "      <td>0</td>\n",
       "      <td>0</td>\n",
       "      <td>1</td>\n",
       "      <td>N</td>\n",
       "      <td>34</td>\n",
       "      <td>230</td>\n",
       "      <td>230</td>\n",
       "      <td>1</td>\n",
       "    </tr>\n",
       "    <tr>\n",
       "      <th>3</th>\n",
       "      <td>C</td>\n",
       "      <td>5</td>\n",
       "      <td>Web</td>\n",
       "      <td>0</td>\n",
       "      <td>1</td>\n",
       "      <td>F</td>\n",
       "      <td>2</td>\n",
       "      <td>0</td>\n",
       "      <td>0</td>\n",
       "      <td>RN</td>\n",
       "      <td>GARANHUNS</td>\n",
       "      <td>1</td>\n",
       "      <td>RN</td>\n",
       "      <td>Parnamirim</td>\n",
       "      <td>Boa Esperanca</td>\n",
       "      <td>Y</td>\n",
       "      <td>105</td>\n",
       "      <td>1.0</td>\n",
       "      <td>NaN</td>\n",
       "      <td>N</td>\n",
       "      <td>1</td>\n",
       "      <td>500.0</td>\n",
       "      <td>0.0</td>\n",
       "      <td>0</td>\n",
       "      <td>0</td>\n",
       "      <td>0</td>\n",
       "      <td>0</td>\n",
       "      <td>0</td>\n",
       "      <td>0</td>\n",
       "      <td>0</td>\n",
       "      <td>0.0</td>\n",
       "      <td>0</td>\n",
       "      <td>N</td>\n",
       "      <td></td>\n",
       "      <td>NaN</td>\n",
       "      <td>NaN</td>\n",
       "      <td>N</td>\n",
       "      <td></td>\n",
       "      <td>0</td>\n",
       "      <td>11.0</td>\n",
       "      <td>NaN</td>\n",
       "      <td>NaN</td>\n",
       "      <td>NaN</td>\n",
       "      <td>0</td>\n",
       "      <td>0</td>\n",
       "      <td>0</td>\n",
       "      <td>0</td>\n",
       "      <td>1</td>\n",
       "      <td>N</td>\n",
       "      <td>27</td>\n",
       "      <td>591</td>\n",
       "      <td>591</td>\n",
       "      <td>0</td>\n",
       "    </tr>\n",
       "    <tr>\n",
       "      <th>4</th>\n",
       "      <td>C</td>\n",
       "      <td>20</td>\n",
       "      <td>Web</td>\n",
       "      <td>0</td>\n",
       "      <td>1</td>\n",
       "      <td>F</td>\n",
       "      <td>2</td>\n",
       "      <td>0</td>\n",
       "      <td>0</td>\n",
       "      <td>PE</td>\n",
       "      <td>CABO</td>\n",
       "      <td>1</td>\n",
       "      <td>PE</td>\n",
       "      <td>CABO</td>\n",
       "      <td>PONTE DOS CARVALHOS</td>\n",
       "      <td>N</td>\n",
       "      <td></td>\n",
       "      <td>NaN</td>\n",
       "      <td>NaN</td>\n",
       "      <td>N</td>\n",
       "      <td>1</td>\n",
       "      <td>500.0</td>\n",
       "      <td>0.0</td>\n",
       "      <td>0</td>\n",
       "      <td>0</td>\n",
       "      <td>0</td>\n",
       "      <td>0</td>\n",
       "      <td>0</td>\n",
       "      <td>0</td>\n",
       "      <td>0</td>\n",
       "      <td>0.0</td>\n",
       "      <td>0</td>\n",
       "      <td>N</td>\n",
       "      <td></td>\n",
       "      <td>NaN</td>\n",
       "      <td>NaN</td>\n",
       "      <td>N</td>\n",
       "      <td></td>\n",
       "      <td>0</td>\n",
       "      <td>NaN</td>\n",
       "      <td>NaN</td>\n",
       "      <td>NaN</td>\n",
       "      <td>NaN</td>\n",
       "      <td>0</td>\n",
       "      <td>0</td>\n",
       "      <td>0</td>\n",
       "      <td>0</td>\n",
       "      <td>1</td>\n",
       "      <td>N</td>\n",
       "      <td>61</td>\n",
       "      <td>545</td>\n",
       "      <td>545</td>\n",
       "      <td>0</td>\n",
       "    </tr>\n",
       "    <tr>\n",
       "      <th>5</th>\n",
       "      <td>C</td>\n",
       "      <td>10</td>\n",
       "      <td>Web</td>\n",
       "      <td>0</td>\n",
       "      <td>1</td>\n",
       "      <td>M</td>\n",
       "      <td>2</td>\n",
       "      <td>0</td>\n",
       "      <td>0</td>\n",
       "      <td>RJ</td>\n",
       "      <td>RIO DE JANEIRO</td>\n",
       "      <td>1</td>\n",
       "      <td>RJ</td>\n",
       "      <td>Rio de Janeiro</td>\n",
       "      <td>Santa Cruz</td>\n",
       "      <td>Y</td>\n",
       "      <td>20</td>\n",
       "      <td>1.0</td>\n",
       "      <td>12.0</td>\n",
       "      <td>N</td>\n",
       "      <td>1</td>\n",
       "      <td>1200.0</td>\n",
       "      <td>0.0</td>\n",
       "      <td>0</td>\n",
       "      <td>0</td>\n",
       "      <td>0</td>\n",
       "      <td>0</td>\n",
       "      <td>0</td>\n",
       "      <td>0</td>\n",
       "      <td>0</td>\n",
       "      <td>0.0</td>\n",
       "      <td>0</td>\n",
       "      <td>N</td>\n",
       "      <td></td>\n",
       "      <td>NaN</td>\n",
       "      <td>NaN</td>\n",
       "      <td>N</td>\n",
       "      <td></td>\n",
       "      <td>0</td>\n",
       "      <td>9.0</td>\n",
       "      <td>5.0</td>\n",
       "      <td>NaN</td>\n",
       "      <td>NaN</td>\n",
       "      <td>0</td>\n",
       "      <td>0</td>\n",
       "      <td>0</td>\n",
       "      <td>0</td>\n",
       "      <td>1</td>\n",
       "      <td>N</td>\n",
       "      <td>48</td>\n",
       "      <td>235</td>\n",
       "      <td>235</td>\n",
       "      <td>1</td>\n",
       "    </tr>\n",
       "  </tbody>\n",
       "</table>"
      ],
      "text/plain": [
       "<IPython.core.display.HTML object>"
      ]
     },
     "execution_count": 5,
     "metadata": {},
     "output_type": "execute_result"
    }
   ],
   "source": [
    "#create train dataframe with headers\n",
    "df = pd.read_csv('../data/raw/PAKDD2010_Modeling_Data.txt', sep='\\t', encoding= 'unicode_escape', names= headers_unique, low_memory=False, index_col ='ID_CLIENT' )\n",
    "IPython.display.HTML(df.head().to_html())"
   ]
  },
  {
   "cell_type": "code",
   "execution_count": 6,
   "id": "612a19f5",
   "metadata": {
    "scrolled": true
   },
   "outputs": [
    {
     "name": "stdout",
     "output_type": "stream",
     "text": [
      "<class 'pandas.core.frame.DataFrame'>\n",
      "Int64Index: 50000 entries, 1 to 50000\n",
      "Data columns (total 53 columns):\n",
      " #   Column                          Non-Null Count  Dtype  \n",
      "---  ------                          --------------  -----  \n",
      " 0   CLERK_TYPE                      50000 non-null  object \n",
      " 1   PAYMENT_DAY                     50000 non-null  int64  \n",
      " 2   APPLICATION_SUBMISSION_TYPE     50000 non-null  object \n",
      " 3   QUANT_ADDITIONAL_CARDS          50000 non-null  int64  \n",
      " 4   POSTAL_ADDRESS_TYPE             50000 non-null  int64  \n",
      " 5   SEX                             50000 non-null  object \n",
      " 6   MARITAL_STATUS                  50000 non-null  int64  \n",
      " 7   QUANT_DEPENDANTS                50000 non-null  int64  \n",
      " 8   EDUCATION_LEVEL                 50000 non-null  int64  \n",
      " 9   STATE_OF_BIRTH                  50000 non-null  object \n",
      " 10  CITY_OF_BIRTH                   50000 non-null  object \n",
      " 11  NACIONALITY                     50000 non-null  int64  \n",
      " 12  RESIDENCIAL_STATE               50000 non-null  object \n",
      " 13  RESIDENCIAL_CITY                50000 non-null  object \n",
      " 14  RESIDENCIAL_BOROUGH             50000 non-null  object \n",
      " 15  FLAG_RESIDENCIAL_PHONE          50000 non-null  object \n",
      " 16  RESIDENCIAL_PHONE_AREA_CODE     50000 non-null  object \n",
      " 17  RESIDENCE_TYPE                  48651 non-null  float64\n",
      " 18  MONTHS_IN_RESIDENCE             46223 non-null  float64\n",
      " 19  FLAG_MOBILE_PHONE               50000 non-null  object \n",
      " 20  FLAG_EMAIL                      50000 non-null  int64  \n",
      " 21  PERSONAL_MONTHLY_INCOME         50000 non-null  float64\n",
      " 22  OTHER_INCOMES                   50000 non-null  float64\n",
      " 23  FLAG_VISA                       50000 non-null  int64  \n",
      " 24  FLAG_MASTERCARD                 50000 non-null  int64  \n",
      " 25  FLAG_DINERS                     50000 non-null  int64  \n",
      " 26  FLAG_AMERICAN_EXPRESS           50000 non-null  int64  \n",
      " 27  FLAG_OTHER_CARDS                50000 non-null  int64  \n",
      " 28  QUANT_BANKING_ACCOUNTS          50000 non-null  int64  \n",
      " 29  QUANT_SPECIAL_BANKING_ACCOUNTS  50000 non-null  int64  \n",
      " 30  PERSONAL_ASSETS_VALUE           50000 non-null  float64\n",
      " 31  QUANT_CARS                      50000 non-null  int64  \n",
      " 32  COMPANY                         50000 non-null  object \n",
      " 33  PROFESSIONAL_STATE              50000 non-null  object \n",
      " 34  PROFESSIONAL_CITY               16217 non-null  object \n",
      " 35  PROFESSIONAL_BOROUGH            16217 non-null  object \n",
      " 36  FLAG_PROFESSIONAL_PHONE         50000 non-null  object \n",
      " 37  PROFESSIONAL_PHONE_AREA_CODE    50000 non-null  object \n",
      " 38  MONTHS_IN_THE_JOB               50000 non-null  int64  \n",
      " 39  PROFESSION_CODE                 42244 non-null  float64\n",
      " 40  OCCUPATION_TYPE                 42687 non-null  float64\n",
      " 41  MATE_PROFESSION_CODE            21116 non-null  float64\n",
      " 42  EDUCATION_LEVEL_2               17662 non-null  float64\n",
      " 43  FLAG_HOME_ADDRESS_DOCUMENT      50000 non-null  int64  \n",
      " 44  FLAG_RG                         50000 non-null  int64  \n",
      " 45  FLAG_CPF                        50000 non-null  int64  \n",
      " 46  FLAG_INCOME_PROOF               50000 non-null  int64  \n",
      " 47  PRODUCT                         50000 non-null  int64  \n",
      " 48  FLAG_ACSP_RECORD                50000 non-null  object \n",
      " 49  AGE                             50000 non-null  int64  \n",
      " 50  RESIDENCIAL_ZIP_3               50000 non-null  object \n",
      " 51  PROFESSIONAL_ZIP_3              50000 non-null  object \n",
      " 52  TARGET_LABEL_BAD=1              50000 non-null  int64  \n",
      "dtypes: float64(9), int64(24), object(20)\n",
      "memory usage: 20.6+ MB\n"
     ]
    }
   ],
   "source": [
    "df.info()"
   ]
  },
  {
   "cell_type": "code",
   "execution_count": 7,
   "id": "68fe3069",
   "metadata": {
    "scrolled": false
   },
   "outputs": [
    {
     "data": {
      "text/html": [
       "<div>\n",
       "<style scoped>\n",
       "    .dataframe tbody tr th:only-of-type {\n",
       "        vertical-align: middle;\n",
       "    }\n",
       "\n",
       "    .dataframe tbody tr th {\n",
       "        vertical-align: top;\n",
       "    }\n",
       "\n",
       "    .dataframe thead th {\n",
       "        text-align: right;\n",
       "    }\n",
       "</style>\n",
       "<table border=\"1\" class=\"dataframe\">\n",
       "  <thead>\n",
       "    <tr style=\"text-align: right;\">\n",
       "      <th></th>\n",
       "      <th>PAYMENT_DAY</th>\n",
       "      <th>QUANT_ADDITIONAL_CARDS</th>\n",
       "      <th>POSTAL_ADDRESS_TYPE</th>\n",
       "      <th>MARITAL_STATUS</th>\n",
       "      <th>QUANT_DEPENDANTS</th>\n",
       "      <th>EDUCATION_LEVEL</th>\n",
       "      <th>NACIONALITY</th>\n",
       "      <th>RESIDENCE_TYPE</th>\n",
       "      <th>MONTHS_IN_RESIDENCE</th>\n",
       "      <th>FLAG_EMAIL</th>\n",
       "      <th>...</th>\n",
       "      <th>OCCUPATION_TYPE</th>\n",
       "      <th>MATE_PROFESSION_CODE</th>\n",
       "      <th>EDUCATION_LEVEL_2</th>\n",
       "      <th>FLAG_HOME_ADDRESS_DOCUMENT</th>\n",
       "      <th>FLAG_RG</th>\n",
       "      <th>FLAG_CPF</th>\n",
       "      <th>FLAG_INCOME_PROOF</th>\n",
       "      <th>PRODUCT</th>\n",
       "      <th>AGE</th>\n",
       "      <th>TARGET_LABEL_BAD=1</th>\n",
       "    </tr>\n",
       "  </thead>\n",
       "  <tbody>\n",
       "    <tr>\n",
       "      <th>count</th>\n",
       "      <td>50000.00</td>\n",
       "      <td>50000.0</td>\n",
       "      <td>50000.00</td>\n",
       "      <td>50000.00</td>\n",
       "      <td>50000.00</td>\n",
       "      <td>50000.0</td>\n",
       "      <td>50000.00</td>\n",
       "      <td>48651.00</td>\n",
       "      <td>46223.00</td>\n",
       "      <td>50000.0</td>\n",
       "      <td>...</td>\n",
       "      <td>42687.00</td>\n",
       "      <td>21116.00</td>\n",
       "      <td>17662.00</td>\n",
       "      <td>50000.0</td>\n",
       "      <td>50000.0</td>\n",
       "      <td>50000.0</td>\n",
       "      <td>50000.0</td>\n",
       "      <td>50000.00</td>\n",
       "      <td>50000.00</td>\n",
       "      <td>50000.00</td>\n",
       "    </tr>\n",
       "    <tr>\n",
       "      <th>mean</th>\n",
       "      <td>12.87</td>\n",
       "      <td>0.0</td>\n",
       "      <td>1.01</td>\n",
       "      <td>2.15</td>\n",
       "      <td>0.65</td>\n",
       "      <td>0.0</td>\n",
       "      <td>0.96</td>\n",
       "      <td>1.25</td>\n",
       "      <td>9.73</td>\n",
       "      <td>0.8</td>\n",
       "      <td>...</td>\n",
       "      <td>2.48</td>\n",
       "      <td>3.80</td>\n",
       "      <td>0.30</td>\n",
       "      <td>0.0</td>\n",
       "      <td>0.0</td>\n",
       "      <td>0.0</td>\n",
       "      <td>0.0</td>\n",
       "      <td>1.28</td>\n",
       "      <td>43.25</td>\n",
       "      <td>0.26</td>\n",
       "    </tr>\n",
       "    <tr>\n",
       "      <th>std</th>\n",
       "      <td>6.61</td>\n",
       "      <td>0.0</td>\n",
       "      <td>0.08</td>\n",
       "      <td>1.32</td>\n",
       "      <td>1.19</td>\n",
       "      <td>0.0</td>\n",
       "      <td>0.20</td>\n",
       "      <td>0.87</td>\n",
       "      <td>10.67</td>\n",
       "      <td>0.4</td>\n",
       "      <td>...</td>\n",
       "      <td>1.53</td>\n",
       "      <td>5.21</td>\n",
       "      <td>0.96</td>\n",
       "      <td>0.0</td>\n",
       "      <td>0.0</td>\n",
       "      <td>0.0</td>\n",
       "      <td>0.0</td>\n",
       "      <td>0.99</td>\n",
       "      <td>14.99</td>\n",
       "      <td>0.44</td>\n",
       "    </tr>\n",
       "    <tr>\n",
       "      <th>min</th>\n",
       "      <td>1.00</td>\n",
       "      <td>0.0</td>\n",
       "      <td>1.00</td>\n",
       "      <td>0.00</td>\n",
       "      <td>0.00</td>\n",
       "      <td>0.0</td>\n",
       "      <td>0.00</td>\n",
       "      <td>0.00</td>\n",
       "      <td>0.00</td>\n",
       "      <td>0.0</td>\n",
       "      <td>...</td>\n",
       "      <td>0.00</td>\n",
       "      <td>0.00</td>\n",
       "      <td>0.00</td>\n",
       "      <td>0.0</td>\n",
       "      <td>0.0</td>\n",
       "      <td>0.0</td>\n",
       "      <td>0.0</td>\n",
       "      <td>1.00</td>\n",
       "      <td>6.00</td>\n",
       "      <td>0.00</td>\n",
       "    </tr>\n",
       "    <tr>\n",
       "      <th>25%</th>\n",
       "      <td>10.00</td>\n",
       "      <td>0.0</td>\n",
       "      <td>1.00</td>\n",
       "      <td>1.00</td>\n",
       "      <td>0.00</td>\n",
       "      <td>0.0</td>\n",
       "      <td>1.00</td>\n",
       "      <td>1.00</td>\n",
       "      <td>1.00</td>\n",
       "      <td>1.0</td>\n",
       "      <td>...</td>\n",
       "      <td>1.00</td>\n",
       "      <td>0.00</td>\n",
       "      <td>0.00</td>\n",
       "      <td>0.0</td>\n",
       "      <td>0.0</td>\n",
       "      <td>0.0</td>\n",
       "      <td>0.0</td>\n",
       "      <td>1.00</td>\n",
       "      <td>31.00</td>\n",
       "      <td>0.00</td>\n",
       "    </tr>\n",
       "    <tr>\n",
       "      <th>50%</th>\n",
       "      <td>10.00</td>\n",
       "      <td>0.0</td>\n",
       "      <td>1.00</td>\n",
       "      <td>2.00</td>\n",
       "      <td>0.00</td>\n",
       "      <td>0.0</td>\n",
       "      <td>1.00</td>\n",
       "      <td>1.00</td>\n",
       "      <td>6.00</td>\n",
       "      <td>1.0</td>\n",
       "      <td>...</td>\n",
       "      <td>2.00</td>\n",
       "      <td>0.00</td>\n",
       "      <td>0.00</td>\n",
       "      <td>0.0</td>\n",
       "      <td>0.0</td>\n",
       "      <td>0.0</td>\n",
       "      <td>0.0</td>\n",
       "      <td>1.00</td>\n",
       "      <td>41.00</td>\n",
       "      <td>0.00</td>\n",
       "    </tr>\n",
       "    <tr>\n",
       "      <th>75%</th>\n",
       "      <td>15.00</td>\n",
       "      <td>0.0</td>\n",
       "      <td>1.00</td>\n",
       "      <td>2.00</td>\n",
       "      <td>1.00</td>\n",
       "      <td>0.0</td>\n",
       "      <td>1.00</td>\n",
       "      <td>1.00</td>\n",
       "      <td>15.00</td>\n",
       "      <td>1.0</td>\n",
       "      <td>...</td>\n",
       "      <td>4.00</td>\n",
       "      <td>11.00</td>\n",
       "      <td>0.00</td>\n",
       "      <td>0.0</td>\n",
       "      <td>0.0</td>\n",
       "      <td>0.0</td>\n",
       "      <td>0.0</td>\n",
       "      <td>1.00</td>\n",
       "      <td>53.00</td>\n",
       "      <td>1.00</td>\n",
       "    </tr>\n",
       "    <tr>\n",
       "      <th>max</th>\n",
       "      <td>25.00</td>\n",
       "      <td>0.0</td>\n",
       "      <td>2.00</td>\n",
       "      <td>7.00</td>\n",
       "      <td>53.00</td>\n",
       "      <td>0.0</td>\n",
       "      <td>2.00</td>\n",
       "      <td>5.00</td>\n",
       "      <td>228.00</td>\n",
       "      <td>1.0</td>\n",
       "      <td>...</td>\n",
       "      <td>5.00</td>\n",
       "      <td>17.00</td>\n",
       "      <td>5.00</td>\n",
       "      <td>0.0</td>\n",
       "      <td>0.0</td>\n",
       "      <td>0.0</td>\n",
       "      <td>0.0</td>\n",
       "      <td>7.00</td>\n",
       "      <td>106.00</td>\n",
       "      <td>1.00</td>\n",
       "    </tr>\n",
       "  </tbody>\n",
       "</table>\n",
       "<p>8 rows × 33 columns</p>\n",
       "</div>"
      ],
      "text/plain": [
       "       PAYMENT_DAY  QUANT_ADDITIONAL_CARDS  POSTAL_ADDRESS_TYPE  \\\n",
       "count     50000.00                 50000.0             50000.00   \n",
       "mean         12.87                     0.0                 1.01   \n",
       "std           6.61                     0.0                 0.08   \n",
       "min           1.00                     0.0                 1.00   \n",
       "25%          10.00                     0.0                 1.00   \n",
       "50%          10.00                     0.0                 1.00   \n",
       "75%          15.00                     0.0                 1.00   \n",
       "max          25.00                     0.0                 2.00   \n",
       "\n",
       "       MARITAL_STATUS  QUANT_DEPENDANTS  EDUCATION_LEVEL  NACIONALITY  \\\n",
       "count        50000.00          50000.00          50000.0     50000.00   \n",
       "mean             2.15              0.65              0.0         0.96   \n",
       "std              1.32              1.19              0.0         0.20   \n",
       "min              0.00              0.00              0.0         0.00   \n",
       "25%              1.00              0.00              0.0         1.00   \n",
       "50%              2.00              0.00              0.0         1.00   \n",
       "75%              2.00              1.00              0.0         1.00   \n",
       "max              7.00             53.00              0.0         2.00   \n",
       "\n",
       "       RESIDENCE_TYPE  MONTHS_IN_RESIDENCE  FLAG_EMAIL  ...  OCCUPATION_TYPE  \\\n",
       "count        48651.00             46223.00     50000.0  ...         42687.00   \n",
       "mean             1.25                 9.73         0.8  ...             2.48   \n",
       "std              0.87                10.67         0.4  ...             1.53   \n",
       "min              0.00                 0.00         0.0  ...             0.00   \n",
       "25%              1.00                 1.00         1.0  ...             1.00   \n",
       "50%              1.00                 6.00         1.0  ...             2.00   \n",
       "75%              1.00                15.00         1.0  ...             4.00   \n",
       "max              5.00               228.00         1.0  ...             5.00   \n",
       "\n",
       "       MATE_PROFESSION_CODE  EDUCATION_LEVEL_2  FLAG_HOME_ADDRESS_DOCUMENT  \\\n",
       "count              21116.00           17662.00                     50000.0   \n",
       "mean                   3.80               0.30                         0.0   \n",
       "std                    5.21               0.96                         0.0   \n",
       "min                    0.00               0.00                         0.0   \n",
       "25%                    0.00               0.00                         0.0   \n",
       "50%                    0.00               0.00                         0.0   \n",
       "75%                   11.00               0.00                         0.0   \n",
       "max                   17.00               5.00                         0.0   \n",
       "\n",
       "       FLAG_RG  FLAG_CPF  FLAG_INCOME_PROOF   PRODUCT       AGE  \\\n",
       "count  50000.0   50000.0            50000.0  50000.00  50000.00   \n",
       "mean       0.0       0.0                0.0      1.28     43.25   \n",
       "std        0.0       0.0                0.0      0.99     14.99   \n",
       "min        0.0       0.0                0.0      1.00      6.00   \n",
       "25%        0.0       0.0                0.0      1.00     31.00   \n",
       "50%        0.0       0.0                0.0      1.00     41.00   \n",
       "75%        0.0       0.0                0.0      1.00     53.00   \n",
       "max        0.0       0.0                0.0      7.00    106.00   \n",
       "\n",
       "       TARGET_LABEL_BAD=1  \n",
       "count            50000.00  \n",
       "mean                 0.26  \n",
       "std                  0.44  \n",
       "min                  0.00  \n",
       "25%                  0.00  \n",
       "50%                  0.00  \n",
       "75%                  1.00  \n",
       "max                  1.00  \n",
       "\n",
       "[8 rows x 33 columns]"
      ]
     },
     "execution_count": 7,
     "metadata": {},
     "output_type": "execute_result"
    }
   ],
   "source": [
    "round(df.describe(),2)"
   ]
  },
  {
   "cell_type": "code",
   "execution_count": 8,
   "id": "8ba7008e",
   "metadata": {},
   "outputs": [
    {
     "name": "stdout",
     "output_type": "stream",
     "text": [
      "Number of duplicated values in index: 0\n"
     ]
    }
   ],
   "source": [
    "print(f'Number of duplicated values in index: {df.index.duplicated().sum()}')"
   ]
  },
  {
   "cell_type": "code",
   "execution_count": 9,
   "id": "72644ae8",
   "metadata": {
    "scrolled": true
   },
   "outputs": [
    {
     "name": "stdout",
     "output_type": "stream",
     "text": [
      "Object saved successfully in ../data/raw/X_train.pickle with 16.62MB.\n"
     ]
    }
   ],
   "source": [
    "#save raw dataset\n",
    "raw_df = df[features_list]\n",
    "utils.save_data_checkpoint(raw_df,'../data/raw/X_train.pickle')"
   ]
  },
  {
   "cell_type": "markdown",
   "id": "60977018",
   "metadata": {},
   "source": [
    "-----------------------------------------------\n",
    "### Missing values and empty strings\n",
    "-----------------------------------------------"
   ]
  },
  {
   "cell_type": "code",
   "execution_count": 10,
   "id": "d4481cab",
   "metadata": {
    "scrolled": true
   },
   "outputs": [
    {
     "name": "stdout",
     "output_type": "stream",
     "text": [
      "                      NaN Values  % of NaN\n",
      "PROFESSIONAL_CITY          33783     67.57\n",
      "PROFESSIONAL_BOROUGH       33783     67.57\n",
      "EDUCATION_LEVEL_2          32338     64.68\n",
      "MATE_PROFESSION_CODE       28884     57.77\n",
      "PROFESSION_CODE             7756     15.51\n",
      "OCCUPATION_TYPE             7313     14.63\n",
      "MONTHS_IN_RESIDENCE         3777      7.55\n",
      "RESIDENCE_TYPE              1349      2.70\n",
      "\n",
      "                              Empty Values  % of empty\n",
      "PROFESSIONAL_PHONE_AREA_CODE         36532       73.06\n",
      "PROFESSIONAL_STATE                   34307       68.61\n",
      "RESIDENCIAL_PHONE_AREA_CODE           8212       16.42\n",
      "STATE_OF_BIRTH                        2064        4.13\n",
      "CITY_OF_BIRTH                         2064        4.13\n",
      "PROFESSIONAL_BOROUGH                   930        1.86\n",
      "PROFESSIONAL_CITY                      331        0.66\n",
      "SEX                                     17        0.03\n",
      "RESIDENCIAL_BOROUGH                     10        0.02\n"
     ]
    }
   ],
   "source": [
    "visualize.missing_values(df)"
   ]
  },
  {
   "cell_type": "code",
   "execution_count": 11,
   "id": "0de03467",
   "metadata": {},
   "outputs": [
    {
     "name": "stdout",
     "output_type": "stream",
     "text": [
      "Data without NaN values: 5,987 applicants of a total 50,000 corresponding to 11.97%.\n"
     ]
    }
   ],
   "source": [
    "without_nan = df.dropna().shape[0]\n",
    "\n",
    "print(f'Data without NaN values: {without_nan:,} applicants of a total {df.shape[0]:,} corresponding to {round((without_nan)/(df.shape[0]),4)*100}%.')"
   ]
  },
  {
   "cell_type": "code",
   "execution_count": 12,
   "id": "951a96a2",
   "metadata": {
    "scrolled": false
   },
   "outputs": [
    {
     "name": "stdout",
     "output_type": "stream",
     "text": [
      "Empty Data: 84,467 rows of a total 2,650,000 corresponding to 3.0%\n"
     ]
    }
   ],
   "source": [
    "empty_data = ((df.eq(' ')).sum()).sum()\n",
    "total_rows = df.shape[0]*df.shape[1]\n",
    "\n",
    "print(f'Empty Data: {empty_data:,} rows of a total {total_rows:,} corresponding to {round(empty_data/total_rows,2)*100}%')"
   ]
  },
  {
   "cell_type": "markdown",
   "id": "ff6d36c2",
   "metadata": {},
   "source": [
    "-----------------------------------------------\n",
    "### Features Datatypes\n",
    "-----------------------------------------------"
   ]
  },
  {
   "cell_type": "code",
   "execution_count": 13,
   "id": "5e3ccc19",
   "metadata": {
    "scrolled": false
   },
   "outputs": [
    {
     "name": "stdout",
     "output_type": "stream",
     "text": [
      "Dataset features datatypes:\n",
      "int64      24\n",
      "object     20\n",
      "float64     9\n",
      "dtype: int64\n"
     ]
    }
   ],
   "source": [
    "print(f'Dataset features datatypes:\\n{df.dtypes.value_counts()}')"
   ]
  },
  {
   "cell_type": "markdown",
   "id": "14cddf9a",
   "metadata": {},
   "source": [
    "#### Categorical Features"
   ]
  },
  {
   "cell_type": "code",
   "execution_count": 14,
   "id": "e2ef5760",
   "metadata": {
    "scrolled": false
   },
   "outputs": [
    {
     "name": "stdout",
     "output_type": "stream",
     "text": [
      "Categorical columns(20) classes:\n",
      "\n",
      "CLERK_TYPE                          1\n",
      "APPLICATION_SUBMISSION_TYPE         3\n",
      "SEX                                 4\n",
      "STATE_OF_BIRTH                     29\n",
      "CITY_OF_BIRTH                    9910\n",
      "RESIDENCIAL_STATE                  27\n",
      "RESIDENCIAL_CITY                 3529\n",
      "RESIDENCIAL_BOROUGH             14511\n",
      "FLAG_RESIDENCIAL_PHONE              2\n",
      "RESIDENCIAL_PHONE_AREA_CODE       102\n",
      "FLAG_MOBILE_PHONE                   1\n",
      "COMPANY                             2\n",
      "PROFESSIONAL_STATE                 28\n",
      "PROFESSIONAL_CITY                2236\n",
      "PROFESSIONAL_BOROUGH             5057\n",
      "FLAG_PROFESSIONAL_PHONE             2\n",
      "PROFESSIONAL_PHONE_AREA_CODE       87\n",
      "FLAG_ACSP_RECORD                    1\n",
      "RESIDENCIAL_ZIP_3                 794\n",
      "PROFESSIONAL_ZIP_3                794\n",
      "dtype: int64\n"
     ]
    }
   ],
   "source": [
    "cat_features = df.select_dtypes('O').nunique()\n",
    "cat_features_list = list(cat_features.index)\n",
    "print(f'Categorical columns({cat_features.shape[0]}) classes:\\n\\n{cat_features}')"
   ]
  },
  {
   "cell_type": "code",
   "execution_count": 15,
   "id": "d7c386ac",
   "metadata": {
    "scrolled": false
   },
   "outputs": [
    {
     "data": {
      "text/html": [
       "<div>\n",
       "<style scoped>\n",
       "    .dataframe tbody tr th:only-of-type {\n",
       "        vertical-align: middle;\n",
       "    }\n",
       "\n",
       "    .dataframe tbody tr th {\n",
       "        vertical-align: top;\n",
       "    }\n",
       "\n",
       "    .dataframe thead th {\n",
       "        text-align: right;\n",
       "    }\n",
       "</style>\n",
       "<table border=\"1\" class=\"dataframe\">\n",
       "  <thead>\n",
       "    <tr style=\"text-align: right;\">\n",
       "      <th></th>\n",
       "      <th>Count</th>\n",
       "      <th>%</th>\n",
       "    </tr>\n",
       "  </thead>\n",
       "  <tbody>\n",
       "    <tr>\n",
       "      <th>Web</th>\n",
       "      <td>28206</td>\n",
       "      <td>56.41</td>\n",
       "    </tr>\n",
       "    <tr>\n",
       "      <th>0</th>\n",
       "      <td>19461</td>\n",
       "      <td>38.92</td>\n",
       "    </tr>\n",
       "    <tr>\n",
       "      <th>Carga</th>\n",
       "      <td>2333</td>\n",
       "      <td>4.67</td>\n",
       "    </tr>\n",
       "  </tbody>\n",
       "</table>\n",
       "</div>"
      ],
      "text/plain": [
       "       Count      %\n",
       "Web    28206  56.41\n",
       "0      19461  38.92\n",
       "Carga   2333   4.67"
      ]
     },
     "execution_count": 15,
     "metadata": {},
     "output_type": "execute_result"
    }
   ],
   "source": [
    "visualize.series_count(df['APPLICATION_SUBMISSION_TYPE'])"
   ]
  },
  {
   "cell_type": "code",
   "execution_count": 16,
   "id": "fa98a841",
   "metadata": {},
   "outputs": [
    {
     "data": {
      "text/plain": [
       "ID_CLIENT\n",
       "6        0\n",
       "9        0\n",
       "10       0\n",
       "14       0\n",
       "18       0\n",
       "        ..\n",
       "49993    0\n",
       "49994    0\n",
       "49995    0\n",
       "49996    0\n",
       "49997    0\n",
       "Name: APPLICATION_SUBMISSION_TYPE, Length: 19461, dtype: object"
      ]
     },
     "execution_count": 16,
     "metadata": {},
     "output_type": "execute_result"
    }
   ],
   "source": [
    " df['APPLICATION_SUBMISSION_TYPE'][df['APPLICATION_SUBMISSION_TYPE']=='0']"
   ]
  },
  {
   "cell_type": "code",
   "execution_count": 17,
   "id": "a0fb19a0",
   "metadata": {
    "scrolled": true
   },
   "outputs": [
    {
     "data": {
      "text/html": [
       "<div>\n",
       "<style scoped>\n",
       "    .dataframe tbody tr th:only-of-type {\n",
       "        vertical-align: middle;\n",
       "    }\n",
       "\n",
       "    .dataframe tbody tr th {\n",
       "        vertical-align: top;\n",
       "    }\n",
       "\n",
       "    .dataframe thead th {\n",
       "        text-align: right;\n",
       "    }\n",
       "</style>\n",
       "<table border=\"1\" class=\"dataframe\">\n",
       "  <thead>\n",
       "    <tr style=\"text-align: right;\">\n",
       "      <th></th>\n",
       "      <th>Count</th>\n",
       "      <th>%</th>\n",
       "    </tr>\n",
       "  </thead>\n",
       "  <tbody>\n",
       "    <tr>\n",
       "      <th>F</th>\n",
       "      <td>30805</td>\n",
       "      <td>61.61</td>\n",
       "    </tr>\n",
       "    <tr>\n",
       "      <th>M</th>\n",
       "      <td>19130</td>\n",
       "      <td>38.26</td>\n",
       "    </tr>\n",
       "    <tr>\n",
       "      <th>N</th>\n",
       "      <td>48</td>\n",
       "      <td>0.10</td>\n",
       "    </tr>\n",
       "    <tr>\n",
       "      <th></th>\n",
       "      <td>17</td>\n",
       "      <td>0.03</td>\n",
       "    </tr>\n",
       "  </tbody>\n",
       "</table>\n",
       "</div>"
      ],
      "text/plain": [
       "   Count      %\n",
       "F  30805  61.61\n",
       "M  19130  38.26\n",
       "N     48   0.10\n",
       "      17   0.03"
      ]
     },
     "execution_count": 17,
     "metadata": {},
     "output_type": "execute_result"
    }
   ],
   "source": [
    "visualize.series_count(df['SEX'])"
   ]
  },
  {
   "cell_type": "code",
   "execution_count": 18,
   "id": "0aa33b3d",
   "metadata": {
    "scrolled": true
   },
   "outputs": [
    {
     "data": {
      "text/html": [
       "<div>\n",
       "<style scoped>\n",
       "    .dataframe tbody tr th:only-of-type {\n",
       "        vertical-align: middle;\n",
       "    }\n",
       "\n",
       "    .dataframe tbody tr th {\n",
       "        vertical-align: top;\n",
       "    }\n",
       "\n",
       "    .dataframe thead th {\n",
       "        text-align: right;\n",
       "    }\n",
       "</style>\n",
       "<table border=\"1\" class=\"dataframe\">\n",
       "  <thead>\n",
       "    <tr style=\"text-align: right;\">\n",
       "      <th></th>\n",
       "      <th>Count</th>\n",
       "      <th>%</th>\n",
       "    </tr>\n",
       "  </thead>\n",
       "  <tbody>\n",
       "    <tr>\n",
       "      <th>BA</th>\n",
       "      <td>5717</td>\n",
       "      <td>11.43</td>\n",
       "    </tr>\n",
       "    <tr>\n",
       "      <th>SP</th>\n",
       "      <td>5695</td>\n",
       "      <td>11.39</td>\n",
       "    </tr>\n",
       "    <tr>\n",
       "      <th>RS</th>\n",
       "      <td>5017</td>\n",
       "      <td>10.03</td>\n",
       "    </tr>\n",
       "    <tr>\n",
       "      <th>CE</th>\n",
       "      <td>4786</td>\n",
       "      <td>9.57</td>\n",
       "    </tr>\n",
       "    <tr>\n",
       "      <th>PE</th>\n",
       "      <td>4098</td>\n",
       "      <td>8.20</td>\n",
       "    </tr>\n",
       "    <tr>\n",
       "      <th>MG</th>\n",
       "      <td>3776</td>\n",
       "      <td>7.55</td>\n",
       "    </tr>\n",
       "    <tr>\n",
       "      <th></th>\n",
       "      <td>2064</td>\n",
       "      <td>4.13</td>\n",
       "    </tr>\n",
       "    <tr>\n",
       "      <th>RN</th>\n",
       "      <td>2008</td>\n",
       "      <td>4.02</td>\n",
       "    </tr>\n",
       "    <tr>\n",
       "      <th>PR</th>\n",
       "      <td>1971</td>\n",
       "      <td>3.94</td>\n",
       "    </tr>\n",
       "    <tr>\n",
       "      <th>RJ</th>\n",
       "      <td>1826</td>\n",
       "      <td>3.65</td>\n",
       "    </tr>\n",
       "    <tr>\n",
       "      <th>PA</th>\n",
       "      <td>1692</td>\n",
       "      <td>3.38</td>\n",
       "    </tr>\n",
       "    <tr>\n",
       "      <th>AL</th>\n",
       "      <td>1645</td>\n",
       "      <td>3.29</td>\n",
       "    </tr>\n",
       "    <tr>\n",
       "      <th>PB</th>\n",
       "      <td>1609</td>\n",
       "      <td>3.22</td>\n",
       "    </tr>\n",
       "    <tr>\n",
       "      <th>MA</th>\n",
       "      <td>1416</td>\n",
       "      <td>2.83</td>\n",
       "    </tr>\n",
       "    <tr>\n",
       "      <th>GO</th>\n",
       "      <td>1143</td>\n",
       "      <td>2.29</td>\n",
       "    </tr>\n",
       "    <tr>\n",
       "      <th>MT</th>\n",
       "      <td>849</td>\n",
       "      <td>1.70</td>\n",
       "    </tr>\n",
       "    <tr>\n",
       "      <th>SC</th>\n",
       "      <td>707</td>\n",
       "      <td>1.41</td>\n",
       "    </tr>\n",
       "    <tr>\n",
       "      <th>PI</th>\n",
       "      <td>675</td>\n",
       "      <td>1.35</td>\n",
       "    </tr>\n",
       "    <tr>\n",
       "      <th>ES</th>\n",
       "      <td>638</td>\n",
       "      <td>1.28</td>\n",
       "    </tr>\n",
       "    <tr>\n",
       "      <th>MS</th>\n",
       "      <td>496</td>\n",
       "      <td>0.99</td>\n",
       "    </tr>\n",
       "    <tr>\n",
       "      <th>AC</th>\n",
       "      <td>474</td>\n",
       "      <td>0.95</td>\n",
       "    </tr>\n",
       "    <tr>\n",
       "      <th>SE</th>\n",
       "      <td>356</td>\n",
       "      <td>0.71</td>\n",
       "    </tr>\n",
       "    <tr>\n",
       "      <th>AM</th>\n",
       "      <td>354</td>\n",
       "      <td>0.71</td>\n",
       "    </tr>\n",
       "    <tr>\n",
       "      <th>DF</th>\n",
       "      <td>310</td>\n",
       "      <td>0.62</td>\n",
       "    </tr>\n",
       "    <tr>\n",
       "      <th>TO</th>\n",
       "      <td>244</td>\n",
       "      <td>0.49</td>\n",
       "    </tr>\n",
       "    <tr>\n",
       "      <th>AP</th>\n",
       "      <td>236</td>\n",
       "      <td>0.47</td>\n",
       "    </tr>\n",
       "    <tr>\n",
       "      <th>RO</th>\n",
       "      <td>155</td>\n",
       "      <td>0.31</td>\n",
       "    </tr>\n",
       "    <tr>\n",
       "      <th>RR</th>\n",
       "      <td>42</td>\n",
       "      <td>0.08</td>\n",
       "    </tr>\n",
       "    <tr>\n",
       "      <th>XX</th>\n",
       "      <td>1</td>\n",
       "      <td>0.00</td>\n",
       "    </tr>\n",
       "  </tbody>\n",
       "</table>\n",
       "</div>"
      ],
      "text/plain": [
       "    Count      %\n",
       "BA   5717  11.43\n",
       "SP   5695  11.39\n",
       "RS   5017  10.03\n",
       "CE   4786   9.57\n",
       "PE   4098   8.20\n",
       "MG   3776   7.55\n",
       "     2064   4.13\n",
       "RN   2008   4.02\n",
       "PR   1971   3.94\n",
       "RJ   1826   3.65\n",
       "PA   1692   3.38\n",
       "AL   1645   3.29\n",
       "PB   1609   3.22\n",
       "MA   1416   2.83\n",
       "GO   1143   2.29\n",
       "MT    849   1.70\n",
       "SC    707   1.41\n",
       "PI    675   1.35\n",
       "ES    638   1.28\n",
       "MS    496   0.99\n",
       "AC    474   0.95\n",
       "SE    356   0.71\n",
       "AM    354   0.71\n",
       "DF    310   0.62\n",
       "TO    244   0.49\n",
       "AP    236   0.47\n",
       "RO    155   0.31\n",
       "RR     42   0.08\n",
       "XX      1   0.00"
      ]
     },
     "execution_count": 18,
     "metadata": {},
     "output_type": "execute_result"
    }
   ],
   "source": [
    "visualize.series_count(df['STATE_OF_BIRTH'])"
   ]
  },
  {
   "cell_type": "markdown",
   "id": "34a40587",
   "metadata": {},
   "source": [
    "#### Categorical Numerical Features"
   ]
  },
  {
   "cell_type": "code",
   "execution_count": 19,
   "id": "db0746dc",
   "metadata": {
    "scrolled": false
   },
   "outputs": [
    {
     "name": "stdout",
     "output_type": "stream",
     "text": [
      "Categorical numerical columns (26):\n",
      "\n",
      "PAYMENT_DAY                        6\n",
      "QUANT_ADDITIONAL_CARDS             1\n",
      "POSTAL_ADDRESS_TYPE                2\n",
      "MARITAL_STATUS                     8\n",
      "EDUCATION_LEVEL                    1\n",
      "NACIONALITY                        3\n",
      "RESIDENCE_TYPE                     6\n",
      "FLAG_EMAIL                         2\n",
      "FLAG_VISA                          2\n",
      "FLAG_MASTERCARD                    2\n",
      "FLAG_DINERS                        2\n",
      "FLAG_AMERICAN_EXPRESS              2\n",
      "FLAG_OTHER_CARDS                   2\n",
      "QUANT_BANKING_ACCOUNTS             3\n",
      "QUANT_SPECIAL_BANKING_ACCOUNTS     3\n",
      "QUANT_CARS                         2\n",
      "OCCUPATION_TYPE                    6\n",
      "EDUCATION_LEVEL_2                  6\n",
      "FLAG_HOME_ADDRESS_DOCUMENT         1\n",
      "FLAG_RG                            1\n",
      "FLAG_CPF                           1\n",
      "FLAG_INCOME_PROOF                  1\n",
      "PRODUCT                            3\n",
      "TARGET_LABEL_BAD=1                 2\n",
      "PROFESSION_CODE                   19\n",
      "MATE_PROFESSION_CODE              18\n",
      "dtype: int64\n"
     ]
    }
   ],
   "source": [
    "cat_num_features = df.select_dtypes(\"number\").nunique()[df.select_dtypes(\"number\").nunique()<15]\n",
    "cat_num_features_list = list(cat_num_features.index)\n",
    "cat_num_features_list.append('PROFESSION_CODE')\n",
    "cat_num_features_list.append('MATE_PROFESSION_CODE')\n",
    "print(f'Categorical numerical columns ({df[cat_num_features_list].shape[1]}):\\n\\n{df[cat_num_features_list].nunique()}')"
   ]
  },
  {
   "cell_type": "code",
   "execution_count": 20,
   "id": "93b0db24",
   "metadata": {
    "scrolled": false
   },
   "outputs": [
    {
     "data": {
      "text/html": [
       "<div>\n",
       "<style scoped>\n",
       "    .dataframe tbody tr th:only-of-type {\n",
       "        vertical-align: middle;\n",
       "    }\n",
       "\n",
       "    .dataframe tbody tr th {\n",
       "        vertical-align: top;\n",
       "    }\n",
       "\n",
       "    .dataframe thead th {\n",
       "        text-align: right;\n",
       "    }\n",
       "</style>\n",
       "<table border=\"1\" class=\"dataframe\">\n",
       "  <thead>\n",
       "    <tr style=\"text-align: right;\">\n",
       "      <th></th>\n",
       "      <th>Count</th>\n",
       "      <th>%</th>\n",
       "    </tr>\n",
       "  </thead>\n",
       "  <tbody>\n",
       "    <tr>\n",
       "      <th>1</th>\n",
       "      <td>49673</td>\n",
       "      <td>99.35</td>\n",
       "    </tr>\n",
       "    <tr>\n",
       "      <th>2</th>\n",
       "      <td>327</td>\n",
       "      <td>0.65</td>\n",
       "    </tr>\n",
       "  </tbody>\n",
       "</table>\n",
       "</div>"
      ],
      "text/plain": [
       "   Count      %\n",
       "1  49673  99.35\n",
       "2    327   0.65"
      ]
     },
     "execution_count": 20,
     "metadata": {},
     "output_type": "execute_result"
    }
   ],
   "source": [
    "visualize.series_count(df['POSTAL_ADDRESS_TYPE'])"
   ]
  },
  {
   "cell_type": "code",
   "execution_count": 21,
   "id": "6d18b2f1",
   "metadata": {
    "scrolled": true
   },
   "outputs": [
    {
     "data": {
      "text/html": [
       "<div>\n",
       "<style scoped>\n",
       "    .dataframe tbody tr th:only-of-type {\n",
       "        vertical-align: middle;\n",
       "    }\n",
       "\n",
       "    .dataframe tbody tr th {\n",
       "        vertical-align: top;\n",
       "    }\n",
       "\n",
       "    .dataframe thead th {\n",
       "        text-align: right;\n",
       "    }\n",
       "</style>\n",
       "<table border=\"1\" class=\"dataframe\">\n",
       "  <thead>\n",
       "    <tr style=\"text-align: right;\">\n",
       "      <th></th>\n",
       "      <th>Count</th>\n",
       "      <th>%</th>\n",
       "    </tr>\n",
       "  </thead>\n",
       "  <tbody>\n",
       "    <tr>\n",
       "      <th>2</th>\n",
       "      <td>25967</td>\n",
       "      <td>51.93</td>\n",
       "    </tr>\n",
       "    <tr>\n",
       "      <th>1</th>\n",
       "      <td>15286</td>\n",
       "      <td>30.57</td>\n",
       "    </tr>\n",
       "    <tr>\n",
       "      <th>4</th>\n",
       "      <td>4206</td>\n",
       "      <td>8.41</td>\n",
       "    </tr>\n",
       "    <tr>\n",
       "      <th>6</th>\n",
       "      <td>1877</td>\n",
       "      <td>3.75</td>\n",
       "    </tr>\n",
       "    <tr>\n",
       "      <th>5</th>\n",
       "      <td>1296</td>\n",
       "      <td>2.59</td>\n",
       "    </tr>\n",
       "    <tr>\n",
       "      <th>3</th>\n",
       "      <td>632</td>\n",
       "      <td>1.26</td>\n",
       "    </tr>\n",
       "    <tr>\n",
       "      <th>7</th>\n",
       "      <td>534</td>\n",
       "      <td>1.07</td>\n",
       "    </tr>\n",
       "    <tr>\n",
       "      <th>0</th>\n",
       "      <td>202</td>\n",
       "      <td>0.40</td>\n",
       "    </tr>\n",
       "  </tbody>\n",
       "</table>\n",
       "</div>"
      ],
      "text/plain": [
       "   Count      %\n",
       "2  25967  51.93\n",
       "1  15286  30.57\n",
       "4   4206   8.41\n",
       "6   1877   3.75\n",
       "5   1296   2.59\n",
       "3    632   1.26\n",
       "7    534   1.07\n",
       "0    202   0.40"
      ]
     },
     "execution_count": 21,
     "metadata": {},
     "output_type": "execute_result"
    }
   ],
   "source": [
    "visualize.series_count(df['MARITAL_STATUS'])"
   ]
  },
  {
   "cell_type": "code",
   "execution_count": 22,
   "id": "8e9ea491",
   "metadata": {
    "scrolled": true
   },
   "outputs": [
    {
     "data": {
      "text/html": [
       "<div>\n",
       "<style scoped>\n",
       "    .dataframe tbody tr th:only-of-type {\n",
       "        vertical-align: middle;\n",
       "    }\n",
       "\n",
       "    .dataframe tbody tr th {\n",
       "        vertical-align: top;\n",
       "    }\n",
       "\n",
       "    .dataframe thead th {\n",
       "        text-align: right;\n",
       "    }\n",
       "</style>\n",
       "<table border=\"1\" class=\"dataframe\">\n",
       "  <thead>\n",
       "    <tr style=\"text-align: right;\">\n",
       "      <th></th>\n",
       "      <th>Count</th>\n",
       "      <th>%</th>\n",
       "    </tr>\n",
       "  </thead>\n",
       "  <tbody>\n",
       "    <tr>\n",
       "      <th>1.0</th>\n",
       "      <td>41572</td>\n",
       "      <td>83.14</td>\n",
       "    </tr>\n",
       "    <tr>\n",
       "      <th>2.0</th>\n",
       "      <td>3884</td>\n",
       "      <td>7.77</td>\n",
       "    </tr>\n",
       "    <tr>\n",
       "      <th>5.0</th>\n",
       "      <td>1983</td>\n",
       "      <td>3.97</td>\n",
       "    </tr>\n",
       "    <tr>\n",
       "      <th>NaN</th>\n",
       "      <td>1349</td>\n",
       "      <td>2.70</td>\n",
       "    </tr>\n",
       "    <tr>\n",
       "      <th>0.0</th>\n",
       "      <td>760</td>\n",
       "      <td>1.52</td>\n",
       "    </tr>\n",
       "    <tr>\n",
       "      <th>4.0</th>\n",
       "      <td>311</td>\n",
       "      <td>0.62</td>\n",
       "    </tr>\n",
       "    <tr>\n",
       "      <th>3.0</th>\n",
       "      <td>141</td>\n",
       "      <td>0.28</td>\n",
       "    </tr>\n",
       "  </tbody>\n",
       "</table>\n",
       "</div>"
      ],
      "text/plain": [
       "     Count      %\n",
       "1.0  41572  83.14\n",
       "2.0   3884   7.77\n",
       "5.0   1983   3.97\n",
       "NaN   1349   2.70\n",
       "0.0    760   1.52\n",
       "4.0    311   0.62\n",
       "3.0    141   0.28"
      ]
     },
     "execution_count": 22,
     "metadata": {},
     "output_type": "execute_result"
    }
   ],
   "source": [
    "visualize.series_count(df['RESIDENCE_TYPE'])"
   ]
  },
  {
   "cell_type": "code",
   "execution_count": 23,
   "id": "449d3a7e",
   "metadata": {
    "scrolled": true
   },
   "outputs": [
    {
     "data": {
      "text/html": [
       "<div>\n",
       "<style scoped>\n",
       "    .dataframe tbody tr th:only-of-type {\n",
       "        vertical-align: middle;\n",
       "    }\n",
       "\n",
       "    .dataframe tbody tr th {\n",
       "        vertical-align: top;\n",
       "    }\n",
       "\n",
       "    .dataframe thead th {\n",
       "        text-align: right;\n",
       "    }\n",
       "</style>\n",
       "<table border=\"1\" class=\"dataframe\">\n",
       "  <thead>\n",
       "    <tr style=\"text-align: right;\">\n",
       "      <th></th>\n",
       "      <th>Count</th>\n",
       "      <th>%</th>\n",
       "    </tr>\n",
       "  </thead>\n",
       "  <tbody>\n",
       "    <tr>\n",
       "      <th>0</th>\n",
       "      <td>49934</td>\n",
       "      <td>99.87</td>\n",
       "    </tr>\n",
       "    <tr>\n",
       "      <th>1</th>\n",
       "      <td>66</td>\n",
       "      <td>0.13</td>\n",
       "    </tr>\n",
       "  </tbody>\n",
       "</table>\n",
       "</div>"
      ],
      "text/plain": [
       "   Count      %\n",
       "0  49934  99.87\n",
       "1     66   0.13"
      ]
     },
     "execution_count": 23,
     "metadata": {},
     "output_type": "execute_result"
    }
   ],
   "source": [
    "visualize.series_count(df['FLAG_DINERS'])"
   ]
  },
  {
   "cell_type": "code",
   "execution_count": 24,
   "id": "9bac5c9b",
   "metadata": {
    "scrolled": true
   },
   "outputs": [
    {
     "data": {
      "text/html": [
       "<div>\n",
       "<style scoped>\n",
       "    .dataframe tbody tr th:only-of-type {\n",
       "        vertical-align: middle;\n",
       "    }\n",
       "\n",
       "    .dataframe tbody tr th {\n",
       "        vertical-align: top;\n",
       "    }\n",
       "\n",
       "    .dataframe thead th {\n",
       "        text-align: right;\n",
       "    }\n",
       "</style>\n",
       "<table border=\"1\" class=\"dataframe\">\n",
       "  <thead>\n",
       "    <tr style=\"text-align: right;\">\n",
       "      <th></th>\n",
       "      <th>Count</th>\n",
       "      <th>%</th>\n",
       "    </tr>\n",
       "  </thead>\n",
       "  <tbody>\n",
       "    <tr>\n",
       "      <th>0</th>\n",
       "      <td>49913</td>\n",
       "      <td>99.83</td>\n",
       "    </tr>\n",
       "    <tr>\n",
       "      <th>1</th>\n",
       "      <td>87</td>\n",
       "      <td>0.17</td>\n",
       "    </tr>\n",
       "  </tbody>\n",
       "</table>\n",
       "</div>"
      ],
      "text/plain": [
       "   Count      %\n",
       "0  49913  99.83\n",
       "1     87   0.17"
      ]
     },
     "execution_count": 24,
     "metadata": {},
     "output_type": "execute_result"
    }
   ],
   "source": [
    "visualize.series_count(df['FLAG_AMERICAN_EXPRESS'])"
   ]
  },
  {
   "cell_type": "code",
   "execution_count": 25,
   "id": "c8079823",
   "metadata": {
    "scrolled": true
   },
   "outputs": [
    {
     "data": {
      "text/html": [
       "<div>\n",
       "<style scoped>\n",
       "    .dataframe tbody tr th:only-of-type {\n",
       "        vertical-align: middle;\n",
       "    }\n",
       "\n",
       "    .dataframe tbody tr th {\n",
       "        vertical-align: top;\n",
       "    }\n",
       "\n",
       "    .dataframe thead th {\n",
       "        text-align: right;\n",
       "    }\n",
       "</style>\n",
       "<table border=\"1\" class=\"dataframe\">\n",
       "  <thead>\n",
       "    <tr style=\"text-align: right;\">\n",
       "      <th></th>\n",
       "      <th>Count</th>\n",
       "      <th>%</th>\n",
       "    </tr>\n",
       "  </thead>\n",
       "  <tbody>\n",
       "    <tr>\n",
       "      <th>0</th>\n",
       "      <td>49898</td>\n",
       "      <td>99.8</td>\n",
       "    </tr>\n",
       "    <tr>\n",
       "      <th>1</th>\n",
       "      <td>102</td>\n",
       "      <td>0.2</td>\n",
       "    </tr>\n",
       "  </tbody>\n",
       "</table>\n",
       "</div>"
      ],
      "text/plain": [
       "   Count     %\n",
       "0  49898  99.8\n",
       "1    102   0.2"
      ]
     },
     "execution_count": 25,
     "metadata": {},
     "output_type": "execute_result"
    }
   ],
   "source": [
    "visualize.series_count(df['FLAG_OTHER_CARDS'])"
   ]
  },
  {
   "cell_type": "code",
   "execution_count": 26,
   "id": "15c54078",
   "metadata": {
    "scrolled": true
   },
   "outputs": [
    {
     "data": {
      "text/html": [
       "<div>\n",
       "<style scoped>\n",
       "    .dataframe tbody tr th:only-of-type {\n",
       "        vertical-align: middle;\n",
       "    }\n",
       "\n",
       "    .dataframe tbody tr th {\n",
       "        vertical-align: top;\n",
       "    }\n",
       "\n",
       "    .dataframe thead th {\n",
       "        text-align: right;\n",
       "    }\n",
       "</style>\n",
       "<table border=\"1\" class=\"dataframe\">\n",
       "  <thead>\n",
       "    <tr style=\"text-align: right;\">\n",
       "      <th></th>\n",
       "      <th>Count</th>\n",
       "      <th>%</th>\n",
       "    </tr>\n",
       "  </thead>\n",
       "  <tbody>\n",
       "    <tr>\n",
       "      <th>2.0</th>\n",
       "      <td>16947</td>\n",
       "      <td>33.89</td>\n",
       "    </tr>\n",
       "    <tr>\n",
       "      <th>1.0</th>\n",
       "      <td>8742</td>\n",
       "      <td>17.48</td>\n",
       "    </tr>\n",
       "    <tr>\n",
       "      <th>NaN</th>\n",
       "      <td>7313</td>\n",
       "      <td>14.63</td>\n",
       "    </tr>\n",
       "    <tr>\n",
       "      <th>4.0</th>\n",
       "      <td>7000</td>\n",
       "      <td>14.00</td>\n",
       "    </tr>\n",
       "    <tr>\n",
       "      <th>5.0</th>\n",
       "      <td>6891</td>\n",
       "      <td>13.78</td>\n",
       "    </tr>\n",
       "    <tr>\n",
       "      <th>0.0</th>\n",
       "      <td>2788</td>\n",
       "      <td>5.58</td>\n",
       "    </tr>\n",
       "    <tr>\n",
       "      <th>3.0</th>\n",
       "      <td>319</td>\n",
       "      <td>0.64</td>\n",
       "    </tr>\n",
       "  </tbody>\n",
       "</table>\n",
       "</div>"
      ],
      "text/plain": [
       "     Count      %\n",
       "2.0  16947  33.89\n",
       "1.0   8742  17.48\n",
       "NaN   7313  14.63\n",
       "4.0   7000  14.00\n",
       "5.0   6891  13.78\n",
       "0.0   2788   5.58\n",
       "3.0    319   0.64"
      ]
     },
     "execution_count": 26,
     "metadata": {},
     "output_type": "execute_result"
    }
   ],
   "source": [
    "visualize.series_count(df['OCCUPATION_TYPE'])"
   ]
  },
  {
   "cell_type": "markdown",
   "id": "1626cd35",
   "metadata": {},
   "source": [
    "#### Numerical Features"
   ]
  },
  {
   "cell_type": "code",
   "execution_count": 27,
   "id": "f87a7b3a",
   "metadata": {
    "scrolled": false
   },
   "outputs": [
    {
     "name": "stdout",
     "output_type": "stream",
     "text": [
      "Numerical columns (7):\n",
      "\n",
      "MONTHS_IN_THE_JOB            21\n",
      "PERSONAL_MONTHLY_INCOME    5495\n",
      "AGE                          89\n",
      "MONTHS_IN_RESIDENCE          88\n",
      "PERSONAL_ASSETS_VALUE       153\n",
      "OTHER_INCOMES               615\n",
      "QUANT_DEPENDANTS             17\n",
      "dtype: int64\n"
     ]
    }
   ],
   "source": [
    "number_dtype = df.select_dtypes(\"number\").columns\n",
    "num_features_list = list(set(number_dtype) - set(cat_num_features.index))\n",
    "num_features_list.remove('PROFESSION_CODE')\n",
    "num_features_list.remove('MATE_PROFESSION_CODE')\n",
    "\n",
    "\n",
    "num_features = df.select_dtypes(\"number\").nunique()[num_features_list]\n",
    "print(f'Numerical columns ({num_features.shape[0]}):\\n\\n{num_features}')"
   ]
  },
  {
   "cell_type": "code",
   "execution_count": 28,
   "id": "fa19a59f",
   "metadata": {
    "scrolled": true
   },
   "outputs": [
    {
     "data": {
      "text/html": [
       "<div>\n",
       "<style scoped>\n",
       "    .dataframe tbody tr th:only-of-type {\n",
       "        vertical-align: middle;\n",
       "    }\n",
       "\n",
       "    .dataframe tbody tr th {\n",
       "        vertical-align: top;\n",
       "    }\n",
       "\n",
       "    .dataframe thead th {\n",
       "        text-align: right;\n",
       "    }\n",
       "</style>\n",
       "<table border=\"1\" class=\"dataframe\">\n",
       "  <thead>\n",
       "    <tr style=\"text-align: right;\">\n",
       "      <th></th>\n",
       "      <th>Count</th>\n",
       "      <th>%</th>\n",
       "    </tr>\n",
       "  </thead>\n",
       "  <tbody>\n",
       "    <tr>\n",
       "      <th>0</th>\n",
       "      <td>49924</td>\n",
       "      <td>99.85</td>\n",
       "    </tr>\n",
       "    <tr>\n",
       "      <th>1</th>\n",
       "      <td>15</td>\n",
       "      <td>0.03</td>\n",
       "    </tr>\n",
       "    <tr>\n",
       "      <th>2</th>\n",
       "      <td>18</td>\n",
       "      <td>0.04</td>\n",
       "    </tr>\n",
       "    <tr>\n",
       "      <th>3</th>\n",
       "      <td>12</td>\n",
       "      <td>0.02</td>\n",
       "    </tr>\n",
       "    <tr>\n",
       "      <th>4</th>\n",
       "      <td>4</td>\n",
       "      <td>0.01</td>\n",
       "    </tr>\n",
       "    <tr>\n",
       "      <th>5</th>\n",
       "      <td>6</td>\n",
       "      <td>0.01</td>\n",
       "    </tr>\n",
       "    <tr>\n",
       "      <th>6</th>\n",
       "      <td>2</td>\n",
       "      <td>0.00</td>\n",
       "    </tr>\n",
       "    <tr>\n",
       "      <th>7</th>\n",
       "      <td>2</td>\n",
       "      <td>0.00</td>\n",
       "    </tr>\n",
       "    <tr>\n",
       "      <th>8</th>\n",
       "      <td>2</td>\n",
       "      <td>0.00</td>\n",
       "    </tr>\n",
       "    <tr>\n",
       "      <th>9</th>\n",
       "      <td>1</td>\n",
       "      <td>0.00</td>\n",
       "    </tr>\n",
       "    <tr>\n",
       "      <th>10</th>\n",
       "      <td>1</td>\n",
       "      <td>0.00</td>\n",
       "    </tr>\n",
       "    <tr>\n",
       "      <th>12</th>\n",
       "      <td>2</td>\n",
       "      <td>0.00</td>\n",
       "    </tr>\n",
       "    <tr>\n",
       "      <th>14</th>\n",
       "      <td>2</td>\n",
       "      <td>0.00</td>\n",
       "    </tr>\n",
       "    <tr>\n",
       "      <th>15</th>\n",
       "      <td>1</td>\n",
       "      <td>0.00</td>\n",
       "    </tr>\n",
       "    <tr>\n",
       "      <th>18</th>\n",
       "      <td>2</td>\n",
       "      <td>0.00</td>\n",
       "    </tr>\n",
       "    <tr>\n",
       "      <th>19</th>\n",
       "      <td>1</td>\n",
       "      <td>0.00</td>\n",
       "    </tr>\n",
       "    <tr>\n",
       "      <th>26</th>\n",
       "      <td>1</td>\n",
       "      <td>0.00</td>\n",
       "    </tr>\n",
       "    <tr>\n",
       "      <th>27</th>\n",
       "      <td>1</td>\n",
       "      <td>0.00</td>\n",
       "    </tr>\n",
       "    <tr>\n",
       "      <th>30</th>\n",
       "      <td>1</td>\n",
       "      <td>0.00</td>\n",
       "    </tr>\n",
       "    <tr>\n",
       "      <th>32</th>\n",
       "      <td>1</td>\n",
       "      <td>0.00</td>\n",
       "    </tr>\n",
       "    <tr>\n",
       "      <th>35</th>\n",
       "      <td>1</td>\n",
       "      <td>0.00</td>\n",
       "    </tr>\n",
       "  </tbody>\n",
       "</table>\n",
       "</div>"
      ],
      "text/plain": [
       "    Count      %\n",
       "0   49924  99.85\n",
       "1      15   0.03\n",
       "2      18   0.04\n",
       "3      12   0.02\n",
       "4       4   0.01\n",
       "5       6   0.01\n",
       "6       2   0.00\n",
       "7       2   0.00\n",
       "8       2   0.00\n",
       "9       1   0.00\n",
       "10      1   0.00\n",
       "12      2   0.00\n",
       "14      2   0.00\n",
       "15      1   0.00\n",
       "18      2   0.00\n",
       "19      1   0.00\n",
       "26      1   0.00\n",
       "27      1   0.00\n",
       "30      1   0.00\n",
       "32      1   0.00\n",
       "35      1   0.00"
      ]
     },
     "execution_count": 28,
     "metadata": {},
     "output_type": "execute_result"
    }
   ],
   "source": [
    "visualize.series_count(df[\"MONTHS_IN_THE_JOB\"]).sort_index()"
   ]
  },
  {
   "cell_type": "markdown",
   "id": "67c64f02",
   "metadata": {},
   "source": [
    "-----------------------------------------------\n",
    "### Features cleaning \n",
    "-----------------------------------------------\n",
    "Constants, NaN and empty features"
   ]
  },
  {
   "cell_type": "code",
   "execution_count": 29,
   "id": "9784cf2b",
   "metadata": {
    "scrolled": true
   },
   "outputs": [
    {
     "data": {
      "text/plain": [
       "['CLERK_TYPE', 'FLAG_MOBILE_PHONE', 'FLAG_ACSP_RECORD']"
      ]
     },
     "execution_count": 29,
     "metadata": {},
     "output_type": "execute_result"
    }
   ],
   "source": [
    "cat_constant = list(cat_features[cat_features==1].index)\n",
    "cat_constant"
   ]
  },
  {
   "cell_type": "code",
   "execution_count": 30,
   "id": "23fbd2d8",
   "metadata": {
    "scrolled": false
   },
   "outputs": [
    {
     "data": {
      "text/plain": [
       "['QUANT_ADDITIONAL_CARDS',\n",
       " 'EDUCATION_LEVEL',\n",
       " 'FLAG_HOME_ADDRESS_DOCUMENT',\n",
       " 'FLAG_RG',\n",
       " 'FLAG_CPF',\n",
       " 'FLAG_INCOME_PROOF']"
      ]
     },
     "execution_count": 30,
     "metadata": {},
     "output_type": "execute_result"
    }
   ],
   "source": [
    "catnum_constant = list(cat_num_features[cat_num_features==1].index)\n",
    "catnum_constant"
   ]
  },
  {
   "cell_type": "code",
   "execution_count": 31,
   "id": "07173c4b",
   "metadata": {},
   "outputs": [],
   "source": [
    "num_constant = ['MONTHS_IN_THE_JOB']"
   ]
  },
  {
   "cell_type": "code",
   "execution_count": 32,
   "id": "4a7c38f3",
   "metadata": {
    "scrolled": true
   },
   "outputs": [
    {
     "data": {
      "text/plain": [
       "['PROFESSIONAL_CITY',\n",
       " 'PROFESSIONAL_BOROUGH',\n",
       " 'MATE_PROFESSION_CODE',\n",
       " 'EDUCATION_LEVEL_2']"
      ]
     },
     "execution_count": 32,
     "metadata": {},
     "output_type": "execute_result"
    }
   ],
   "source": [
    "nan_features = list(df.isna().sum()[df.isna().sum()>25000].index)\n",
    "nan_features"
   ]
  },
  {
   "cell_type": "code",
   "execution_count": 33,
   "id": "04ec915d",
   "metadata": {},
   "outputs": [
    {
     "data": {
      "text/plain": [
       "['PROFESSIONAL_STATE', 'PROFESSIONAL_PHONE_AREA_CODE']"
      ]
     },
     "execution_count": 33,
     "metadata": {},
     "output_type": "execute_result"
    }
   ],
   "source": [
    "empty_features = list(df.eq(' ').sum()[df.eq(' ').sum()>25000].index)\n",
    "empty_features"
   ]
  },
  {
   "cell_type": "code",
   "execution_count": 34,
   "id": "29613bdb",
   "metadata": {
    "scrolled": true
   },
   "outputs": [
    {
     "name": "stdout",
     "output_type": "stream",
     "text": [
      "Quantity of columns without constants, empty or NaN: 37\n"
     ]
    }
   ],
   "source": [
    "remove_features = [*nan_features,*empty_features,*cat_constant,*catnum_constant,*num_constant]\n",
    "\n",
    "df = df.drop(remove_features,axis = 1)\n",
    "print(f'Quantity of columns without constants, empty or NaN: {len(df.columns)}')"
   ]
  },
  {
   "cell_type": "code",
   "execution_count": 35,
   "id": "03f8dc7c",
   "metadata": {
    "scrolled": true
   },
   "outputs": [
    {
     "name": "stdout",
     "output_type": "stream",
     "text": [
      "Features removed from raw dataset:\n",
      "\n",
      "Categorical constant(3): ['CLERK_TYPE', 'FLAG_MOBILE_PHONE', 'FLAG_ACSP_RECORD'])\n",
      "Categorical numerical constant (6): ['QUANT_ADDITIONAL_CARDS', 'EDUCATION_LEVEL', 'FLAG_HOME_ADDRESS_DOCUMENT', 'FLAG_RG', 'FLAG_CPF', 'FLAG_INCOME_PROOF'])\n",
      "Numerical constant (1): ['MONTHS_IN_THE_JOB'])\n",
      "Empty features (2): ['PROFESSIONAL_STATE', 'PROFESSIONAL_PHONE_AREA_CODE'])\n",
      "NaN_features (4): ['PROFESSIONAL_CITY', 'PROFESSIONAL_BOROUGH', 'MATE_PROFESSION_CODE', 'EDUCATION_LEVEL_2'])\n"
     ]
    }
   ],
   "source": [
    "print(f'Features removed from raw dataset:\\n\\n'\n",
    "      f'Categorical constant({len(cat_constant)}): {cat_constant})\\n'\n",
    "      f'Categorical numerical constant ({len(catnum_constant)}): {catnum_constant})\\n'\n",
    "      f'Numerical constant ({len(num_constant)}): {num_constant})\\n'\n",
    "      f'Empty features ({len(empty_features)}): {empty_features})\\n'\n",
    "      f'NaN_features ({len(nan_features)}): {nan_features})')"
   ]
  },
  {
   "cell_type": "markdown",
   "id": "46edc50b",
   "metadata": {},
   "source": [
    "-----------------------------------------------\n",
    "### Split dataset\n",
    "-----------------------------------------------"
   ]
  },
  {
   "cell_type": "code",
   "execution_count": 36,
   "id": "13da38d9",
   "metadata": {},
   "outputs": [],
   "source": [
    "X_train, X_test, y_train, y_test = train_test_split(df,df['TARGET_LABEL_BAD=1'],test_size=0.20,random_state=42, stratify=df['TARGET_LABEL_BAD=1'])"
   ]
  },
  {
   "cell_type": "code",
   "execution_count": 37,
   "id": "f4651915",
   "metadata": {
    "scrolled": false
   },
   "outputs": [
    {
     "name": "stdout",
     "output_type": "stream",
     "text": [
      "X_train shape = (40000, 37), X_test shape = (10000, 37)\n",
      "y_train shape = (40000,), y_test shape = (10000,)\n"
     ]
    }
   ],
   "source": [
    "print(f\"X_train shape = {X_train.shape}, X_test shape = {X_test.shape}\\n\"\n",
    "      f\"y_train shape = {y_train.shape}, y_test shape = {y_test.shape}\")"
   ]
  },
  {
   "cell_type": "code",
   "execution_count": 38,
   "id": "986bc9a2",
   "metadata": {
    "scrolled": true
   },
   "outputs": [
    {
     "name": "stdout",
     "output_type": "stream",
     "text": [
      "y_train label distribution:\n",
      "    Count      %\n",
      "0  29567  73.92\n",
      "1  10433  26.08\n",
      "\n",
      "y_test label distribution:\n",
      "   Count      %\n",
      "0   7392  73.92\n",
      "1   2608  26.08\n"
     ]
    }
   ],
   "source": [
    "print(f'y_train label distribution:\\n {visualize.series_count(y_train)}\\n\\n'\n",
    "      f'y_test label distribution:\\n{visualize.series_count(y_test)}')"
   ]
  },
  {
   "cell_type": "markdown",
   "id": "e01a6da0",
   "metadata": {},
   "source": [
    "-----------------------------------------------\n",
    "### Features relationship\n",
    "-----------------------------------------------\n"
   ]
  },
  {
   "cell_type": "code",
   "execution_count": 39,
   "id": "e2c67294",
   "metadata": {
    "scrolled": false
   },
   "outputs": [
    {
     "data": {
      "image/png": "[encoded data removed]",
      "text/plain": [
       "<Figure size 2160x1080 with 2 Axes>"
      ]
     },
     "metadata": {
      "needs_background": "light"
     },
     "output_type": "display_data"
    }
   ],
   "source": [
    "plt.figure(figsize=(30, 15))\n",
    "sns.heatmap(X_train.corr(), annot=True);"
   ]
  },
  {
   "cell_type": "code",
   "execution_count": 40,
   "id": "db10ecb7",
   "metadata": {
    "scrolled": false
   },
   "outputs": [
    {
     "data": {
      "text/plain": [
       "<seaborn.axisgrid.FacetGrid at 0x7f0a13454820>"
      ]
     },
     "execution_count": 40,
     "metadata": {},
     "output_type": "execute_result"
    },
    {
     "data": {
      "image/png": "[encoded data removed]",
      "text/plain": [
       "<Figure size 404.625x360 with 1 Axes>"
      ]
     },
     "metadata": {
      "needs_background": "light"
     },
     "output_type": "display_data"
    }
   ],
   "source": [
    "sns.lmplot(data=X_train,x=\"QUANT_CARS\", y=\"QUANT_BANKING_ACCOUNTS\", markers=\".\",hue=\"SEX\")"
   ]
  },
  {
   "cell_type": "code",
   "execution_count": 41,
   "id": "81849c49",
   "metadata": {
    "scrolled": true
   },
   "outputs": [
    {
     "data": {
      "text/plain": [
       "<seaborn.axisgrid.FacetGrid at 0x7f0a10dadaf0>"
      ]
     },
     "execution_count": 41,
     "metadata": {},
     "output_type": "execute_result"
    },
    {
     "data": {
      "image/png": "[encoded data removed]",
      "text/plain": [
       "<Figure size 360x360 with 1 Axes>"
      ]
     },
     "metadata": {
      "needs_background": "light"
     },
     "output_type": "display_data"
    }
   ],
   "source": [
    "sns.lmplot(data=X_train,x=\"QUANT_SPECIAL_BANKING_ACCOUNTS\", y=\"QUANT_BANKING_ACCOUNTS\", markers=\".\")"
   ]
  },
  {
   "cell_type": "code",
   "execution_count": 42,
   "id": "647ad3e9",
   "metadata": {
    "scrolled": false
   },
   "outputs": [
    {
     "data": {
      "text/plain": [
       "<seaborn.axisgrid.FacetGrid at 0x7f0a1080ff40>"
      ]
     },
     "execution_count": 42,
     "metadata": {},
     "output_type": "execute_result"
    },
    {
     "data": {
      "image/png": "[encoded data removed]",
      "text/plain": [
       "<Figure size 404.625x360 with 1 Axes>"
      ]
     },
     "metadata": {
      "needs_background": "light"
     },
     "output_type": "display_data"
    }
   ],
   "source": [
    "sns.lmplot(data=X_train,x=\"FLAG_VISA\", y=\"FLAG_MASTERCARD\", markers=\".\",hue=\"SEX\")"
   ]
  },
  {
   "cell_type": "code",
   "execution_count": 43,
   "id": "d7d6670e",
   "metadata": {
    "scrolled": false
   },
   "outputs": [
    {
     "data": {
      "text/plain": [
       "<seaborn.axisgrid.FacetGrid at 0x7f0a0ee67f70>"
      ]
     },
     "execution_count": 43,
     "metadata": {},
     "output_type": "execute_result"
    },
    {
     "data": {
      "image/png": "[encoded data removed]",
      "text/plain": [
       "<Figure size 404.625x360 with 1 Axes>"
      ]
     },
     "metadata": {
      "needs_background": "light"
     },
     "output_type": "display_data"
    }
   ],
   "source": [
    "sns.lmplot(data=X_train,x=\"MARITAL_STATUS\", y=\"AGE\", markers=\".\",hue=\"SEX\")"
   ]
  },
  {
   "cell_type": "code",
   "execution_count": 44,
   "id": "f0c9101d",
   "metadata": {},
   "outputs": [
    {
     "data": {
      "text/plain": [
       "<seaborn.axisgrid.FacetGrid at 0x7f0a0edec6d0>"
      ]
     },
     "execution_count": 44,
     "metadata": {},
     "output_type": "execute_result"
    },
    {
     "data": {
      "image/png": "[encoded data removed]",
      "text/plain": [
       "<Figure size 404.625x360 with 1 Axes>"
      ]
     },
     "metadata": {
      "needs_background": "light"
     },
     "output_type": "display_data"
    }
   ],
   "source": [
    "sns.lmplot(data=X_train,x=\"FLAG_DINERS\", y=\"FLAG_AMERICAN_EXPRESS\", markers=\".\",hue=\"SEX\")"
   ]
  },
  {
   "cell_type": "markdown",
   "id": "4c7ddd21",
   "metadata": {},
   "source": [
    "-----------------------------------------------\n",
    "### Dependent variable\n",
    "-----------------------------------------------"
   ]
  },
  {
   "cell_type": "code",
   "execution_count": 45,
   "id": "816c36c9",
   "metadata": {
    "scrolled": true
   },
   "outputs": [
    {
     "data": {
      "text/html": [
       "<div>\n",
       "<style scoped>\n",
       "    .dataframe tbody tr th:only-of-type {\n",
       "        vertical-align: middle;\n",
       "    }\n",
       "\n",
       "    .dataframe tbody tr th {\n",
       "        vertical-align: top;\n",
       "    }\n",
       "\n",
       "    .dataframe thead th {\n",
       "        text-align: right;\n",
       "    }\n",
       "</style>\n",
       "<table border=\"1\" class=\"dataframe\">\n",
       "  <thead>\n",
       "    <tr style=\"text-align: right;\">\n",
       "      <th></th>\n",
       "      <th>Count</th>\n",
       "      <th>%</th>\n",
       "    </tr>\n",
       "  </thead>\n",
       "  <tbody>\n",
       "    <tr>\n",
       "      <th>0</th>\n",
       "      <td>29567</td>\n",
       "      <td>73.92</td>\n",
       "    </tr>\n",
       "    <tr>\n",
       "      <th>1</th>\n",
       "      <td>10433</td>\n",
       "      <td>26.08</td>\n",
       "    </tr>\n",
       "  </tbody>\n",
       "</table>\n",
       "</div>"
      ],
      "text/plain": [
       "   Count      %\n",
       "0  29567  73.92\n",
       "1  10433  26.08"
      ]
     },
     "execution_count": 45,
     "metadata": {},
     "output_type": "execute_result"
    }
   ],
   "source": [
    "# check target balance\n",
    "visualize.series_count(X_train['TARGET_LABEL_BAD=1'])"
   ]
  },
  {
   "cell_type": "code",
   "execution_count": 46,
   "id": "92240506",
   "metadata": {
    "scrolled": false
   },
   "outputs": [
    {
     "data": {
      "text/plain": [
       "<Figure size 1152x576 with 0 Axes>"
      ]
     },
     "metadata": {},
     "output_type": "display_data"
    },
    {
     "data": {
      "image/png": "[encoded data removed]",
      "text/plain": [
       "<Figure size 484.5x360 with 1 Axes>"
      ]
     },
     "metadata": {
      "needs_background": "light"
     },
     "output_type": "display_data"
    },
    {
     "data": {
      "text/plain": [
       "<Figure size 1152x576 with 0 Axes>"
      ]
     },
     "metadata": {},
     "output_type": "display_data"
    },
    {
     "data": {
      "image/png": "[encoded data removed]",
      "text/plain": [
       "<Figure size 484.5x360 with 1 Axes>"
      ]
     },
     "metadata": {
      "needs_background": "light"
     },
     "output_type": "display_data"
    },
    {
     "data": {
      "text/plain": [
       "<Figure size 1152x576 with 0 Axes>"
      ]
     },
     "metadata": {},
     "output_type": "display_data"
    },
    {
     "data": {
      "image/png": "[encoded data removed]",
      "text/plain": [
       "<Figure size 484.5x360 with 1 Axes>"
      ]
     },
     "metadata": {
      "needs_background": "light"
     },
     "output_type": "display_data"
    },
    {
     "data": {
      "text/plain": [
       "<Figure size 1152x576 with 0 Axes>"
      ]
     },
     "metadata": {},
     "output_type": "display_data"
    },
    {
     "data": {
      "image/png": "[encoded data removed]",
      "text/plain": [
       "<Figure size 484.5x360 with 1 Axes>"
      ]
     },
     "metadata": {
      "needs_background": "light"
     },
     "output_type": "display_data"
    },
    {
     "data": {
      "text/plain": [
       "<Figure size 1152x576 with 0 Axes>"
      ]
     },
     "metadata": {},
     "output_type": "display_data"
    },
    {
     "data": {
      "image/png": "[encoded data removed]",
      "text/plain": [
       "<Figure size 484.5x360 with 1 Axes>"
      ]
     },
     "metadata": {
      "needs_background": "light"
     },
     "output_type": "display_data"
    }
   ],
   "source": [
    "variables = [\"PAYMENT_DAY\",\"SEX\",\"AGE\",\"COMPANY\",\"RESIDENCIAL_STATE\"]\n",
    "\n",
    "for y in variables:\n",
    "    plt.figure(figsize=(16, 8))\n",
    "    #plot displot\n",
    "    chart = sns.displot(\n",
    "       data = X_train, \n",
    "       y = y,\n",
    "       hue = 'TARGET_LABEL_BAD=1', \n",
    "       palette = \"crest\",\n",
    "       )\n",
    "\n",
    "    #customize plot\n",
    "    chart.set(title=y)\n",
    "    plt.xlabel('Applicants', fontsize=10,labelpad=20)\n",
    "    plt.ylabel(y, fontsize=10, labelpad=20)\n",
    "\n",
    "    plt.show()"
   ]
  },
  {
   "cell_type": "code",
   "execution_count": 47,
   "id": "deba2c02",
   "metadata": {
    "scrolled": true
   },
   "outputs": [
    {
     "data": {
      "text/html": [
       "<div>\n",
       "<style scoped>\n",
       "    .dataframe tbody tr th:only-of-type {\n",
       "        vertical-align: middle;\n",
       "    }\n",
       "\n",
       "    .dataframe tbody tr th {\n",
       "        vertical-align: top;\n",
       "    }\n",
       "\n",
       "    .dataframe thead th {\n",
       "        text-align: right;\n",
       "    }\n",
       "</style>\n",
       "<table border=\"1\" class=\"dataframe\">\n",
       "  <thead>\n",
       "    <tr style=\"text-align: right;\">\n",
       "      <th></th>\n",
       "      <th>TARGET_LABEL_BAD=1</th>\n",
       "      <th>Total applicants</th>\n",
       "      <th>%</th>\n",
       "    </tr>\n",
       "    <tr>\n",
       "      <th>RESIDENCIAL_STATE</th>\n",
       "      <th></th>\n",
       "      <th></th>\n",
       "      <th></th>\n",
       "    </tr>\n",
       "  </thead>\n",
       "  <tbody>\n",
       "    <tr>\n",
       "      <th>SE</th>\n",
       "      <td>79</td>\n",
       "      <td>217</td>\n",
       "      <td>36.41</td>\n",
       "    </tr>\n",
       "    <tr>\n",
       "      <th>AM</th>\n",
       "      <td>100</td>\n",
       "      <td>326</td>\n",
       "      <td>30.67</td>\n",
       "    </tr>\n",
       "    <tr>\n",
       "      <th>AL</th>\n",
       "      <td>361</td>\n",
       "      <td>1180</td>\n",
       "      <td>30.59</td>\n",
       "    </tr>\n",
       "    <tr>\n",
       "      <th>DF</th>\n",
       "      <td>168</td>\n",
       "      <td>562</td>\n",
       "      <td>29.89</td>\n",
       "    </tr>\n",
       "    <tr>\n",
       "      <th>TO</th>\n",
       "      <td>27</td>\n",
       "      <td>93</td>\n",
       "      <td>29.03</td>\n",
       "    </tr>\n",
       "    <tr>\n",
       "      <th>RR</th>\n",
       "      <td>14</td>\n",
       "      <td>49</td>\n",
       "      <td>28.57</td>\n",
       "    </tr>\n",
       "    <tr>\n",
       "      <th>ES</th>\n",
       "      <td>154</td>\n",
       "      <td>545</td>\n",
       "      <td>28.26</td>\n",
       "    </tr>\n",
       "    <tr>\n",
       "      <th>BA</th>\n",
       "      <td>1124</td>\n",
       "      <td>4041</td>\n",
       "      <td>27.81</td>\n",
       "    </tr>\n",
       "    <tr>\n",
       "      <th>MS</th>\n",
       "      <td>156</td>\n",
       "      <td>563</td>\n",
       "      <td>27.71</td>\n",
       "    </tr>\n",
       "    <tr>\n",
       "      <th>RN</th>\n",
       "      <td>457</td>\n",
       "      <td>1650</td>\n",
       "      <td>27.70</td>\n",
       "    </tr>\n",
       "    <tr>\n",
       "      <th>PE</th>\n",
       "      <td>800</td>\n",
       "      <td>2894</td>\n",
       "      <td>27.64</td>\n",
       "    </tr>\n",
       "    <tr>\n",
       "      <th>GO</th>\n",
       "      <td>364</td>\n",
       "      <td>1324</td>\n",
       "      <td>27.49</td>\n",
       "    </tr>\n",
       "    <tr>\n",
       "      <th>MT</th>\n",
       "      <td>288</td>\n",
       "      <td>1051</td>\n",
       "      <td>27.40</td>\n",
       "    </tr>\n",
       "    <tr>\n",
       "      <th>RJ</th>\n",
       "      <td>456</td>\n",
       "      <td>1689</td>\n",
       "      <td>27.00</td>\n",
       "    </tr>\n",
       "    <tr>\n",
       "      <th>CE</th>\n",
       "      <td>981</td>\n",
       "      <td>3680</td>\n",
       "      <td>26.66</td>\n",
       "    </tr>\n",
       "    <tr>\n",
       "      <th>AC</th>\n",
       "      <td>48</td>\n",
       "      <td>181</td>\n",
       "      <td>26.52</td>\n",
       "    </tr>\n",
       "    <tr>\n",
       "      <th>SP</th>\n",
       "      <td>1809</td>\n",
       "      <td>6956</td>\n",
       "      <td>26.01</td>\n",
       "    </tr>\n",
       "    <tr>\n",
       "      <th>PA</th>\n",
       "      <td>469</td>\n",
       "      <td>1825</td>\n",
       "      <td>25.70</td>\n",
       "    </tr>\n",
       "    <tr>\n",
       "      <th>MA</th>\n",
       "      <td>157</td>\n",
       "      <td>615</td>\n",
       "      <td>25.53</td>\n",
       "    </tr>\n",
       "    <tr>\n",
       "      <th>MG</th>\n",
       "      <td>618</td>\n",
       "      <td>2467</td>\n",
       "      <td>25.05</td>\n",
       "    </tr>\n",
       "    <tr>\n",
       "      <th>AP</th>\n",
       "      <td>99</td>\n",
       "      <td>396</td>\n",
       "      <td>25.00</td>\n",
       "    </tr>\n",
       "    <tr>\n",
       "      <th>PB</th>\n",
       "      <td>258</td>\n",
       "      <td>1094</td>\n",
       "      <td>23.58</td>\n",
       "    </tr>\n",
       "    <tr>\n",
       "      <th>PI</th>\n",
       "      <td>72</td>\n",
       "      <td>310</td>\n",
       "      <td>23.23</td>\n",
       "    </tr>\n",
       "    <tr>\n",
       "      <th>PR</th>\n",
       "      <td>282</td>\n",
       "      <td>1221</td>\n",
       "      <td>23.10</td>\n",
       "    </tr>\n",
       "    <tr>\n",
       "      <th>RS</th>\n",
       "      <td>946</td>\n",
       "      <td>4254</td>\n",
       "      <td>22.24</td>\n",
       "    </tr>\n",
       "    <tr>\n",
       "      <th>RO</th>\n",
       "      <td>54</td>\n",
       "      <td>289</td>\n",
       "      <td>18.69</td>\n",
       "    </tr>\n",
       "    <tr>\n",
       "      <th>SC</th>\n",
       "      <td>92</td>\n",
       "      <td>528</td>\n",
       "      <td>17.42</td>\n",
       "    </tr>\n",
       "  </tbody>\n",
       "</table>\n",
       "</div>"
      ],
      "text/plain": [
       "                   TARGET_LABEL_BAD=1  Total applicants      %\n",
       "RESIDENCIAL_STATE                                             \n",
       "SE                                 79               217  36.41\n",
       "AM                                100               326  30.67\n",
       "AL                                361              1180  30.59\n",
       "DF                                168               562  29.89\n",
       "TO                                 27                93  29.03\n",
       "RR                                 14                49  28.57\n",
       "ES                                154               545  28.26\n",
       "BA                               1124              4041  27.81\n",
       "MS                                156               563  27.71\n",
       "RN                                457              1650  27.70\n",
       "PE                                800              2894  27.64\n",
       "GO                                364              1324  27.49\n",
       "MT                                288              1051  27.40\n",
       "RJ                                456              1689  27.00\n",
       "CE                                981              3680  26.66\n",
       "AC                                 48               181  26.52\n",
       "SP                               1809              6956  26.01\n",
       "PA                                469              1825  25.70\n",
       "MA                                157               615  25.53\n",
       "MG                                618              2467  25.05\n",
       "AP                                 99               396  25.00\n",
       "PB                                258              1094  23.58\n",
       "PI                                 72               310  23.23\n",
       "PR                                282              1221  23.10\n",
       "RS                                946              4254  22.24\n",
       "RO                                 54               289  18.69\n",
       "SC                                 92               528  17.42"
      ]
     },
     "execution_count": 47,
     "metadata": {},
     "output_type": "execute_result"
    }
   ],
   "source": [
    "residencial_target = pd.DataFrame(X_train.groupby(X_train['RESIDENCIAL_STATE'])['TARGET_LABEL_BAD=1'].sum())\n",
    "residencial_target['Total applicants'] = X_train['RESIDENCIAL_STATE'].value_counts().sort_index()\n",
    "residencial_target['%'] = round(residencial_target['TARGET_LABEL_BAD=1']/residencial_target['Total applicants']*100,2)\n",
    "residencial_target = residencial_target.sort_values(by='%', ascending=False)\n",
    "residencial_target"
   ]
  },
  {
   "cell_type": "markdown",
   "id": "46ba9842",
   "metadata": {},
   "source": [
    "-----------------------------------------------\n",
    "### Numerical features analysis\n",
    "-----------------------------------------------"
   ]
  },
  {
   "cell_type": "code",
   "execution_count": 48,
   "id": "3fde405e",
   "metadata": {
    "scrolled": false
   },
   "outputs": [
    {
     "data": {
      "text/html": [
       "<div>\n",
       "<style scoped>\n",
       "    .dataframe tbody tr th:only-of-type {\n",
       "        vertical-align: middle;\n",
       "    }\n",
       "\n",
       "    .dataframe tbody tr th {\n",
       "        vertical-align: top;\n",
       "    }\n",
       "\n",
       "    .dataframe thead th {\n",
       "        text-align: right;\n",
       "    }\n",
       "</style>\n",
       "<table border=\"1\" class=\"dataframe\">\n",
       "  <thead>\n",
       "    <tr style=\"text-align: right;\">\n",
       "      <th></th>\n",
       "      <th>PERSONAL_MONTHLY_INCOME</th>\n",
       "      <th>AGE</th>\n",
       "      <th>MONTHS_IN_RESIDENCE</th>\n",
       "      <th>PERSONAL_ASSETS_VALUE</th>\n",
       "      <th>OTHER_INCOMES</th>\n",
       "      <th>QUANT_DEPENDANTS</th>\n",
       "    </tr>\n",
       "  </thead>\n",
       "  <tbody>\n",
       "    <tr>\n",
       "      <th>count</th>\n",
       "      <td>40000.0</td>\n",
       "      <td>40000.0</td>\n",
       "      <td>36921.0</td>\n",
       "      <td>40000.0</td>\n",
       "      <td>40000.0</td>\n",
       "      <td>40000.0</td>\n",
       "    </tr>\n",
       "    <tr>\n",
       "      <th>mean</th>\n",
       "      <td>885.0</td>\n",
       "      <td>43.0</td>\n",
       "      <td>10.0</td>\n",
       "      <td>2322.0</td>\n",
       "      <td>36.0</td>\n",
       "      <td>1.0</td>\n",
       "    </tr>\n",
       "    <tr>\n",
       "      <th>std</th>\n",
       "      <td>7859.0</td>\n",
       "      <td>15.0</td>\n",
       "      <td>11.0</td>\n",
       "      <td>44449.0</td>\n",
       "      <td>991.0</td>\n",
       "      <td>1.0</td>\n",
       "    </tr>\n",
       "    <tr>\n",
       "      <th>min</th>\n",
       "      <td>60.0</td>\n",
       "      <td>6.0</td>\n",
       "      <td>0.0</td>\n",
       "      <td>0.0</td>\n",
       "      <td>0.0</td>\n",
       "      <td>0.0</td>\n",
       "    </tr>\n",
       "    <tr>\n",
       "      <th>25%</th>\n",
       "      <td>360.0</td>\n",
       "      <td>31.0</td>\n",
       "      <td>1.0</td>\n",
       "      <td>0.0</td>\n",
       "      <td>0.0</td>\n",
       "      <td>0.0</td>\n",
       "    </tr>\n",
       "    <tr>\n",
       "      <th>50%</th>\n",
       "      <td>500.0</td>\n",
       "      <td>41.0</td>\n",
       "      <td>6.0</td>\n",
       "      <td>0.0</td>\n",
       "      <td>0.0</td>\n",
       "      <td>0.0</td>\n",
       "    </tr>\n",
       "    <tr>\n",
       "      <th>75%</th>\n",
       "      <td>800.0</td>\n",
       "      <td>53.0</td>\n",
       "      <td>15.0</td>\n",
       "      <td>0.0</td>\n",
       "      <td>0.0</td>\n",
       "      <td>1.0</td>\n",
       "    </tr>\n",
       "    <tr>\n",
       "      <th>max</th>\n",
       "      <td>959000.0</td>\n",
       "      <td>106.0</td>\n",
       "      <td>200.0</td>\n",
       "      <td>6000000.0</td>\n",
       "      <td>194344.0</td>\n",
       "      <td>15.0</td>\n",
       "    </tr>\n",
       "  </tbody>\n",
       "</table>\n",
       "</div>"
      ],
      "text/plain": [
       "       PERSONAL_MONTHLY_INCOME      AGE  MONTHS_IN_RESIDENCE  \\\n",
       "count                  40000.0  40000.0              36921.0   \n",
       "mean                     885.0     43.0                 10.0   \n",
       "std                     7859.0     15.0                 11.0   \n",
       "min                       60.0      6.0                  0.0   \n",
       "25%                      360.0     31.0                  1.0   \n",
       "50%                      500.0     41.0                  6.0   \n",
       "75%                      800.0     53.0                 15.0   \n",
       "max                   959000.0    106.0                200.0   \n",
       "\n",
       "       PERSONAL_ASSETS_VALUE  OTHER_INCOMES  QUANT_DEPENDANTS  \n",
       "count                40000.0        40000.0           40000.0  \n",
       "mean                  2322.0           36.0               1.0  \n",
       "std                  44449.0          991.0               1.0  \n",
       "min                      0.0            0.0               0.0  \n",
       "25%                      0.0            0.0               0.0  \n",
       "50%                      0.0            0.0               0.0  \n",
       "75%                      0.0            0.0               1.0  \n",
       "max                6000000.0       194344.0              15.0  "
      ]
     },
     "execution_count": 48,
     "metadata": {},
     "output_type": "execute_result"
    }
   ],
   "source": [
    "num_features_list.remove('MONTHS_IN_THE_JOB')\n",
    "round(X_train[num_features_list].describe())"
   ]
  },
  {
   "cell_type": "markdown",
   "id": "8fc0aec9",
   "metadata": {},
   "source": [
    "#### Numerical features analysis  - Possible outliers"
   ]
  },
  {
   "cell_type": "markdown",
   "id": "8f771a9d",
   "metadata": {},
   "source": [
    "Feature: **PERSONAL_MONTHLY_INCOME**  \n",
    "Applicant's personal regular monthly income in Brazilian currency (R$)."
   ]
  },
  {
   "cell_type": "code",
   "execution_count": 49,
   "id": "787f3fa2",
   "metadata": {
    "scrolled": true
   },
   "outputs": [
    {
     "data": {
      "text/plain": [
       "0    13\n",
       "1     4\n",
       "Name: TARGET_LABEL_BAD=1, dtype: int64"
      ]
     },
     "execution_count": 49,
     "metadata": {},
     "output_type": "execute_result"
    }
   ],
   "source": [
    "X_train['TARGET_LABEL_BAD=1'][X_train[\"PERSONAL_MONTHLY_INCOME\"]>100000].value_counts()"
   ]
  },
  {
   "cell_type": "code",
   "execution_count": 50,
   "id": "16122aad",
   "metadata": {},
   "outputs": [
    {
     "data": {
      "text/html": [
       "<table border=\"1\" class=\"dataframe\">\n",
       "  <thead>\n",
       "    <tr style=\"text-align: right;\">\n",
       "      <th></th>\n",
       "      <th>PAYMENT_DAY</th>\n",
       "      <th>APPLICATION_SUBMISSION_TYPE</th>\n",
       "      <th>POSTAL_ADDRESS_TYPE</th>\n",
       "      <th>SEX</th>\n",
       "      <th>MARITAL_STATUS</th>\n",
       "      <th>QUANT_DEPENDANTS</th>\n",
       "      <th>STATE_OF_BIRTH</th>\n",
       "      <th>CITY_OF_BIRTH</th>\n",
       "      <th>NACIONALITY</th>\n",
       "      <th>RESIDENCIAL_STATE</th>\n",
       "      <th>RESIDENCIAL_CITY</th>\n",
       "      <th>RESIDENCIAL_BOROUGH</th>\n",
       "      <th>FLAG_RESIDENCIAL_PHONE</th>\n",
       "      <th>RESIDENCIAL_PHONE_AREA_CODE</th>\n",
       "      <th>RESIDENCE_TYPE</th>\n",
       "      <th>MONTHS_IN_RESIDENCE</th>\n",
       "      <th>FLAG_EMAIL</th>\n",
       "      <th>PERSONAL_MONTHLY_INCOME</th>\n",
       "      <th>OTHER_INCOMES</th>\n",
       "      <th>FLAG_VISA</th>\n",
       "      <th>FLAG_MASTERCARD</th>\n",
       "      <th>FLAG_DINERS</th>\n",
       "      <th>FLAG_AMERICAN_EXPRESS</th>\n",
       "      <th>FLAG_OTHER_CARDS</th>\n",
       "      <th>QUANT_BANKING_ACCOUNTS</th>\n",
       "      <th>QUANT_SPECIAL_BANKING_ACCOUNTS</th>\n",
       "      <th>PERSONAL_ASSETS_VALUE</th>\n",
       "      <th>QUANT_CARS</th>\n",
       "      <th>COMPANY</th>\n",
       "      <th>FLAG_PROFESSIONAL_PHONE</th>\n",
       "      <th>PROFESSION_CODE</th>\n",
       "      <th>OCCUPATION_TYPE</th>\n",
       "      <th>PRODUCT</th>\n",
       "      <th>AGE</th>\n",
       "      <th>RESIDENCIAL_ZIP_3</th>\n",
       "      <th>PROFESSIONAL_ZIP_3</th>\n",
       "      <th>TARGET_LABEL_BAD=1</th>\n",
       "    </tr>\n",
       "    <tr>\n",
       "      <th>ID_CLIENT</th>\n",
       "      <th></th>\n",
       "      <th></th>\n",
       "      <th></th>\n",
       "      <th></th>\n",
       "      <th></th>\n",
       "      <th></th>\n",
       "      <th></th>\n",
       "      <th></th>\n",
       "      <th></th>\n",
       "      <th></th>\n",
       "      <th></th>\n",
       "      <th></th>\n",
       "      <th></th>\n",
       "      <th></th>\n",
       "      <th></th>\n",
       "      <th></th>\n",
       "      <th></th>\n",
       "      <th></th>\n",
       "      <th></th>\n",
       "      <th></th>\n",
       "      <th></th>\n",
       "      <th></th>\n",
       "      <th></th>\n",
       "      <th></th>\n",
       "      <th></th>\n",
       "      <th></th>\n",
       "      <th></th>\n",
       "      <th></th>\n",
       "      <th></th>\n",
       "      <th></th>\n",
       "      <th></th>\n",
       "      <th></th>\n",
       "      <th></th>\n",
       "      <th></th>\n",
       "      <th></th>\n",
       "      <th></th>\n",
       "      <th></th>\n",
       "    </tr>\n",
       "  </thead>\n",
       "  <tbody>\n",
       "    <tr>\n",
       "      <th>31054</th>\n",
       "      <td>15</td>\n",
       "      <td>0</td>\n",
       "      <td>1</td>\n",
       "      <td>F</td>\n",
       "      <td>1</td>\n",
       "      <td>0</td>\n",
       "      <td>CE</td>\n",
       "      <td>ALTO SANTO</td>\n",
       "      <td>1</td>\n",
       "      <td>CE</td>\n",
       "      <td>FORTALEZA</td>\n",
       "      <td>CENTRO</td>\n",
       "      <td>Y</td>\n",
       "      <td>107</td>\n",
       "      <td>1.0</td>\n",
       "      <td>17.0</td>\n",
       "      <td>1</td>\n",
       "      <td>959000.0</td>\n",
       "      <td>0.0</td>\n",
       "      <td>1</td>\n",
       "      <td>0</td>\n",
       "      <td>0</td>\n",
       "      <td>0</td>\n",
       "      <td>0</td>\n",
       "      <td>1</td>\n",
       "      <td>1</td>\n",
       "      <td>0.0</td>\n",
       "      <td>0</td>\n",
       "      <td>Y</td>\n",
       "      <td>Y</td>\n",
       "      <td>7.0</td>\n",
       "      <td>5.0</td>\n",
       "      <td>1</td>\n",
       "      <td>29</td>\n",
       "      <td>600</td>\n",
       "      <td>600</td>\n",
       "      <td>1</td>\n",
       "    </tr>\n",
       "    <tr>\n",
       "      <th>48272</th>\n",
       "      <td>1</td>\n",
       "      <td>0</td>\n",
       "      <td>1</td>\n",
       "      <td>F</td>\n",
       "      <td>2</td>\n",
       "      <td>2</td>\n",
       "      <td>SC</td>\n",
       "      <td>FPOLIS</td>\n",
       "      <td>1</td>\n",
       "      <td>SC</td>\n",
       "      <td>FPOLIS</td>\n",
       "      <td>SACO GRANDE</td>\n",
       "      <td>Y</td>\n",
       "      <td>50</td>\n",
       "      <td>1.0</td>\n",
       "      <td>46.0</td>\n",
       "      <td>0</td>\n",
       "      <td>875000.0</td>\n",
       "      <td>0.0</td>\n",
       "      <td>0</td>\n",
       "      <td>0</td>\n",
       "      <td>0</td>\n",
       "      <td>0</td>\n",
       "      <td>0</td>\n",
       "      <td>1</td>\n",
       "      <td>1</td>\n",
       "      <td>60000.0</td>\n",
       "      <td>1</td>\n",
       "      <td>Y</td>\n",
       "      <td>Y</td>\n",
       "      <td>0.0</td>\n",
       "      <td>0.0</td>\n",
       "      <td>2</td>\n",
       "      <td>41</td>\n",
       "      <td>880</td>\n",
       "      <td>880</td>\n",
       "      <td>0</td>\n",
       "    </tr>\n",
       "    <tr>\n",
       "      <th>32631</th>\n",
       "      <td>10</td>\n",
       "      <td>0</td>\n",
       "      <td>1</td>\n",
       "      <td>M</td>\n",
       "      <td>5</td>\n",
       "      <td>1</td>\n",
       "      <td>RJ</td>\n",
       "      <td>RIO DE JANEIRO</td>\n",
       "      <td>1</td>\n",
       "      <td>RJ</td>\n",
       "      <td>SAO GONCALO</td>\n",
       "      <td>ITAUNA</td>\n",
       "      <td>Y</td>\n",
       "      <td>20</td>\n",
       "      <td>1.0</td>\n",
       "      <td>25.0</td>\n",
       "      <td>1</td>\n",
       "      <td>486778.0</td>\n",
       "      <td>0.0</td>\n",
       "      <td>0</td>\n",
       "      <td>0</td>\n",
       "      <td>0</td>\n",
       "      <td>0</td>\n",
       "      <td>0</td>\n",
       "      <td>0</td>\n",
       "      <td>0</td>\n",
       "      <td>0.0</td>\n",
       "      <td>0</td>\n",
       "      <td>N</td>\n",
       "      <td>N</td>\n",
       "      <td>9.0</td>\n",
       "      <td>1.0</td>\n",
       "      <td>1</td>\n",
       "      <td>57</td>\n",
       "      <td>244</td>\n",
       "      <td>244</td>\n",
       "      <td>0</td>\n",
       "    </tr>\n",
       "    <tr>\n",
       "      <th>6502</th>\n",
       "      <td>5</td>\n",
       "      <td>Web</td>\n",
       "      <td>1</td>\n",
       "      <td>F</td>\n",
       "      <td>1</td>\n",
       "      <td>3</td>\n",
       "      <td>PI</td>\n",
       "      <td>PIRACURUCA</td>\n",
       "      <td>1</td>\n",
       "      <td>PI</td>\n",
       "      <td>PARNAIBA</td>\n",
       "      <td>PIAUI</td>\n",
       "      <td>Y</td>\n",
       "      <td>110</td>\n",
       "      <td>1.0</td>\n",
       "      <td>2.0</td>\n",
       "      <td>1</td>\n",
       "      <td>300409.0</td>\n",
       "      <td>0.0</td>\n",
       "      <td>0</td>\n",
       "      <td>0</td>\n",
       "      <td>0</td>\n",
       "      <td>0</td>\n",
       "      <td>0</td>\n",
       "      <td>0</td>\n",
       "      <td>0</td>\n",
       "      <td>0.0</td>\n",
       "      <td>0</td>\n",
       "      <td>N</td>\n",
       "      <td>N</td>\n",
       "      <td>NaN</td>\n",
       "      <td>4.0</td>\n",
       "      <td>1</td>\n",
       "      <td>63</td>\n",
       "      <td>642</td>\n",
       "      <td>642</td>\n",
       "      <td>1</td>\n",
       "    </tr>\n",
       "    <tr>\n",
       "      <th>11405</th>\n",
       "      <td>10</td>\n",
       "      <td>Web</td>\n",
       "      <td>2</td>\n",
       "      <td>M</td>\n",
       "      <td>2</td>\n",
       "      <td>0</td>\n",
       "      <td>AM</td>\n",
       "      <td>ikf cu</td>\n",
       "      <td>1</td>\n",
       "      <td>MG</td>\n",
       "      <td>UBERLANDIA</td>\n",
       "      <td>CIDADE JARDIM</td>\n",
       "      <td>Y</td>\n",
       "      <td>32</td>\n",
       "      <td>1.0</td>\n",
       "      <td>1.0</td>\n",
       "      <td>1</td>\n",
       "      <td>216395.0</td>\n",
       "      <td>0.0</td>\n",
       "      <td>0</td>\n",
       "      <td>0</td>\n",
       "      <td>0</td>\n",
       "      <td>0</td>\n",
       "      <td>0</td>\n",
       "      <td>0</td>\n",
       "      <td>0</td>\n",
       "      <td>0.0</td>\n",
       "      <td>0</td>\n",
       "      <td>Y</td>\n",
       "      <td>Y</td>\n",
       "      <td>11.0</td>\n",
       "      <td>2.0</td>\n",
       "      <td>1</td>\n",
       "      <td>28</td>\n",
       "      <td>384</td>\n",
       "      <td>384</td>\n",
       "      <td>0</td>\n",
       "    </tr>\n",
       "    <tr>\n",
       "      <th>32748</th>\n",
       "      <td>20</td>\n",
       "      <td>0</td>\n",
       "      <td>1</td>\n",
       "      <td>F</td>\n",
       "      <td>1</td>\n",
       "      <td>0</td>\n",
       "      <td>GO</td>\n",
       "      <td>DIANOPOLIS</td>\n",
       "      <td>1</td>\n",
       "      <td>GO</td>\n",
       "      <td>GOIANIA</td>\n",
       "      <td>VILA CORONEL COSMO</td>\n",
       "      <td>Y</td>\n",
       "      <td>67</td>\n",
       "      <td>1.0</td>\n",
       "      <td>15.0</td>\n",
       "      <td>0</td>\n",
       "      <td>198183.0</td>\n",
       "      <td>0.0</td>\n",
       "      <td>0</td>\n",
       "      <td>1</td>\n",
       "      <td>0</td>\n",
       "      <td>0</td>\n",
       "      <td>0</td>\n",
       "      <td>1</td>\n",
       "      <td>1</td>\n",
       "      <td>60000.0</td>\n",
       "      <td>1</td>\n",
       "      <td>Y</td>\n",
       "      <td>Y</td>\n",
       "      <td>9.0</td>\n",
       "      <td>2.0</td>\n",
       "      <td>1</td>\n",
       "      <td>51</td>\n",
       "      <td>746</td>\n",
       "      <td>746</td>\n",
       "      <td>0</td>\n",
       "    </tr>\n",
       "    <tr>\n",
       "      <th>39986</th>\n",
       "      <td>10</td>\n",
       "      <td>0</td>\n",
       "      <td>1</td>\n",
       "      <td>F</td>\n",
       "      <td>1</td>\n",
       "      <td>0</td>\n",
       "      <td>RS</td>\n",
       "      <td>POA</td>\n",
       "      <td>1</td>\n",
       "      <td>RS</td>\n",
       "      <td>Alvorada</td>\n",
       "      <td>aparecida</td>\n",
       "      <td>Y</td>\n",
       "      <td>54</td>\n",
       "      <td>1.0</td>\n",
       "      <td>5.0</td>\n",
       "      <td>1</td>\n",
       "      <td>177991.0</td>\n",
       "      <td>0.0</td>\n",
       "      <td>0</td>\n",
       "      <td>0</td>\n",
       "      <td>0</td>\n",
       "      <td>0</td>\n",
       "      <td>0</td>\n",
       "      <td>1</td>\n",
       "      <td>1</td>\n",
       "      <td>0.0</td>\n",
       "      <td>1</td>\n",
       "      <td>N</td>\n",
       "      <td>N</td>\n",
       "      <td>9.0</td>\n",
       "      <td>1.0</td>\n",
       "      <td>1</td>\n",
       "      <td>65</td>\n",
       "      <td>948</td>\n",
       "      <td>948</td>\n",
       "      <td>0</td>\n",
       "    </tr>\n",
       "    <tr>\n",
       "      <th>49074</th>\n",
       "      <td>10</td>\n",
       "      <td>0</td>\n",
       "      <td>1</td>\n",
       "      <td>M</td>\n",
       "      <td>2</td>\n",
       "      <td>0</td>\n",
       "      <td>SP</td>\n",
       "      <td>SAU PAULO</td>\n",
       "      <td>1</td>\n",
       "      <td>SP</td>\n",
       "      <td>OSASCO</td>\n",
       "      <td>MUNHOZ JUNIOR</td>\n",
       "      <td>Y</td>\n",
       "      <td>5</td>\n",
       "      <td>1.0</td>\n",
       "      <td>34.0</td>\n",
       "      <td>0</td>\n",
       "      <td>174274.0</td>\n",
       "      <td>0.0</td>\n",
       "      <td>1</td>\n",
       "      <td>0</td>\n",
       "      <td>0</td>\n",
       "      <td>0</td>\n",
       "      <td>0</td>\n",
       "      <td>1</td>\n",
       "      <td>1</td>\n",
       "      <td>0.0</td>\n",
       "      <td>1</td>\n",
       "      <td>Y</td>\n",
       "      <td>Y</td>\n",
       "      <td>9.0</td>\n",
       "      <td>2.0</td>\n",
       "      <td>1</td>\n",
       "      <td>44</td>\n",
       "      <td>624</td>\n",
       "      <td>624</td>\n",
       "      <td>1</td>\n",
       "    </tr>\n",
       "    <tr>\n",
       "      <th>1034</th>\n",
       "      <td>15</td>\n",
       "      <td>0</td>\n",
       "      <td>1</td>\n",
       "      <td>F</td>\n",
       "      <td>4</td>\n",
       "      <td>0</td>\n",
       "      <td>AL</td>\n",
       "      <td>ARAPIRACA</td>\n",
       "      <td>1</td>\n",
       "      <td>AL</td>\n",
       "      <td>ARAPIRACA</td>\n",
       "      <td>BAIXAO</td>\n",
       "      <td>Y</td>\n",
       "      <td>100</td>\n",
       "      <td>1.0</td>\n",
       "      <td>14.0</td>\n",
       "      <td>0</td>\n",
       "      <td>150040.0</td>\n",
       "      <td>0.0</td>\n",
       "      <td>0</td>\n",
       "      <td>0</td>\n",
       "      <td>0</td>\n",
       "      <td>0</td>\n",
       "      <td>0</td>\n",
       "      <td>1</td>\n",
       "      <td>1</td>\n",
       "      <td>0.0</td>\n",
       "      <td>1</td>\n",
       "      <td>N</td>\n",
       "      <td>N</td>\n",
       "      <td>9.0</td>\n",
       "      <td>1.0</td>\n",
       "      <td>1</td>\n",
       "      <td>62</td>\n",
       "      <td>573</td>\n",
       "      <td>573</td>\n",
       "      <td>0</td>\n",
       "    </tr>\n",
       "    <tr>\n",
       "      <th>15520</th>\n",
       "      <td>5</td>\n",
       "      <td>Web</td>\n",
       "      <td>1</td>\n",
       "      <td>F</td>\n",
       "      <td>2</td>\n",
       "      <td>1</td>\n",
       "      <td>SP</td>\n",
       "      <td>NOVA LUZITANIA</td>\n",
       "      <td>1</td>\n",
       "      <td>MT</td>\n",
       "      <td>CUIABA</td>\n",
       "      <td>JARDIM MOSSORO</td>\n",
       "      <td>Y</td>\n",
       "      <td>71</td>\n",
       "      <td>1.0</td>\n",
       "      <td>10.0</td>\n",
       "      <td>1</td>\n",
       "      <td>149144.0</td>\n",
       "      <td>0.0</td>\n",
       "      <td>1</td>\n",
       "      <td>1</td>\n",
       "      <td>0</td>\n",
       "      <td>0</td>\n",
       "      <td>0</td>\n",
       "      <td>1</td>\n",
       "      <td>1</td>\n",
       "      <td>30000.0</td>\n",
       "      <td>1</td>\n",
       "      <td>Y</td>\n",
       "      <td>N</td>\n",
       "      <td>9.0</td>\n",
       "      <td>5.0</td>\n",
       "      <td>1</td>\n",
       "      <td>49</td>\n",
       "      <td>780</td>\n",
       "      <td>780</td>\n",
       "      <td>0</td>\n",
       "    </tr>\n",
       "    <tr>\n",
       "      <th>34526</th>\n",
       "      <td>5</td>\n",
       "      <td>0</td>\n",
       "      <td>1</td>\n",
       "      <td>F</td>\n",
       "      <td>1</td>\n",
       "      <td>2</td>\n",
       "      <td>ES</td>\n",
       "      <td>VITORIA</td>\n",
       "      <td>1</td>\n",
       "      <td>ES</td>\n",
       "      <td>VILA VELHA</td>\n",
       "      <td>PRAIA DOS RECIFES</td>\n",
       "      <td>Y</td>\n",
       "      <td>25</td>\n",
       "      <td>1.0</td>\n",
       "      <td>6.0</td>\n",
       "      <td>1</td>\n",
       "      <td>147842.0</td>\n",
       "      <td>0.0</td>\n",
       "      <td>0</td>\n",
       "      <td>0</td>\n",
       "      <td>0</td>\n",
       "      <td>0</td>\n",
       "      <td>0</td>\n",
       "      <td>1</td>\n",
       "      <td>1</td>\n",
       "      <td>0.0</td>\n",
       "      <td>1</td>\n",
       "      <td>N</td>\n",
       "      <td>N</td>\n",
       "      <td>9.0</td>\n",
       "      <td>4.0</td>\n",
       "      <td>2</td>\n",
       "      <td>39</td>\n",
       "      <td>291</td>\n",
       "      <td>291</td>\n",
       "      <td>0</td>\n",
       "    </tr>\n",
       "    <tr>\n",
       "      <th>28197</th>\n",
       "      <td>10</td>\n",
       "      <td>Web</td>\n",
       "      <td>1</td>\n",
       "      <td>M</td>\n",
       "      <td>2</td>\n",
       "      <td>0</td>\n",
       "      <td>SP</td>\n",
       "      <td>VITORIA DA CONQUISTA</td>\n",
       "      <td>1</td>\n",
       "      <td>SP</td>\n",
       "      <td>BARUERI</td>\n",
       "      <td>JARDIM MUNTINGA</td>\n",
       "      <td>Y</td>\n",
       "      <td>5</td>\n",
       "      <td>1.0</td>\n",
       "      <td>15.0</td>\n",
       "      <td>1</td>\n",
       "      <td>134841.0</td>\n",
       "      <td>0.0</td>\n",
       "      <td>1</td>\n",
       "      <td>1</td>\n",
       "      <td>0</td>\n",
       "      <td>0</td>\n",
       "      <td>0</td>\n",
       "      <td>0</td>\n",
       "      <td>0</td>\n",
       "      <td>0.0</td>\n",
       "      <td>0</td>\n",
       "      <td>Y</td>\n",
       "      <td>Y</td>\n",
       "      <td>9.0</td>\n",
       "      <td>2.0</td>\n",
       "      <td>1</td>\n",
       "      <td>36</td>\n",
       "      <td>646</td>\n",
       "      <td>646</td>\n",
       "      <td>1</td>\n",
       "    </tr>\n",
       "    <tr>\n",
       "      <th>23113</th>\n",
       "      <td>20</td>\n",
       "      <td>0</td>\n",
       "      <td>1</td>\n",
       "      <td>F</td>\n",
       "      <td>2</td>\n",
       "      <td>0</td>\n",
       "      <td>GO</td>\n",
       "      <td>Anapolis</td>\n",
       "      <td>1</td>\n",
       "      <td>GO</td>\n",
       "      <td>ANAPOLIS</td>\n",
       "      <td>VILLA SAO JOSE</td>\n",
       "      <td>Y</td>\n",
       "      <td>67</td>\n",
       "      <td>1.0</td>\n",
       "      <td>1.0</td>\n",
       "      <td>0</td>\n",
       "      <td>129168.0</td>\n",
       "      <td>0.0</td>\n",
       "      <td>0</td>\n",
       "      <td>0</td>\n",
       "      <td>0</td>\n",
       "      <td>0</td>\n",
       "      <td>0</td>\n",
       "      <td>1</td>\n",
       "      <td>1</td>\n",
       "      <td>0.0</td>\n",
       "      <td>1</td>\n",
       "      <td>Y</td>\n",
       "      <td>N</td>\n",
       "      <td>7.0</td>\n",
       "      <td>2.0</td>\n",
       "      <td>2</td>\n",
       "      <td>52</td>\n",
       "      <td>751</td>\n",
       "      <td>751</td>\n",
       "      <td>0</td>\n",
       "    </tr>\n",
       "    <tr>\n",
       "      <th>25413</th>\n",
       "      <td>10</td>\n",
       "      <td>Web</td>\n",
       "      <td>1</td>\n",
       "      <td>M</td>\n",
       "      <td>2</td>\n",
       "      <td>0</td>\n",
       "      <td>BA</td>\n",
       "      <td>malhada</td>\n",
       "      <td>1</td>\n",
       "      <td>SP</td>\n",
       "      <td>barra bonita</td>\n",
       "      <td>cdhu</td>\n",
       "      <td>Y</td>\n",
       "      <td>12</td>\n",
       "      <td>1.0</td>\n",
       "      <td>20.0</td>\n",
       "      <td>1</td>\n",
       "      <td>123137.0</td>\n",
       "      <td>0.0</td>\n",
       "      <td>0</td>\n",
       "      <td>0</td>\n",
       "      <td>0</td>\n",
       "      <td>0</td>\n",
       "      <td>0</td>\n",
       "      <td>0</td>\n",
       "      <td>0</td>\n",
       "      <td>0.0</td>\n",
       "      <td>0</td>\n",
       "      <td>Y</td>\n",
       "      <td>N</td>\n",
       "      <td>9.0</td>\n",
       "      <td>2.0</td>\n",
       "      <td>1</td>\n",
       "      <td>51</td>\n",
       "      <td>173</td>\n",
       "      <td>173</td>\n",
       "      <td>0</td>\n",
       "    </tr>\n",
       "    <tr>\n",
       "      <th>7011</th>\n",
       "      <td>10</td>\n",
       "      <td>0</td>\n",
       "      <td>1</td>\n",
       "      <td>F</td>\n",
       "      <td>2</td>\n",
       "      <td>0</td>\n",
       "      <td>SC</td>\n",
       "      <td>IMBITUBA</td>\n",
       "      <td>1</td>\n",
       "      <td>SC</td>\n",
       "      <td>PAULO LOPES</td>\n",
       "      <td>NOVA BELEM</td>\n",
       "      <td>N</td>\n",
       "      <td></td>\n",
       "      <td>1.0</td>\n",
       "      <td>20.0</td>\n",
       "      <td>1</td>\n",
       "      <td>121669.0</td>\n",
       "      <td>0.0</td>\n",
       "      <td>0</td>\n",
       "      <td>0</td>\n",
       "      <td>0</td>\n",
       "      <td>0</td>\n",
       "      <td>0</td>\n",
       "      <td>1</td>\n",
       "      <td>1</td>\n",
       "      <td>100000.0</td>\n",
       "      <td>1</td>\n",
       "      <td>N</td>\n",
       "      <td>N</td>\n",
       "      <td>9.0</td>\n",
       "      <td>1.0</td>\n",
       "      <td>1</td>\n",
       "      <td>60</td>\n",
       "      <td>884</td>\n",
       "      <td>884</td>\n",
       "      <td>0</td>\n",
       "    </tr>\n",
       "    <tr>\n",
       "      <th>8320</th>\n",
       "      <td>10</td>\n",
       "      <td>0</td>\n",
       "      <td>1</td>\n",
       "      <td>M</td>\n",
       "      <td>2</td>\n",
       "      <td>0</td>\n",
       "      <td>RS</td>\n",
       "      <td>MARAU</td>\n",
       "      <td>1</td>\n",
       "      <td>RS</td>\n",
       "      <td>TAQUARA</td>\n",
       "      <td>CRUZEIRO  DO  SUL</td>\n",
       "      <td>Y</td>\n",
       "      <td>54</td>\n",
       "      <td>1.0</td>\n",
       "      <td>30.0</td>\n",
       "      <td>0</td>\n",
       "      <td>118666.0</td>\n",
       "      <td>0.0</td>\n",
       "      <td>0</td>\n",
       "      <td>0</td>\n",
       "      <td>0</td>\n",
       "      <td>0</td>\n",
       "      <td>0</td>\n",
       "      <td>1</td>\n",
       "      <td>1</td>\n",
       "      <td>0.0</td>\n",
       "      <td>1</td>\n",
       "      <td>Y</td>\n",
       "      <td>N</td>\n",
       "      <td>9.0</td>\n",
       "      <td>5.0</td>\n",
       "      <td>1</td>\n",
       "      <td>77</td>\n",
       "      <td>956</td>\n",
       "      <td>956</td>\n",
       "      <td>0</td>\n",
       "    </tr>\n",
       "    <tr>\n",
       "      <th>46194</th>\n",
       "      <td>15</td>\n",
       "      <td>Web</td>\n",
       "      <td>1</td>\n",
       "      <td>M</td>\n",
       "      <td>2</td>\n",
       "      <td>3</td>\n",
       "      <td>RN</td>\n",
       "      <td>angicos</td>\n",
       "      <td>1</td>\n",
       "      <td>RN</td>\n",
       "      <td>Natal</td>\n",
       "      <td>Pajucara</td>\n",
       "      <td>Y</td>\n",
       "      <td>105</td>\n",
       "      <td>1.0</td>\n",
       "      <td>19.0</td>\n",
       "      <td>1</td>\n",
       "      <td>105378.0</td>\n",
       "      <td>900.0</td>\n",
       "      <td>0</td>\n",
       "      <td>0</td>\n",
       "      <td>0</td>\n",
       "      <td>0</td>\n",
       "      <td>0</td>\n",
       "      <td>0</td>\n",
       "      <td>0</td>\n",
       "      <td>0.0</td>\n",
       "      <td>0</td>\n",
       "      <td>Y</td>\n",
       "      <td>Y</td>\n",
       "      <td>9.0</td>\n",
       "      <td>2.0</td>\n",
       "      <td>1</td>\n",
       "      <td>45</td>\n",
       "      <td>591</td>\n",
       "      <td>591</td>\n",
       "      <td>0</td>\n",
       "    </tr>\n",
       "  </tbody>\n",
       "</table>"
      ],
      "text/plain": [
       "<IPython.core.display.HTML object>"
      ]
     },
     "execution_count": 50,
     "metadata": {},
     "output_type": "execute_result"
    }
   ],
   "source": [
    "IPython.display.HTML(X_train[X_train[\"PERSONAL_MONTHLY_INCOME\"]>100000].sort_values(by=\"PERSONAL_MONTHLY_INCOME\",ascending=False).to_html())\n"
   ]
  },
  {
   "cell_type": "code",
   "execution_count": 51,
   "id": "efde592d",
   "metadata": {},
   "outputs": [
    {
     "data": {
      "text/plain": [
       "<Figure size 720x360 with 0 Axes>"
      ]
     },
     "metadata": {},
     "output_type": "display_data"
    },
    {
     "data": {
      "image/png": "[encoded data removed]",
      "text/plain": [
       "<Figure size 540x360 with 1 Axes>"
      ]
     },
     "metadata": {
      "needs_background": "light"
     },
     "output_type": "display_data"
    }
   ],
   "source": [
    "visualize.sns_displot(X_train['PERSONAL_MONTHLY_INCOME'],'PERSONAL_MONTHLY_INCOME','Brazilian currency (R$)','Density')"
   ]
  },
  {
   "cell_type": "code",
   "execution_count": 52,
   "id": "dc9a4aea",
   "metadata": {
    "scrolled": true
   },
   "outputs": [
    {
     "data": {
      "image/png": "[encoded data removed]",
      "text/plain": [
       "<Figure size 2304x2304 with 3 Axes>"
      ]
     },
     "metadata": {
      "needs_background": "light"
     },
     "output_type": "display_data"
    }
   ],
   "source": [
    "plt.figure(figsize=(32, 32))\n",
    "plt.subplot(331)\n",
    "chart = X_train.groupby(X_train['PAYMENT_DAY'])['PERSONAL_MONTHLY_INCOME'].mean().plot.bar()\n",
    "chart.set(title=\"Averaged Monthly income grouped by Payment Day \")\n",
    "plt.xlabel('Payment Day', fontsize=10,labelpad=20)\n",
    "plt.ylabel('Averaged Monthly income', fontsize=10, labelpad=20)\n",
    "\n",
    "plt.subplot(332)\n",
    "chart = X_train.groupby(X_train['SEX'])['PERSONAL_MONTHLY_INCOME'].mean().plot.bar()\n",
    "chart.set(title=\"Averaged Monthly income grouped by sex\")\n",
    "plt.xlabel('Sex', fontsize=10,labelpad=20)\n",
    "plt.ylabel('', fontsize=10, labelpad=20)\n",
    "\n",
    "plt.subplot(333)\n",
    "chart = X_train.groupby(X_train['TARGET_LABEL_BAD=1'])['PERSONAL_MONTHLY_INCOME'].mean().plot.bar()\n",
    "chart.set(title=\"Averaged Monthly income grouped by Target\")\n",
    "plt.xlabel('Target', fontsize=10,labelpad=20)\n",
    "plt.ylabel('', fontsize=10, labelpad=20)\n",
    "\n",
    "plt.show()"
   ]
  },
  {
   "cell_type": "markdown",
   "id": "dcf1e398",
   "metadata": {},
   "source": [
    "Feature: **OTHER_INCOMES**  \n",
    "Applicant's other incomes monthly averaged in Brazilian currency (R$)."
   ]
  },
  {
   "cell_type": "code",
   "execution_count": 53,
   "id": "580075c2",
   "metadata": {
    "scrolled": false
   },
   "outputs": [
    {
     "data": {
      "text/html": [
       "<table border=\"1\" class=\"dataframe\">\n",
       "  <thead>\n",
       "    <tr style=\"text-align: right;\">\n",
       "      <th></th>\n",
       "      <th>PAYMENT_DAY</th>\n",
       "      <th>APPLICATION_SUBMISSION_TYPE</th>\n",
       "      <th>POSTAL_ADDRESS_TYPE</th>\n",
       "      <th>SEX</th>\n",
       "      <th>MARITAL_STATUS</th>\n",
       "      <th>QUANT_DEPENDANTS</th>\n",
       "      <th>STATE_OF_BIRTH</th>\n",
       "      <th>CITY_OF_BIRTH</th>\n",
       "      <th>NACIONALITY</th>\n",
       "      <th>RESIDENCIAL_STATE</th>\n",
       "      <th>RESIDENCIAL_CITY</th>\n",
       "      <th>RESIDENCIAL_BOROUGH</th>\n",
       "      <th>FLAG_RESIDENCIAL_PHONE</th>\n",
       "      <th>RESIDENCIAL_PHONE_AREA_CODE</th>\n",
       "      <th>RESIDENCE_TYPE</th>\n",
       "      <th>MONTHS_IN_RESIDENCE</th>\n",
       "      <th>FLAG_EMAIL</th>\n",
       "      <th>PERSONAL_MONTHLY_INCOME</th>\n",
       "      <th>OTHER_INCOMES</th>\n",
       "      <th>FLAG_VISA</th>\n",
       "      <th>FLAG_MASTERCARD</th>\n",
       "      <th>FLAG_DINERS</th>\n",
       "      <th>FLAG_AMERICAN_EXPRESS</th>\n",
       "      <th>FLAG_OTHER_CARDS</th>\n",
       "      <th>QUANT_BANKING_ACCOUNTS</th>\n",
       "      <th>QUANT_SPECIAL_BANKING_ACCOUNTS</th>\n",
       "      <th>PERSONAL_ASSETS_VALUE</th>\n",
       "      <th>QUANT_CARS</th>\n",
       "      <th>COMPANY</th>\n",
       "      <th>FLAG_PROFESSIONAL_PHONE</th>\n",
       "      <th>PROFESSION_CODE</th>\n",
       "      <th>OCCUPATION_TYPE</th>\n",
       "      <th>PRODUCT</th>\n",
       "      <th>AGE</th>\n",
       "      <th>RESIDENCIAL_ZIP_3</th>\n",
       "      <th>PROFESSIONAL_ZIP_3</th>\n",
       "      <th>TARGET_LABEL_BAD=1</th>\n",
       "    </tr>\n",
       "    <tr>\n",
       "      <th>ID_CLIENT</th>\n",
       "      <th></th>\n",
       "      <th></th>\n",
       "      <th></th>\n",
       "      <th></th>\n",
       "      <th></th>\n",
       "      <th></th>\n",
       "      <th></th>\n",
       "      <th></th>\n",
       "      <th></th>\n",
       "      <th></th>\n",
       "      <th></th>\n",
       "      <th></th>\n",
       "      <th></th>\n",
       "      <th></th>\n",
       "      <th></th>\n",
       "      <th></th>\n",
       "      <th></th>\n",
       "      <th></th>\n",
       "      <th></th>\n",
       "      <th></th>\n",
       "      <th></th>\n",
       "      <th></th>\n",
       "      <th></th>\n",
       "      <th></th>\n",
       "      <th></th>\n",
       "      <th></th>\n",
       "      <th></th>\n",
       "      <th></th>\n",
       "      <th></th>\n",
       "      <th></th>\n",
       "      <th></th>\n",
       "      <th></th>\n",
       "      <th></th>\n",
       "      <th></th>\n",
       "      <th></th>\n",
       "      <th></th>\n",
       "      <th></th>\n",
       "    </tr>\n",
       "  </thead>\n",
       "  <tbody>\n",
       "    <tr>\n",
       "      <th>14198</th>\n",
       "      <td>10</td>\n",
       "      <td>Web</td>\n",
       "      <td>1</td>\n",
       "      <td>M</td>\n",
       "      <td>1</td>\n",
       "      <td>1</td>\n",
       "      <td>BA</td>\n",
       "      <td>Coracao De Maria</td>\n",
       "      <td>1</td>\n",
       "      <td>AM</td>\n",
       "      <td>manaus</td>\n",
       "      <td>Sao Jose I</td>\n",
       "      <td>N</td>\n",
       "      <td></td>\n",
       "      <td>1.0</td>\n",
       "      <td>20.0</td>\n",
       "      <td>1</td>\n",
       "      <td>871.0</td>\n",
       "      <td>194344.0</td>\n",
       "      <td>0</td>\n",
       "      <td>0</td>\n",
       "      <td>0</td>\n",
       "      <td>0</td>\n",
       "      <td>0</td>\n",
       "      <td>0</td>\n",
       "      <td>0</td>\n",
       "      <td>0.0</td>\n",
       "      <td>0</td>\n",
       "      <td>Y</td>\n",
       "      <td>N</td>\n",
       "      <td>9.0</td>\n",
       "      <td>1.0</td>\n",
       "      <td>1</td>\n",
       "      <td>63</td>\n",
       "      <td>690</td>\n",
       "      <td>690</td>\n",
       "      <td>1</td>\n",
       "    </tr>\n",
       "  </tbody>\n",
       "</table>"
      ],
      "text/plain": [
       "<IPython.core.display.HTML object>"
      ]
     },
     "execution_count": 53,
     "metadata": {},
     "output_type": "execute_result"
    }
   ],
   "source": [
    "IPython.display.HTML(X_train[X_train['OTHER_INCOMES']==194344.0].to_html())"
   ]
  },
  {
   "cell_type": "code",
   "execution_count": 54,
   "id": "9d6e8a43",
   "metadata": {
    "scrolled": false
   },
   "outputs": [
    {
     "data": {
      "text/plain": [
       "<Figure size 720x360 with 0 Axes>"
      ]
     },
     "metadata": {},
     "output_type": "display_data"
    },
    {
     "data": {
      "image/png": "[encoded data removed]",
      "text/plain": [
       "<Figure size 540x360 with 1 Axes>"
      ]
     },
     "metadata": {
      "needs_background": "light"
     },
     "output_type": "display_data"
    }
   ],
   "source": [
    "visualize.sns_displot(X_train['OTHER_INCOMES'],'OTHER_INCOMES','Brazilian currency (R$)','Density')"
   ]
  },
  {
   "cell_type": "code",
   "execution_count": 55,
   "id": "72db170d",
   "metadata": {
    "scrolled": true
   },
   "outputs": [
    {
     "data": {
      "image/png": "[encoded data removed]",
      "text/plain": [
       "<Figure size 2304x2304 with 3 Axes>"
      ]
     },
     "metadata": {
      "needs_background": "light"
     },
     "output_type": "display_data"
    }
   ],
   "source": [
    "plt.figure(figsize=(32, 32))\n",
    "plt.subplot(331)\n",
    "chart = X_train.groupby(X_train['PAYMENT_DAY'])['OTHER_INCOMES'].mean().plot.bar()\n",
    "chart.set(title=\"Averaged Monthly income grouped by Payment Day \")\n",
    "plt.xlabel('Payment Day', fontsize=10,labelpad=20)\n",
    "plt.ylabel('Averaged Monthly income', fontsize=10, labelpad=20)\n",
    "\n",
    "plt.subplot(332)\n",
    "chart = X_train.groupby(X_train['SEX'])['OTHER_INCOMES'].mean().plot.bar()\n",
    "chart.set(title=\"Averaged Monthly income grouped by sex\")\n",
    "plt.xlabel('Sex', fontsize=10,labelpad=20)\n",
    "plt.ylabel('', fontsize=10, labelpad=20)\n",
    "\n",
    "plt.subplot(333)\n",
    "chart = X_train.groupby(X_train['TARGET_LABEL_BAD=1'])['OTHER_INCOMES'].mean().plot.bar()\n",
    "chart.set(title=\"Averaged Monthly income grouped by Target\")\n",
    "plt.xlabel('Target', fontsize=10,labelpad=20)\n",
    "plt.ylabel('', fontsize=10, labelpad=20)\n",
    "\n",
    "plt.show()"
   ]
  },
  {
   "cell_type": "markdown",
   "id": "6d3fe216",
   "metadata": {},
   "source": [
    "Feature: **QUANT_DEPENDANTS**  \n",
    "No information on Variables list but estimated to be quantity of people who rely on applicant for financial support."
   ]
  },
  {
   "cell_type": "code",
   "execution_count": 56,
   "id": "ed6a6448",
   "metadata": {
    "scrolled": true
   },
   "outputs": [
    {
     "data": {
      "text/html": [
       "<table border=\"1\" class=\"dataframe\">\n",
       "  <thead>\n",
       "    <tr style=\"text-align: right;\">\n",
       "      <th></th>\n",
       "      <th>PAYMENT_DAY</th>\n",
       "      <th>APPLICATION_SUBMISSION_TYPE</th>\n",
       "      <th>POSTAL_ADDRESS_TYPE</th>\n",
       "      <th>SEX</th>\n",
       "      <th>MARITAL_STATUS</th>\n",
       "      <th>QUANT_DEPENDANTS</th>\n",
       "      <th>STATE_OF_BIRTH</th>\n",
       "      <th>CITY_OF_BIRTH</th>\n",
       "      <th>NACIONALITY</th>\n",
       "      <th>RESIDENCIAL_STATE</th>\n",
       "      <th>RESIDENCIAL_CITY</th>\n",
       "      <th>RESIDENCIAL_BOROUGH</th>\n",
       "      <th>FLAG_RESIDENCIAL_PHONE</th>\n",
       "      <th>RESIDENCIAL_PHONE_AREA_CODE</th>\n",
       "      <th>RESIDENCE_TYPE</th>\n",
       "      <th>MONTHS_IN_RESIDENCE</th>\n",
       "      <th>FLAG_EMAIL</th>\n",
       "      <th>PERSONAL_MONTHLY_INCOME</th>\n",
       "      <th>OTHER_INCOMES</th>\n",
       "      <th>FLAG_VISA</th>\n",
       "      <th>FLAG_MASTERCARD</th>\n",
       "      <th>FLAG_DINERS</th>\n",
       "      <th>FLAG_AMERICAN_EXPRESS</th>\n",
       "      <th>FLAG_OTHER_CARDS</th>\n",
       "      <th>QUANT_BANKING_ACCOUNTS</th>\n",
       "      <th>QUANT_SPECIAL_BANKING_ACCOUNTS</th>\n",
       "      <th>PERSONAL_ASSETS_VALUE</th>\n",
       "      <th>QUANT_CARS</th>\n",
       "      <th>COMPANY</th>\n",
       "      <th>FLAG_PROFESSIONAL_PHONE</th>\n",
       "      <th>PROFESSION_CODE</th>\n",
       "      <th>OCCUPATION_TYPE</th>\n",
       "      <th>PRODUCT</th>\n",
       "      <th>AGE</th>\n",
       "      <th>RESIDENCIAL_ZIP_3</th>\n",
       "      <th>PROFESSIONAL_ZIP_3</th>\n",
       "      <th>TARGET_LABEL_BAD=1</th>\n",
       "    </tr>\n",
       "    <tr>\n",
       "      <th>ID_CLIENT</th>\n",
       "      <th></th>\n",
       "      <th></th>\n",
       "      <th></th>\n",
       "      <th></th>\n",
       "      <th></th>\n",
       "      <th></th>\n",
       "      <th></th>\n",
       "      <th></th>\n",
       "      <th></th>\n",
       "      <th></th>\n",
       "      <th></th>\n",
       "      <th></th>\n",
       "      <th></th>\n",
       "      <th></th>\n",
       "      <th></th>\n",
       "      <th></th>\n",
       "      <th></th>\n",
       "      <th></th>\n",
       "      <th></th>\n",
       "      <th></th>\n",
       "      <th></th>\n",
       "      <th></th>\n",
       "      <th></th>\n",
       "      <th></th>\n",
       "      <th></th>\n",
       "      <th></th>\n",
       "      <th></th>\n",
       "      <th></th>\n",
       "      <th></th>\n",
       "      <th></th>\n",
       "      <th></th>\n",
       "      <th></th>\n",
       "      <th></th>\n",
       "      <th></th>\n",
       "      <th></th>\n",
       "      <th></th>\n",
       "      <th></th>\n",
       "    </tr>\n",
       "  </thead>\n",
       "  <tbody>\n",
       "  </tbody>\n",
       "</table>"
      ],
      "text/plain": [
       "<IPython.core.display.HTML object>"
      ]
     },
     "execution_count": 56,
     "metadata": {},
     "output_type": "execute_result"
    }
   ],
   "source": [
    "IPython.display.HTML(X_train[X_train['QUANT_DEPENDANTS']==53].to_html())"
   ]
  },
  {
   "cell_type": "code",
   "execution_count": 57,
   "id": "40998890",
   "metadata": {},
   "outputs": [
    {
     "data": {
      "text/plain": [
       "<Figure size 720x360 with 0 Axes>"
      ]
     },
     "metadata": {},
     "output_type": "display_data"
    },
    {
     "data": {
      "image/png": "[encoded data removed]",
      "text/plain": [
       "<Figure size 540x360 with 1 Axes>"
      ]
     },
     "metadata": {
      "needs_background": "light"
     },
     "output_type": "display_data"
    }
   ],
   "source": [
    "visualize.sns_displot(X_train['QUANT_DEPENDANTS'],'QUANT_DEPENDANTS','Brazilian currency (R$)','Density')"
   ]
  },
  {
   "cell_type": "markdown",
   "id": "52616014",
   "metadata": {},
   "source": [
    "Feature: **PERSONAL_ASSETS_VALUE**  \n",
    "Total value of the personal possessions such as houses, cars etc. in Brazilian currency (R$)."
   ]
  },
  {
   "cell_type": "code",
   "execution_count": 58,
   "id": "90b2673d",
   "metadata": {
    "scrolled": true
   },
   "outputs": [
    {
     "data": {
      "text/html": [
       "<table border=\"1\" class=\"dataframe\">\n",
       "  <thead>\n",
       "    <tr style=\"text-align: right;\">\n",
       "      <th></th>\n",
       "      <th>PAYMENT_DAY</th>\n",
       "      <th>APPLICATION_SUBMISSION_TYPE</th>\n",
       "      <th>POSTAL_ADDRESS_TYPE</th>\n",
       "      <th>SEX</th>\n",
       "      <th>MARITAL_STATUS</th>\n",
       "      <th>QUANT_DEPENDANTS</th>\n",
       "      <th>STATE_OF_BIRTH</th>\n",
       "      <th>CITY_OF_BIRTH</th>\n",
       "      <th>NACIONALITY</th>\n",
       "      <th>RESIDENCIAL_STATE</th>\n",
       "      <th>RESIDENCIAL_CITY</th>\n",
       "      <th>RESIDENCIAL_BOROUGH</th>\n",
       "      <th>FLAG_RESIDENCIAL_PHONE</th>\n",
       "      <th>RESIDENCIAL_PHONE_AREA_CODE</th>\n",
       "      <th>RESIDENCE_TYPE</th>\n",
       "      <th>MONTHS_IN_RESIDENCE</th>\n",
       "      <th>FLAG_EMAIL</th>\n",
       "      <th>PERSONAL_MONTHLY_INCOME</th>\n",
       "      <th>OTHER_INCOMES</th>\n",
       "      <th>FLAG_VISA</th>\n",
       "      <th>FLAG_MASTERCARD</th>\n",
       "      <th>FLAG_DINERS</th>\n",
       "      <th>FLAG_AMERICAN_EXPRESS</th>\n",
       "      <th>FLAG_OTHER_CARDS</th>\n",
       "      <th>QUANT_BANKING_ACCOUNTS</th>\n",
       "      <th>QUANT_SPECIAL_BANKING_ACCOUNTS</th>\n",
       "      <th>PERSONAL_ASSETS_VALUE</th>\n",
       "      <th>QUANT_CARS</th>\n",
       "      <th>COMPANY</th>\n",
       "      <th>FLAG_PROFESSIONAL_PHONE</th>\n",
       "      <th>PROFESSION_CODE</th>\n",
       "      <th>OCCUPATION_TYPE</th>\n",
       "      <th>PRODUCT</th>\n",
       "      <th>AGE</th>\n",
       "      <th>RESIDENCIAL_ZIP_3</th>\n",
       "      <th>PROFESSIONAL_ZIP_3</th>\n",
       "      <th>TARGET_LABEL_BAD=1</th>\n",
       "    </tr>\n",
       "    <tr>\n",
       "      <th>ID_CLIENT</th>\n",
       "      <th></th>\n",
       "      <th></th>\n",
       "      <th></th>\n",
       "      <th></th>\n",
       "      <th></th>\n",
       "      <th></th>\n",
       "      <th></th>\n",
       "      <th></th>\n",
       "      <th></th>\n",
       "      <th></th>\n",
       "      <th></th>\n",
       "      <th></th>\n",
       "      <th></th>\n",
       "      <th></th>\n",
       "      <th></th>\n",
       "      <th></th>\n",
       "      <th></th>\n",
       "      <th></th>\n",
       "      <th></th>\n",
       "      <th></th>\n",
       "      <th></th>\n",
       "      <th></th>\n",
       "      <th></th>\n",
       "      <th></th>\n",
       "      <th></th>\n",
       "      <th></th>\n",
       "      <th></th>\n",
       "      <th></th>\n",
       "      <th></th>\n",
       "      <th></th>\n",
       "      <th></th>\n",
       "      <th></th>\n",
       "      <th></th>\n",
       "      <th></th>\n",
       "      <th></th>\n",
       "      <th></th>\n",
       "      <th></th>\n",
       "    </tr>\n",
       "  </thead>\n",
       "  <tbody>\n",
       "    <tr>\n",
       "      <th>48432</th>\n",
       "      <td>10</td>\n",
       "      <td>Web</td>\n",
       "      <td>1</td>\n",
       "      <td>M</td>\n",
       "      <td>4</td>\n",
       "      <td>6</td>\n",
       "      <td>BA</td>\n",
       "      <td>INHAMBUPE</td>\n",
       "      <td>1</td>\n",
       "      <td>BA</td>\n",
       "      <td>INHAMBUPE</td>\n",
       "      <td>ZONA RURAL</td>\n",
       "      <td>N</td>\n",
       "      <td></td>\n",
       "      <td>1.0</td>\n",
       "      <td>63.0</td>\n",
       "      <td>1</td>\n",
       "      <td>350.0</td>\n",
       "      <td>200.0</td>\n",
       "      <td>0</td>\n",
       "      <td>0</td>\n",
       "      <td>0</td>\n",
       "      <td>0</td>\n",
       "      <td>0</td>\n",
       "      <td>0</td>\n",
       "      <td>0</td>\n",
       "      <td>5000000.0</td>\n",
       "      <td>0</td>\n",
       "      <td>N</td>\n",
       "      <td>N</td>\n",
       "      <td>NaN</td>\n",
       "      <td>1.0</td>\n",
       "      <td>1</td>\n",
       "      <td>63</td>\n",
       "      <td>484</td>\n",
       "      <td>484</td>\n",
       "      <td>0</td>\n",
       "    </tr>\n",
       "    <tr>\n",
       "      <th>14880</th>\n",
       "      <td>10</td>\n",
       "      <td>Web</td>\n",
       "      <td>2</td>\n",
       "      <td>F</td>\n",
       "      <td>2</td>\n",
       "      <td>1</td>\n",
       "      <td>RS</td>\n",
       "      <td>sao francisco</td>\n",
       "      <td>1</td>\n",
       "      <td>RS</td>\n",
       "      <td>novo hamburgo</td>\n",
       "      <td>primavera</td>\n",
       "      <td>Y</td>\n",
       "      <td>54</td>\n",
       "      <td>1.0</td>\n",
       "      <td>13.0</td>\n",
       "      <td>1</td>\n",
       "      <td>543.0</td>\n",
       "      <td>0.0</td>\n",
       "      <td>0</td>\n",
       "      <td>0</td>\n",
       "      <td>0</td>\n",
       "      <td>0</td>\n",
       "      <td>0</td>\n",
       "      <td>0</td>\n",
       "      <td>0</td>\n",
       "      <td>6000000.0</td>\n",
       "      <td>0</td>\n",
       "      <td>Y</td>\n",
       "      <td>Y</td>\n",
       "      <td>9.0</td>\n",
       "      <td>NaN</td>\n",
       "      <td>1</td>\n",
       "      <td>38</td>\n",
       "      <td>933</td>\n",
       "      <td>933</td>\n",
       "      <td>1</td>\n",
       "    </tr>\n",
       "    <tr>\n",
       "      <th>26523</th>\n",
       "      <td>10</td>\n",
       "      <td>Web</td>\n",
       "      <td>1</td>\n",
       "      <td>F</td>\n",
       "      <td>2</td>\n",
       "      <td>1</td>\n",
       "      <td>MS</td>\n",
       "      <td>ITABUNA</td>\n",
       "      <td>1</td>\n",
       "      <td>MS</td>\n",
       "      <td>COSTA RICA</td>\n",
       "      <td>SAO FRANCISCO</td>\n",
       "      <td>N</td>\n",
       "      <td></td>\n",
       "      <td>1.0</td>\n",
       "      <td>2.0</td>\n",
       "      <td>1</td>\n",
       "      <td>38000.0</td>\n",
       "      <td>0.0</td>\n",
       "      <td>0</td>\n",
       "      <td>0</td>\n",
       "      <td>0</td>\n",
       "      <td>0</td>\n",
       "      <td>0</td>\n",
       "      <td>0</td>\n",
       "      <td>0</td>\n",
       "      <td>1500000.0</td>\n",
       "      <td>0</td>\n",
       "      <td>Y</td>\n",
       "      <td>N</td>\n",
       "      <td>NaN</td>\n",
       "      <td>NaN</td>\n",
       "      <td>1</td>\n",
       "      <td>58</td>\n",
       "      <td>795</td>\n",
       "      <td>795</td>\n",
       "      <td>0</td>\n",
       "    </tr>\n",
       "    <tr>\n",
       "      <th>12916</th>\n",
       "      <td>10</td>\n",
       "      <td>0</td>\n",
       "      <td>1</td>\n",
       "      <td>F</td>\n",
       "      <td>6</td>\n",
       "      <td>2</td>\n",
       "      <td>SE</td>\n",
       "      <td>CUMBE</td>\n",
       "      <td>1</td>\n",
       "      <td>SP</td>\n",
       "      <td>Sao Paulo</td>\n",
       "      <td>Conjunto Habitacional Barro Branco II</td>\n",
       "      <td>Y</td>\n",
       "      <td>5</td>\n",
       "      <td>1.0</td>\n",
       "      <td>13.0</td>\n",
       "      <td>1</td>\n",
       "      <td>650.0</td>\n",
       "      <td>0.0</td>\n",
       "      <td>0</td>\n",
       "      <td>1</td>\n",
       "      <td>0</td>\n",
       "      <td>0</td>\n",
       "      <td>0</td>\n",
       "      <td>1</td>\n",
       "      <td>1</td>\n",
       "      <td>1800000.0</td>\n",
       "      <td>1</td>\n",
       "      <td>N</td>\n",
       "      <td>Y</td>\n",
       "      <td>2.0</td>\n",
       "      <td>5.0</td>\n",
       "      <td>1</td>\n",
       "      <td>37</td>\n",
       "      <td>847</td>\n",
       "      <td>847</td>\n",
       "      <td>0</td>\n",
       "    </tr>\n",
       "    <tr>\n",
       "      <th>35355</th>\n",
       "      <td>10</td>\n",
       "      <td>Web</td>\n",
       "      <td>1</td>\n",
       "      <td>M</td>\n",
       "      <td>2</td>\n",
       "      <td>1</td>\n",
       "      <td>PR</td>\n",
       "      <td>PARANAVAI</td>\n",
       "      <td>1</td>\n",
       "      <td>PR</td>\n",
       "      <td>COLORADO</td>\n",
       "      <td>ALTO ALEGRE</td>\n",
       "      <td>Y</td>\n",
       "      <td>44</td>\n",
       "      <td>1.0</td>\n",
       "      <td>8.0</td>\n",
       "      <td>1</td>\n",
       "      <td>715.0</td>\n",
       "      <td>0.0</td>\n",
       "      <td>0</td>\n",
       "      <td>0</td>\n",
       "      <td>0</td>\n",
       "      <td>0</td>\n",
       "      <td>0</td>\n",
       "      <td>0</td>\n",
       "      <td>0</td>\n",
       "      <td>2500000.0</td>\n",
       "      <td>0</td>\n",
       "      <td>Y</td>\n",
       "      <td>Y</td>\n",
       "      <td>NaN</td>\n",
       "      <td>2.0</td>\n",
       "      <td>1</td>\n",
       "      <td>33</td>\n",
       "      <td>866</td>\n",
       "      <td>866</td>\n",
       "      <td>0</td>\n",
       "    </tr>\n",
       "  </tbody>\n",
       "</table>"
      ],
      "text/plain": [
       "<IPython.core.display.HTML object>"
      ]
     },
     "execution_count": 58,
     "metadata": {},
     "output_type": "execute_result"
    }
   ],
   "source": [
    "IPython.display.HTML(X_train[X_train['PERSONAL_ASSETS_VALUE']>=1000000].to_html())"
   ]
  },
  {
   "cell_type": "code",
   "execution_count": 59,
   "id": "5f73fd84",
   "metadata": {
    "scrolled": true
   },
   "outputs": [
    {
     "data": {
      "text/plain": [
       "<Figure size 720x360 with 0 Axes>"
      ]
     },
     "metadata": {},
     "output_type": "display_data"
    },
    {
     "data": {
      "image/png": "[encoded data removed]",
      "text/plain": [
       "<Figure size 540x360 with 1 Axes>"
      ]
     },
     "metadata": {
      "needs_background": "light"
     },
     "output_type": "display_data"
    }
   ],
   "source": [
    "visualize.sns_displot(X_train['PERSONAL_ASSETS_VALUE'],'PERSONAL_ASSETS_VALUE','Brazilian currency (R$)','Density')"
   ]
  },
  {
   "cell_type": "code",
   "execution_count": 60,
   "id": "bf53bd5f",
   "metadata": {
    "scrolled": true
   },
   "outputs": [
    {
     "data": {
      "text/plain": [
       "0    67\n",
       "1    12\n",
       "Name: TARGET_LABEL_BAD=1, dtype: int64"
      ]
     },
     "execution_count": 60,
     "metadata": {},
     "output_type": "execute_result"
    }
   ],
   "source": [
    "X_train['TARGET_LABEL_BAD=1'][X_train[\"PERSONAL_ASSETS_VALUE\"]>100000].value_counts()"
   ]
  },
  {
   "cell_type": "markdown",
   "id": "f88e78f7",
   "metadata": {},
   "source": [
    "Feature: **MONTHS_IN_RESIDENCE**  \n",
    "Time in the current residence in months."
   ]
  },
  {
   "cell_type": "code",
   "execution_count": 61,
   "id": "8c462906",
   "metadata": {
    "scrolled": false
   },
   "outputs": [
    {
     "data": {
      "text/plain": [
       "<Figure size 720x360 with 0 Axes>"
      ]
     },
     "metadata": {},
     "output_type": "display_data"
    },
    {
     "data": {
      "image/png": "[encoded data removed]",
      "text/plain": [
       "<Figure size 540x360 with 1 Axes>"
      ]
     },
     "metadata": {
      "needs_background": "light"
     },
     "output_type": "display_data"
    }
   ],
   "source": [
    "visualize.sns_displot(X_train[\"MONTHS_IN_RESIDENCE\"],'MONTHS_IN_RESIDENCE','Months','Density')"
   ]
  },
  {
   "cell_type": "code",
   "execution_count": 62,
   "id": "595c4cfd",
   "metadata": {},
   "outputs": [
    {
     "data": {
      "text/plain": [
       "0.0      3736\n",
       "1.0      5849\n",
       "2.0      2588\n",
       "3.0      1829\n",
       "4.0      1283\n",
       "         ... \n",
       "96.0        1\n",
       "99.0        1\n",
       "100.0       1\n",
       "101.0       1\n",
       "200.0       1\n",
       "Name: MONTHS_IN_RESIDENCE, Length: 84, dtype: int64"
      ]
     },
     "execution_count": 62,
     "metadata": {},
     "output_type": "execute_result"
    }
   ],
   "source": [
    "X_train[\"MONTHS_IN_RESIDENCE\"].value_counts().sort_index()"
   ]
  },
  {
   "cell_type": "code",
   "execution_count": 63,
   "id": "58231c4d",
   "metadata": {
    "scrolled": true
   },
   "outputs": [
    {
     "data": {
      "text/html": [
       "<table border=\"1\" class=\"dataframe\">\n",
       "  <thead>\n",
       "    <tr style=\"text-align: right;\">\n",
       "      <th></th>\n",
       "      <th>PAYMENT_DAY</th>\n",
       "      <th>APPLICATION_SUBMISSION_TYPE</th>\n",
       "      <th>POSTAL_ADDRESS_TYPE</th>\n",
       "      <th>SEX</th>\n",
       "      <th>MARITAL_STATUS</th>\n",
       "      <th>QUANT_DEPENDANTS</th>\n",
       "      <th>STATE_OF_BIRTH</th>\n",
       "      <th>CITY_OF_BIRTH</th>\n",
       "      <th>NACIONALITY</th>\n",
       "      <th>RESIDENCIAL_STATE</th>\n",
       "      <th>RESIDENCIAL_CITY</th>\n",
       "      <th>RESIDENCIAL_BOROUGH</th>\n",
       "      <th>FLAG_RESIDENCIAL_PHONE</th>\n",
       "      <th>RESIDENCIAL_PHONE_AREA_CODE</th>\n",
       "      <th>RESIDENCE_TYPE</th>\n",
       "      <th>MONTHS_IN_RESIDENCE</th>\n",
       "      <th>FLAG_EMAIL</th>\n",
       "      <th>PERSONAL_MONTHLY_INCOME</th>\n",
       "      <th>OTHER_INCOMES</th>\n",
       "      <th>FLAG_VISA</th>\n",
       "      <th>FLAG_MASTERCARD</th>\n",
       "      <th>FLAG_DINERS</th>\n",
       "      <th>FLAG_AMERICAN_EXPRESS</th>\n",
       "      <th>FLAG_OTHER_CARDS</th>\n",
       "      <th>QUANT_BANKING_ACCOUNTS</th>\n",
       "      <th>QUANT_SPECIAL_BANKING_ACCOUNTS</th>\n",
       "      <th>PERSONAL_ASSETS_VALUE</th>\n",
       "      <th>QUANT_CARS</th>\n",
       "      <th>COMPANY</th>\n",
       "      <th>FLAG_PROFESSIONAL_PHONE</th>\n",
       "      <th>PROFESSION_CODE</th>\n",
       "      <th>OCCUPATION_TYPE</th>\n",
       "      <th>PRODUCT</th>\n",
       "      <th>AGE</th>\n",
       "      <th>RESIDENCIAL_ZIP_3</th>\n",
       "      <th>PROFESSIONAL_ZIP_3</th>\n",
       "      <th>TARGET_LABEL_BAD=1</th>\n",
       "    </tr>\n",
       "    <tr>\n",
       "      <th>ID_CLIENT</th>\n",
       "      <th></th>\n",
       "      <th></th>\n",
       "      <th></th>\n",
       "      <th></th>\n",
       "      <th></th>\n",
       "      <th></th>\n",
       "      <th></th>\n",
       "      <th></th>\n",
       "      <th></th>\n",
       "      <th></th>\n",
       "      <th></th>\n",
       "      <th></th>\n",
       "      <th></th>\n",
       "      <th></th>\n",
       "      <th></th>\n",
       "      <th></th>\n",
       "      <th></th>\n",
       "      <th></th>\n",
       "      <th></th>\n",
       "      <th></th>\n",
       "      <th></th>\n",
       "      <th></th>\n",
       "      <th></th>\n",
       "      <th></th>\n",
       "      <th></th>\n",
       "      <th></th>\n",
       "      <th></th>\n",
       "      <th></th>\n",
       "      <th></th>\n",
       "      <th></th>\n",
       "      <th></th>\n",
       "      <th></th>\n",
       "      <th></th>\n",
       "      <th></th>\n",
       "      <th></th>\n",
       "      <th></th>\n",
       "      <th></th>\n",
       "    </tr>\n",
       "  </thead>\n",
       "  <tbody>\n",
       "    <tr>\n",
       "      <th>36666</th>\n",
       "      <td>10</td>\n",
       "      <td>Web</td>\n",
       "      <td>1</td>\n",
       "      <td>F</td>\n",
       "      <td>4</td>\n",
       "      <td>1</td>\n",
       "      <td>BA</td>\n",
       "      <td>ALAGOINHAS</td>\n",
       "      <td>1</td>\n",
       "      <td>SP</td>\n",
       "      <td>GUARULHOS</td>\n",
       "      <td>LAVRAS</td>\n",
       "      <td>Y</td>\n",
       "      <td>5</td>\n",
       "      <td>1.0</td>\n",
       "      <td>101.0</td>\n",
       "      <td>1</td>\n",
       "      <td>550.0</td>\n",
       "      <td>0.0</td>\n",
       "      <td>0</td>\n",
       "      <td>0</td>\n",
       "      <td>0</td>\n",
       "      <td>0</td>\n",
       "      <td>0</td>\n",
       "      <td>0</td>\n",
       "      <td>0</td>\n",
       "      <td>0.0</td>\n",
       "      <td>0</td>\n",
       "      <td>N</td>\n",
       "      <td>N</td>\n",
       "      <td>9.0</td>\n",
       "      <td>5.0</td>\n",
       "      <td>2</td>\n",
       "      <td>70</td>\n",
       "      <td>716</td>\n",
       "      <td>716</td>\n",
       "      <td>0</td>\n",
       "    </tr>\n",
       "    <tr>\n",
       "      <th>4695</th>\n",
       "      <td>10</td>\n",
       "      <td>0</td>\n",
       "      <td>1</td>\n",
       "      <td>M</td>\n",
       "      <td>6</td>\n",
       "      <td>1</td>\n",
       "      <td>PR</td>\n",
       "      <td>SATSUDOESTE</td>\n",
       "      <td>1</td>\n",
       "      <td>PR</td>\n",
       "      <td>JAGUARIAIVA</td>\n",
       "      <td>VILA ANDRE</td>\n",
       "      <td>N</td>\n",
       "      <td></td>\n",
       "      <td>1.0</td>\n",
       "      <td>200.0</td>\n",
       "      <td>1</td>\n",
       "      <td>900.0</td>\n",
       "      <td>0.0</td>\n",
       "      <td>0</td>\n",
       "      <td>0</td>\n",
       "      <td>0</td>\n",
       "      <td>0</td>\n",
       "      <td>0</td>\n",
       "      <td>0</td>\n",
       "      <td>0</td>\n",
       "      <td>0.0</td>\n",
       "      <td>0</td>\n",
       "      <td>Y</td>\n",
       "      <td>Y</td>\n",
       "      <td>9.0</td>\n",
       "      <td>5.0</td>\n",
       "      <td>1</td>\n",
       "      <td>30</td>\n",
       "      <td>842</td>\n",
       "      <td>842</td>\n",
       "      <td>1</td>\n",
       "    </tr>\n",
       "  </tbody>\n",
       "</table>"
      ],
      "text/plain": [
       "<IPython.core.display.HTML object>"
      ]
     },
     "execution_count": 63,
     "metadata": {},
     "output_type": "execute_result"
    }
   ],
   "source": [
    "IPython.display.HTML(X_train[X_train[\"MONTHS_IN_RESIDENCE\"]>100].to_html())\n"
   ]
  },
  {
   "cell_type": "code",
   "execution_count": 64,
   "id": "3c76fc8f",
   "metadata": {},
   "outputs": [
    {
     "data": {
      "text/plain": [
       "0    14102\n",
       "1     5277\n",
       "Name: TARGET_LABEL_BAD=1, dtype: int64"
      ]
     },
     "execution_count": 64,
     "metadata": {},
     "output_type": "execute_result"
    }
   ],
   "source": [
    "X_train['TARGET_LABEL_BAD=1'][X_train[\"MONTHS_IN_RESIDENCE\"]<=6].value_counts()"
   ]
  },
  {
   "cell_type": "markdown",
   "id": "9de66881",
   "metadata": {},
   "source": [
    "Feature: **AGE**  \n",
    "Applicant's age at the moment of submission."
   ]
  },
  {
   "cell_type": "code",
   "execution_count": 65,
   "id": "ebba3597",
   "metadata": {
    "scrolled": true
   },
   "outputs": [
    {
     "data": {
      "text/plain": [
       "<Figure size 720x360 with 0 Axes>"
      ]
     },
     "metadata": {},
     "output_type": "display_data"
    },
    {
     "data": {
      "image/png": "[encoded data removed]",
      "text/plain": [
       "<Figure size 540x360 with 1 Axes>"
      ]
     },
     "metadata": {
      "needs_background": "light"
     },
     "output_type": "display_data"
    }
   ],
   "source": [
    "visualize.sns_displot(X_train[\"AGE\"],'AGE','AGE','Density')"
   ]
  },
  {
   "cell_type": "markdown",
   "id": "80ce1bc1",
   "metadata": {},
   "source": [
    "Target distribution in AGE > 53"
   ]
  },
  {
   "cell_type": "code",
   "execution_count": 66,
   "id": "c447bda7",
   "metadata": {
    "scrolled": false
   },
   "outputs": [
    {
     "data": {
      "text/plain": [
       "0    8086\n",
       "1    1914\n",
       "Name: TARGET_LABEL_BAD=1, dtype: int64"
      ]
     },
     "execution_count": 66,
     "metadata": {},
     "output_type": "execute_result"
    }
   ],
   "source": [
    "X_train['TARGET_LABEL_BAD=1'][X_train[\"AGE\"]>53].value_counts()"
   ]
  },
  {
   "cell_type": "code",
   "execution_count": 67,
   "id": "bffd97a9",
   "metadata": {
    "scrolled": true
   },
   "outputs": [
    {
     "data": {
      "text/plain": [
       "0    824\n",
       "1    550\n",
       "Name: TARGET_LABEL_BAD=1, dtype: int64"
      ]
     },
     "execution_count": 67,
     "metadata": {},
     "output_type": "execute_result"
    }
   ],
   "source": [
    "X_train['TARGET_LABEL_BAD=1'][(X_train[\"AGE\"]>=17) & (X_train[\"AGE\"]<=20)].value_counts()"
   ]
  },
  {
   "cell_type": "code",
   "execution_count": 68,
   "id": "24aa1534",
   "metadata": {},
   "outputs": [
    {
     "data": {
      "text/plain": [
       "19    458\n",
       "18    427\n",
       "17     16\n",
       "7       1\n",
       "6       1\n",
       "14      1\n",
       "Name: AGE, dtype: int64"
      ]
     },
     "execution_count": 68,
     "metadata": {},
     "output_type": "execute_result"
    }
   ],
   "source": [
    "X_train['AGE'][X_train[\"AGE\"]<20].value_counts()"
   ]
  },
  {
   "cell_type": "markdown",
   "id": "232ca7f6",
   "metadata": {},
   "source": [
    "-----------------------------------------------\n",
    "### Categorical features analysis\n",
    "-----------------------------------------------"
   ]
  },
  {
   "cell_type": "markdown",
   "id": "a8f3a578",
   "metadata": {},
   "source": [
    "Feature: **SEX**  \n",
    "No information but assumed to be applicant's gender(M=Male, F=Female)."
   ]
  },
  {
   "cell_type": "code",
   "execution_count": 69,
   "id": "04c42a28",
   "metadata": {
    "scrolled": true
   },
   "outputs": [
    {
     "data": {
      "image/png": "[encoded data removed]",
      "text/plain": [
       "<Figure size 432x288 with 1 Axes>"
      ]
     },
     "metadata": {},
     "output_type": "display_data"
    }
   ],
   "source": [
    "#defining data\n",
    "data = X_train['SEX'].value_counts()\n",
    "labels = X_train['SEX'].value_counts().index\n",
    "color = sns.color_palette('crest')\n",
    "\n",
    "# plotting data on pie chart\n",
    "plt.pie(\n",
    "    data,\n",
    "    labels = labels, \n",
    "    colors = color,\n",
    "    #lambda to calculate percentage with f string\n",
    "    autopct=lambda x:f'{x:.0f}% - {x*sum(data)/100 :,.0f}',\n",
    "    radius=1.2\n",
    "    )\n",
    "#add title and show plot\n",
    "plt.title('Gender proportion of applicants',pad=25)  \n",
    "plt.show()"
   ]
  },
  {
   "cell_type": "code",
   "execution_count": 70,
   "id": "7c1fad90",
   "metadata": {
    "scrolled": true
   },
   "outputs": [
    {
     "data": {
      "text/plain": [
       "F    24640\n",
       "M    15308\n",
       "N       36\n",
       "        16\n",
       "Name: SEX, dtype: int64"
      ]
     },
     "execution_count": 70,
     "metadata": {},
     "output_type": "execute_result"
    }
   ],
   "source": [
    "X_train['SEX'].value_counts()"
   ]
  },
  {
   "cell_type": "markdown",
   "id": "87f2e4b2",
   "metadata": {},
   "source": [
    "Feature: **PRODUCT**  \n",
    "Type of credit product applied."
   ]
  },
  {
   "cell_type": "code",
   "execution_count": 71,
   "id": "26afbc41",
   "metadata": {
    "scrolled": true
   },
   "outputs": [
    {
     "data": {
      "image/png": "[encoded data removed]",
      "text/plain": [
       "<Figure size 720x360 with 1 Axes>"
      ]
     },
     "metadata": {
      "needs_background": "light"
     },
     "output_type": "display_data"
    }
   ],
   "source": [
    "#plot countplot\n",
    "plt.figure(figsize=(10,5))\n",
    "chart = sns.countplot(\n",
    "    data = X_train,\n",
    "    x ='PRODUCT',\n",
    "    order = X_train['PRODUCT'].value_counts().index,\n",
    "    palette='crest'\n",
    "    )\n",
    "\n",
    "#customize plot\n",
    "chart.set(title=\"Type of credit product applied by applicants\")\n",
    "chart.set_xlabel(\"Occupation's type\", fontsize = 12)\n",
    "chart.set_ylabel(\"Count of applicants\", fontsize = 12)\n",
    "\n",
    "plt.show()"
   ]
  },
  {
   "cell_type": "code",
   "execution_count": 72,
   "id": "fae427e2",
   "metadata": {
    "scrolled": true
   },
   "outputs": [
    {
     "data": {
      "text/html": [
       "<div>\n",
       "<style scoped>\n",
       "    .dataframe tbody tr th:only-of-type {\n",
       "        vertical-align: middle;\n",
       "    }\n",
       "\n",
       "    .dataframe tbody tr th {\n",
       "        vertical-align: top;\n",
       "    }\n",
       "\n",
       "    .dataframe thead th {\n",
       "        text-align: right;\n",
       "    }\n",
       "</style>\n",
       "<table border=\"1\" class=\"dataframe\">\n",
       "  <thead>\n",
       "    <tr style=\"text-align: right;\">\n",
       "      <th></th>\n",
       "      <th>Count</th>\n",
       "      <th>%</th>\n",
       "    </tr>\n",
       "  </thead>\n",
       "  <tbody>\n",
       "    <tr>\n",
       "      <th>18.0</th>\n",
       "      <td>1</td>\n",
       "      <td>0.00</td>\n",
       "    </tr>\n",
       "    <tr>\n",
       "      <th>17.0</th>\n",
       "      <td>29</td>\n",
       "      <td>0.07</td>\n",
       "    </tr>\n",
       "    <tr>\n",
       "      <th>16.0</th>\n",
       "      <td>272</td>\n",
       "      <td>0.68</td>\n",
       "    </tr>\n",
       "    <tr>\n",
       "      <th>15.0</th>\n",
       "      <td>53</td>\n",
       "      <td>0.13</td>\n",
       "    </tr>\n",
       "    <tr>\n",
       "      <th>14.0</th>\n",
       "      <td>8</td>\n",
       "      <td>0.02</td>\n",
       "    </tr>\n",
       "    <tr>\n",
       "      <th>13.0</th>\n",
       "      <td>237</td>\n",
       "      <td>0.59</td>\n",
       "    </tr>\n",
       "    <tr>\n",
       "      <th>12.0</th>\n",
       "      <td>383</td>\n",
       "      <td>0.96</td>\n",
       "    </tr>\n",
       "    <tr>\n",
       "      <th>11.0</th>\n",
       "      <td>2790</td>\n",
       "      <td>6.98</td>\n",
       "    </tr>\n",
       "    <tr>\n",
       "      <th>10.0</th>\n",
       "      <td>338</td>\n",
       "      <td>0.84</td>\n",
       "    </tr>\n",
       "    <tr>\n",
       "      <th>9.0</th>\n",
       "      <td>24092</td>\n",
       "      <td>60.23</td>\n",
       "    </tr>\n",
       "    <tr>\n",
       "      <th>8.0</th>\n",
       "      <td>122</td>\n",
       "      <td>0.30</td>\n",
       "    </tr>\n",
       "    <tr>\n",
       "      <th>7.0</th>\n",
       "      <td>166</td>\n",
       "      <td>0.42</td>\n",
       "    </tr>\n",
       "    <tr>\n",
       "      <th>6.0</th>\n",
       "      <td>109</td>\n",
       "      <td>0.27</td>\n",
       "    </tr>\n",
       "    <tr>\n",
       "      <th>5.0</th>\n",
       "      <td>8</td>\n",
       "      <td>0.02</td>\n",
       "    </tr>\n",
       "    <tr>\n",
       "      <th>4.0</th>\n",
       "      <td>25</td>\n",
       "      <td>0.06</td>\n",
       "    </tr>\n",
       "    <tr>\n",
       "      <th>3.0</th>\n",
       "      <td>17</td>\n",
       "      <td>0.04</td>\n",
       "    </tr>\n",
       "    <tr>\n",
       "      <th>2.0</th>\n",
       "      <td>2295</td>\n",
       "      <td>5.74</td>\n",
       "    </tr>\n",
       "    <tr>\n",
       "      <th>1.0</th>\n",
       "      <td>7</td>\n",
       "      <td>0.02</td>\n",
       "    </tr>\n",
       "    <tr>\n",
       "      <th>0.0</th>\n",
       "      <td>2797</td>\n",
       "      <td>6.99</td>\n",
       "    </tr>\n",
       "    <tr>\n",
       "      <th>NaN</th>\n",
       "      <td>6251</td>\n",
       "      <td>15.63</td>\n",
       "    </tr>\n",
       "  </tbody>\n",
       "</table>\n",
       "</div>"
      ],
      "text/plain": [
       "      Count      %\n",
       "18.0      1   0.00\n",
       "17.0     29   0.07\n",
       "16.0    272   0.68\n",
       "15.0     53   0.13\n",
       "14.0      8   0.02\n",
       "13.0    237   0.59\n",
       "12.0    383   0.96\n",
       "11.0   2790   6.98\n",
       "10.0    338   0.84\n",
       "9.0   24092  60.23\n",
       "8.0     122   0.30\n",
       "7.0     166   0.42\n",
       "6.0     109   0.27\n",
       "5.0       8   0.02\n",
       "4.0      25   0.06\n",
       "3.0      17   0.04\n",
       "2.0    2295   5.74\n",
       "1.0       7   0.02\n",
       "0.0    2797   6.99\n",
       "NaN    6251  15.63"
      ]
     },
     "execution_count": 72,
     "metadata": {},
     "output_type": "execute_result"
    }
   ],
   "source": [
    "visualize.series_count(X_train['PROFESSION_CODE']).sort_index(ascending=False)"
   ]
  },
  {
   "cell_type": "code",
   "execution_count": 73,
   "id": "bb86c278",
   "metadata": {
    "scrolled": true
   },
   "outputs": [
    {
     "data": {
      "text/html": [
       "<div>\n",
       "<style scoped>\n",
       "    .dataframe tbody tr th:only-of-type {\n",
       "        vertical-align: middle;\n",
       "    }\n",
       "\n",
       "    .dataframe tbody tr th {\n",
       "        vertical-align: top;\n",
       "    }\n",
       "\n",
       "    .dataframe thead th {\n",
       "        text-align: right;\n",
       "    }\n",
       "</style>\n",
       "<table border=\"1\" class=\"dataframe\">\n",
       "  <thead>\n",
       "    <tr style=\"text-align: right;\">\n",
       "      <th></th>\n",
       "      <th>Count</th>\n",
       "      <th>%</th>\n",
       "    </tr>\n",
       "  </thead>\n",
       "  <tbody>\n",
       "    <tr>\n",
       "      <th>5.0</th>\n",
       "      <td>5505</td>\n",
       "      <td>13.76</td>\n",
       "    </tr>\n",
       "    <tr>\n",
       "      <th>4.0</th>\n",
       "      <td>5673</td>\n",
       "      <td>14.18</td>\n",
       "    </tr>\n",
       "    <tr>\n",
       "      <th>3.0</th>\n",
       "      <td>258</td>\n",
       "      <td>0.64</td>\n",
       "    </tr>\n",
       "    <tr>\n",
       "      <th>2.0</th>\n",
       "      <td>13544</td>\n",
       "      <td>33.86</td>\n",
       "    </tr>\n",
       "    <tr>\n",
       "      <th>1.0</th>\n",
       "      <td>6971</td>\n",
       "      <td>17.43</td>\n",
       "    </tr>\n",
       "    <tr>\n",
       "      <th>0.0</th>\n",
       "      <td>2194</td>\n",
       "      <td>5.48</td>\n",
       "    </tr>\n",
       "    <tr>\n",
       "      <th>NaN</th>\n",
       "      <td>5855</td>\n",
       "      <td>14.64</td>\n",
       "    </tr>\n",
       "  </tbody>\n",
       "</table>\n",
       "</div>"
      ],
      "text/plain": [
       "     Count      %\n",
       "5.0   5505  13.76\n",
       "4.0   5673  14.18\n",
       "3.0    258   0.64\n",
       "2.0  13544  33.86\n",
       "1.0   6971  17.43\n",
       "0.0   2194   5.48\n",
       "NaN   5855  14.64"
      ]
     },
     "execution_count": 73,
     "metadata": {},
     "output_type": "execute_result"
    }
   ],
   "source": [
    "visualize.series_count(X_train['OCCUPATION_TYPE']).sort_index(ascending=False)"
   ]
  }
 ],
 "metadata": {
  "kernelspec": {
   "display_name": "Python 3 (ipykernel)",
   "language": "python",
   "name": "python3"
  },
  "language_info": {
   "codemirror_mode": {
    "name": "ipython",
    "version": 3
   },
   "file_extension": ".py",
   "mimetype": "text/x-python",
   "name": "python",
   "nbconvert_exporter": "python",
   "pygments_lexer": "ipython3",
   "version": "3.8.13"
  },
  "vscode": {
   "interpreter": {
    "hash": "63413d40248b15c5e3979e4e9ac9f50870b25d2b4b7e5c66b4da92bd9f0fa5ed"
   }
  }
 },
 "nbformat": 4,
 "nbformat_minor": 5
}
