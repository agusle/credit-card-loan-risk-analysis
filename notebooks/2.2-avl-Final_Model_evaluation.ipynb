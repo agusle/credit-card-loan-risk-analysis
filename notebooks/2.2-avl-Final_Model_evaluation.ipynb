{
 "cells": [
  {
   "cell_type": "markdown",
   "id": "1a7ed4cc",
   "metadata": {},
   "source": [
    "# <center>Models Analysis</center>\n",
    "\n",
    "## <center>Final Evaluation</center>\n"
   ]
  },
  {
   "cell_type": "markdown",
   "id": "a1068670",
   "metadata": {},
   "source": [
    "|                |                 Random Forest |            LightGBM |                      XGBoost |           CatBoost |                MLP Classifier | Ensemble soft voting |   Ensemble stacked |\n",
    "|---------------:|------------------------------:|--------------------:|-----------------------------:|-------------------:|------------------------------:|---------------------:|-------------------:|\n",
    "|       Accuracy |                        0.7395 |              0.7411 |                        0.395 |             0.7395 |                        0.7393 |               0.7421 |             0.7409 |\n",
    "|        ROC AUC |                      0.642177 |            0.643960 |                     0.642581 |           0.633388 |                      0.634936 |             0.649130 |           0.649733 |\n",
    "|    Tuning Time | 2 hours , 49 mins and 45 secs | 11 mins and 10 secs | 4 hours , 8 mins and 41 secs | 9 mins and 10 secs | 4 hours , 58 mins and 28 secs |                    - |                  - |\n",
    "|  Training Time |                       39 secs |              14 secs |                      59 secs |             10 secs |             36 mins and 29 secs |  2 mins and 33 secs | 9 mins and 14 secs |\n",
    "| Inference Time |                 0.048623 secs |       0.006243 secs |                0.007087 secs |      0.013457 secs |                 0.003036 secs |        0.331205 secs |      0.399165 secs |\n",
    "|           Size |                       45.34MB |              0.44MB |                       0.19MB |             0.91MB |                        1.56MB |              47.11MB |            47.11MB |"
   ]
  },
  {
   "cell_type": "markdown",
   "id": "be6bb162",
   "metadata": {},
   "source": [
    "## Model podium performance\n"
   ]
  },
  {
   "cell_type": "markdown",
   "id": "8da375ff",
   "metadata": {},
   "source": [
    "|                      | AUC | Inference time |\n",
    "|---------------------:|----:|---------------:|\n",
    "|        Random Forest |     |                |\n",
    "|             LightGBM |   🥉 |              🥈 |\n",
    "|              XGBoost |     |              🥉 |\n",
    "|             CatBoost |     |                |\n",
    "|       MLP Classifier |     |              🥇 |\n",
    "| Ensemble soft voting |   🥈 |                |\n",
    "| Ensemble stacked     |   🥇 |                |"
   ]
  },
  {
   "cell_type": "code",
   "execution_count": 1,
   "id": "5c542df1",
   "metadata": {},
   "outputs": [],
   "source": [
    "import matplotlib.pyplot as plt\n",
    "from sklearn.ensemble import RandomForestClassifier, VotingClassifier, StackingClassifier\n",
    "import lightgbm as lgb\n",
    "import xgboost as xgb\n",
    "from catboost import CatBoostClassifier, Pool\n",
    "from sklearn.model_selection import RandomizedSearchCV, train_test_split, StratifiedKFold, cross_val_score\n",
    "from sklearn.metrics import classification_report, roc_auc_score, roc_curve\n",
    "from src import utils\n",
    "from src.models import predict_model\n",
    "import os \n",
    "from sklearn.linear_model import LogisticRegression\n",
    "from sklearn.neural_network import MLPClassifier"
   ]
  },
  {
   "cell_type": "markdown",
   "id": "863ff69a",
   "metadata": {},
   "source": [
    "### Load pre-processed data"
   ]
  },
  {
   "cell_type": "code",
   "execution_count": 2,
   "id": "ea225a28",
   "metadata": {
    "scrolled": true
   },
   "outputs": [
    {
     "name": "stdout",
     "output_type": "stream",
     "text": [
      "Object loaded successfully from ../data/processed/X_train.pickle.\n",
      "Object loaded successfully from ../data/processed/X_test.pickle.\n",
      "Object loaded successfully from ../data/processed/y_train.pickle.\n",
      "Object loaded successfully from ../data/processed/y_test.pickle.\n"
     ]
    }
   ],
   "source": [
    "X_train = utils.load_data_checkpoint('../data/processed/X_train.pickle')\n",
    "X_test = utils.load_data_checkpoint('../data/processed/X_test.pickle')\n",
    "y_train = utils.load_data_checkpoint('../data/processed/y_train.pickle')\n",
    "y_test = utils.load_data_checkpoint('../data/processed/y_test.pickle')"
   ]
  },
  {
   "cell_type": "code",
   "execution_count": 3,
   "id": "13f2f4ad",
   "metadata": {
    "scrolled": false
   },
   "outputs": [
    {
     "name": "stdout",
     "output_type": "stream",
     "text": [
      "X_train = (40000, 1773), X_test = (10000, 1773)\n",
      "y_train = (40000,), y_test = (10000,)\n"
     ]
    }
   ],
   "source": [
    "print(f\"X_train = {X_train.shape}, X_test = {X_test.shape}\")\n",
    "print(f\"y_train = {y_train.shape}, y_test = {y_test.shape}\")"
   ]
  },
  {
   "cell_type": "markdown",
   "id": "bf717687",
   "metadata": {},
   "source": [
    "### Load tuned models"
   ]
  },
  {
   "cell_type": "code",
   "execution_count": 4,
   "id": "29ba96ee",
   "metadata": {
    "scrolled": false
   },
   "outputs": [
    {
     "name": "stdout",
     "output_type": "stream",
     "text": [
      "Object loaded successfully from ../src/models/trained_models/tuned/rforest_hyp.pickle.\n",
      "Object loaded successfully from ../src/models/trained_models/tuned/lgbm_hyp.pickle.\n",
      "Object loaded successfully from ../src/models/trained_models/tuned/xgb_hyp.pickle.\n",
      "Object loaded successfully from ../src/models/trained_models/tuned/cbc_hyp.pickle.\n",
      "Object loaded successfully from ../src/models/trained_models/tuned/mlp_hyp.pickle.\n"
     ]
    }
   ],
   "source": [
    "clf1 = utils.load_data_checkpoint('../src/models/trained_models/tuned/rforest_hyp.pickle')\n",
    "clf2 = utils.load_data_checkpoint('../src/models/trained_models/tuned/lgbm_hyp.pickle')\n",
    "clf3 = utils.load_data_checkpoint('../src/models/trained_models/tuned/xgb_hyp.pickle')\n",
    "clf4 = utils.load_data_checkpoint('../src/models/trained_models/tuned/cbc_hyp.pickle')\n",
    "clf5 = utils.load_data_checkpoint('../src/models/trained_models/tuned/mlp_hyp.pickle') "
   ]
  },
  {
   "cell_type": "markdown",
   "id": "fcb4c44c",
   "metadata": {},
   "source": [
    "-----------------------------------------------\n",
    "### 1.0 - Best models training time\n",
    "-----------------------------------------------"
   ]
  },
  {
   "cell_type": "code",
   "execution_count": 5,
   "id": "23ddbd49",
   "metadata": {},
   "outputs": [],
   "source": [
    "#instance models\n",
    "rforest = RandomForestClassifier(n_jobs=-1, random_state=42,**clf1.best_params_)\n",
    "lgbmclf = lgb.LGBMClassifier(random_state=42,**clf2.best_params_)\n",
    "xgbclf = xgb.XGBClassifier(random_state=42,**clf3.best_params_)\n",
    "cbcclf = CatBoostClassifier(random_state=42,**clf4.best_params_)\n",
    "mlpclf = MLPClassifier(random_state=42,**clf5.best_params_)"
   ]
  },
  {
   "cell_type": "code",
   "execution_count": 6,
   "id": "146d6dc8",
   "metadata": {},
   "outputs": [
    {
     "name": "stdout",
     "output_type": "stream",
     "text": [
      "Time taken by function: 0 hours , 0 mins and 39.206537 secs\n",
      "Object saved successfully in ../src/models/trained_models/best/best_Ran.pickle with 45.34MB.\n",
      "[LightGBM] [Warning] min_data_in_leaf is set with min_child_samples=20, will be overridden by min_data=50. Current value: min_data_in_leaf=50\n",
      "Time taken by function: 0 hours , 0 mins and 14.306383 secs\n",
      "Object saved successfully in ../src/models/trained_models/best/best_LGB.pickle with 0.44MB.\n",
      "Time taken by function: 0 hours , 0 mins and 59.918506 secs\n",
      "Object saved successfully in ../src/models/trained_models/best/best_XGB.pickle with 0.19MB.\n",
      "0:\tlearn: 0.6818707\ttotal: 122ms\tremaining: 12.1s\n",
      "1:\tlearn: 0.6719861\ttotal: 154ms\tremaining: 7.53s\n",
      "2:\tlearn: 0.6632935\ttotal: 229ms\tremaining: 7.41s\n",
      "3:\tlearn: 0.6554775\ttotal: 306ms\tremaining: 7.35s\n",
      "4:\tlearn: 0.6472624\ttotal: 385ms\tremaining: 7.32s\n",
      "5:\tlearn: 0.6397606\ttotal: 459ms\tremaining: 7.19s\n",
      "6:\tlearn: 0.6331938\ttotal: 531ms\tremaining: 7.06s\n",
      "7:\tlearn: 0.6268367\ttotal: 606ms\tremaining: 6.97s\n",
      "8:\tlearn: 0.6216404\ttotal: 679ms\tremaining: 6.86s\n",
      "9:\tlearn: 0.6163529\ttotal: 753ms\tremaining: 6.78s\n",
      "10:\tlearn: 0.6117219\ttotal: 831ms\tremaining: 6.72s\n",
      "11:\tlearn: 0.6071428\ttotal: 902ms\tremaining: 6.61s\n",
      "12:\tlearn: 0.6035073\ttotal: 979ms\tremaining: 6.55s\n",
      "13:\tlearn: 0.5996944\ttotal: 1.07s\tremaining: 6.59s\n",
      "14:\tlearn: 0.5962998\ttotal: 1.16s\tremaining: 6.56s\n",
      "15:\tlearn: 0.5931598\ttotal: 1.22s\tremaining: 6.41s\n",
      "16:\tlearn: 0.5902120\ttotal: 1.3s\tremaining: 6.36s\n",
      "17:\tlearn: 0.5873566\ttotal: 1.38s\tremaining: 6.27s\n",
      "18:\tlearn: 0.5850147\ttotal: 1.45s\tremaining: 6.17s\n",
      "19:\tlearn: 0.5823643\ttotal: 1.52s\tremaining: 6.1s\n",
      "20:\tlearn: 0.5801091\ttotal: 1.61s\tremaining: 6.05s\n",
      "21:\tlearn: 0.5779846\ttotal: 1.71s\tremaining: 6.08s\n",
      "22:\tlearn: 0.5763719\ttotal: 1.81s\tremaining: 6.05s\n",
      "23:\tlearn: 0.5743938\ttotal: 1.91s\tremaining: 6.04s\n",
      "24:\tlearn: 0.5730332\ttotal: 1.99s\tremaining: 5.98s\n",
      "25:\tlearn: 0.5715802\ttotal: 2.1s\tremaining: 5.96s\n",
      "26:\tlearn: 0.5704031\ttotal: 2.19s\tremaining: 5.92s\n",
      "27:\tlearn: 0.5693427\ttotal: 2.28s\tremaining: 5.87s\n",
      "28:\tlearn: 0.5677932\ttotal: 2.38s\tremaining: 5.82s\n",
      "29:\tlearn: 0.5662526\ttotal: 2.48s\tremaining: 5.78s\n",
      "30:\tlearn: 0.5651437\ttotal: 2.57s\tremaining: 5.73s\n",
      "31:\tlearn: 0.5640103\ttotal: 2.68s\tremaining: 5.7s\n",
      "32:\tlearn: 0.5629057\ttotal: 2.77s\tremaining: 5.63s\n",
      "33:\tlearn: 0.5619673\ttotal: 2.88s\tremaining: 5.58s\n",
      "34:\tlearn: 0.5609782\ttotal: 2.99s\tremaining: 5.54s\n",
      "35:\tlearn: 0.5601441\ttotal: 3.08s\tremaining: 5.47s\n",
      "36:\tlearn: 0.5592217\ttotal: 3.19s\tremaining: 5.43s\n",
      "37:\tlearn: 0.5584854\ttotal: 3.31s\tremaining: 5.41s\n",
      "38:\tlearn: 0.5578764\ttotal: 3.42s\tremaining: 5.35s\n",
      "39:\tlearn: 0.5575207\ttotal: 3.52s\tremaining: 5.28s\n",
      "40:\tlearn: 0.5568773\ttotal: 3.62s\tremaining: 5.21s\n",
      "41:\tlearn: 0.5560978\ttotal: 3.73s\tremaining: 5.15s\n",
      "42:\tlearn: 0.5556019\ttotal: 3.83s\tremaining: 5.08s\n",
      "43:\tlearn: 0.5550312\ttotal: 3.92s\tremaining: 4.99s\n",
      "44:\tlearn: 0.5544601\ttotal: 4.01s\tremaining: 4.91s\n",
      "45:\tlearn: 0.5541742\ttotal: 4.1s\tremaining: 4.82s\n",
      "46:\tlearn: 0.5537194\ttotal: 4.2s\tremaining: 4.73s\n",
      "47:\tlearn: 0.5529784\ttotal: 4.29s\tremaining: 4.65s\n",
      "48:\tlearn: 0.5526710\ttotal: 4.37s\tremaining: 4.55s\n",
      "49:\tlearn: 0.5519925\ttotal: 4.46s\tremaining: 4.46s\n",
      "50:\tlearn: 0.5516531\ttotal: 4.55s\tremaining: 4.38s\n",
      "51:\tlearn: 0.5509753\ttotal: 4.64s\tremaining: 4.29s\n",
      "52:\tlearn: 0.5505757\ttotal: 4.74s\tremaining: 4.21s\n",
      "53:\tlearn: 0.5502784\ttotal: 4.84s\tremaining: 4.13s\n",
      "54:\tlearn: 0.5498879\ttotal: 4.95s\tremaining: 4.05s\n",
      "55:\tlearn: 0.5496069\ttotal: 5.06s\tremaining: 3.98s\n",
      "56:\tlearn: 0.5491344\ttotal: 5.18s\tremaining: 3.9s\n",
      "57:\tlearn: 0.5488285\ttotal: 5.28s\tremaining: 3.83s\n",
      "58:\tlearn: 0.5484088\ttotal: 5.41s\tremaining: 3.76s\n",
      "59:\tlearn: 0.5480490\ttotal: 5.53s\tremaining: 3.69s\n",
      "60:\tlearn: 0.5478559\ttotal: 5.62s\tremaining: 3.59s\n",
      "61:\tlearn: 0.5476088\ttotal: 5.71s\tremaining: 3.5s\n",
      "62:\tlearn: 0.5473950\ttotal: 5.82s\tremaining: 3.42s\n",
      "63:\tlearn: 0.5472123\ttotal: 5.94s\tremaining: 3.34s\n",
      "64:\tlearn: 0.5470394\ttotal: 6.04s\tremaining: 3.25s\n",
      "65:\tlearn: 0.5468095\ttotal: 6.14s\tremaining: 3.16s\n",
      "66:\tlearn: 0.5465195\ttotal: 6.22s\tremaining: 3.07s\n",
      "67:\tlearn: 0.5460058\ttotal: 6.31s\tremaining: 2.97s\n",
      "68:\tlearn: 0.5457162\ttotal: 6.39s\tremaining: 2.87s\n",
      "69:\tlearn: 0.5454931\ttotal: 6.47s\tremaining: 2.77s\n",
      "70:\tlearn: 0.5451607\ttotal: 6.55s\tremaining: 2.68s\n",
      "71:\tlearn: 0.5448476\ttotal: 6.65s\tremaining: 2.58s\n",
      "72:\tlearn: 0.5445000\ttotal: 6.8s\tremaining: 2.51s\n",
      "73:\tlearn: 0.5442837\ttotal: 6.93s\tremaining: 2.44s\n",
      "74:\tlearn: 0.5439282\ttotal: 7.07s\tremaining: 2.35s\n",
      "75:\tlearn: 0.5435338\ttotal: 7.19s\tremaining: 2.27s\n",
      "76:\tlearn: 0.5433277\ttotal: 7.34s\tremaining: 2.19s\n",
      "77:\tlearn: 0.5431014\ttotal: 7.43s\tremaining: 2.1s\n",
      "78:\tlearn: 0.5429288\ttotal: 7.52s\tremaining: 2s\n",
      "79:\tlearn: 0.5426155\ttotal: 7.61s\tremaining: 1.9s\n",
      "80:\tlearn: 0.5423907\ttotal: 7.69s\tremaining: 1.8s\n",
      "81:\tlearn: 0.5421645\ttotal: 7.77s\tremaining: 1.71s\n",
      "82:\tlearn: 0.5418510\ttotal: 7.86s\tremaining: 1.61s\n",
      "83:\tlearn: 0.5416916\ttotal: 7.94s\tremaining: 1.51s\n",
      "84:\tlearn: 0.5414670\ttotal: 8.02s\tremaining: 1.42s\n",
      "85:\tlearn: 0.5413815\ttotal: 8.1s\tremaining: 1.32s\n",
      "86:\tlearn: 0.5411222\ttotal: 8.18s\tremaining: 1.22s\n",
      "87:\tlearn: 0.5410235\ttotal: 8.26s\tremaining: 1.13s\n",
      "88:\tlearn: 0.5408148\ttotal: 8.35s\tremaining: 1.03s\n",
      "89:\tlearn: 0.5406994\ttotal: 8.43s\tremaining: 937ms\n",
      "90:\tlearn: 0.5404969\ttotal: 8.51s\tremaining: 842ms\n",
      "91:\tlearn: 0.5403692\ttotal: 8.59s\tremaining: 747ms\n",
      "92:\tlearn: 0.5401468\ttotal: 8.68s\tremaining: 653ms\n",
      "93:\tlearn: 0.5398759\ttotal: 8.76s\tremaining: 559ms\n",
      "94:\tlearn: 0.5397746\ttotal: 8.83s\tremaining: 465ms\n",
      "95:\tlearn: 0.5395591\ttotal: 8.91s\tremaining: 371ms\n",
      "96:\tlearn: 0.5393714\ttotal: 8.99s\tremaining: 278ms\n",
      "97:\tlearn: 0.5392208\ttotal: 9.06s\tremaining: 185ms\n",
      "98:\tlearn: 0.5390306\ttotal: 9.14s\tremaining: 92.3ms\n",
      "99:\tlearn: 0.5388909\ttotal: 9.22s\tremaining: 0us\n",
      "Time taken by function: 0 hours , 0 mins and 10.679859 secs\n",
      "Object saved successfully in ../src/models/trained_models/best/best_<ca.pickle with 0.91MB.\n",
      "Time taken by function: 0 hours , 36 mins and 28.765289999999823 secs\n",
      "Object saved successfully in ../src/models/trained_models/best/best_MLP.pickle with 1.56MB.\n"
     ]
    },
    {
     "name": "stderr",
     "output_type": "stream",
     "text": [
      "/home/app/.local/lib/python3.8/site-packages/sklearn/neural_network/_multilayer_perceptron.py:702: ConvergenceWarning: Stochastic Optimizer: Maximum iterations (100) reached and the optimization hasn't converged yet.\n",
      "  warnings.warn(\n"
     ]
    }
   ],
   "source": [
    "# training time measure and save each model with best hyperparamters\n",
    "\n",
    "models = [rforest,lgbmclf,xgbclf,cbcclf,mlpclf]\n",
    "\n",
    "for model in models:\n",
    "    start_time = utils.timer(None)\n",
    "    model.fit(X_train, y_train)\n",
    "    utils.timer(start_time)\n",
    "    utils.save_data_checkpoint(model,f'../src/models/trained_models/best/best_{str(model)[:3]}.pickle')"
   ]
  },
  {
   "cell_type": "markdown",
   "id": "07936822",
   "metadata": {},
   "source": [
    "-----------------------------------------------\n",
    "### 2.0 - Building a Voting Classifier ensemble\n",
    "-----------------------------------------------"
   ]
  },
  {
   "cell_type": "code",
   "execution_count": 7,
   "id": "29c26556",
   "metadata": {},
   "outputs": [
    {
     "name": "stdout",
     "output_type": "stream",
     "text": [
      "0:\tlearn: 0.6818707\ttotal: 125ms\tremaining: 12.4s\n",
      "1:\tlearn: 0.6719861\ttotal: 169ms\tremaining: 8.29s\n",
      "2:\tlearn: 0.6632935\ttotal: 274ms\tremaining: 8.86s\n",
      "3:\tlearn: 0.6554775\ttotal: 421ms\tremaining: 10.1s\n",
      "4:\tlearn: 0.6472624\ttotal: 509ms\tremaining: 9.66s\n",
      "5:\tlearn: 0.6397606\ttotal: 607ms\tremaining: 9.5s\n",
      "6:\tlearn: 0.6331938\ttotal: 709ms\tremaining: 9.42s\n",
      "7:\tlearn: 0.6268367\ttotal: 802ms\tremaining: 9.22s\n",
      "8:\tlearn: 0.6216404\ttotal: 895ms\tremaining: 9.05s\n",
      "9:\tlearn: 0.6163529\ttotal: 1.02s\tremaining: 9.2s\n",
      "10:\tlearn: 0.6117219\ttotal: 1.13s\tremaining: 9.15s\n",
      "11:\tlearn: 0.6071428\ttotal: 1.23s\tremaining: 9.05s\n",
      "12:\tlearn: 0.6035073\ttotal: 1.35s\tremaining: 9.03s\n",
      "13:\tlearn: 0.5996944\ttotal: 1.44s\tremaining: 8.87s\n",
      "14:\tlearn: 0.5962998\ttotal: 1.56s\tremaining: 8.84s\n",
      "15:\tlearn: 0.5931598\ttotal: 1.67s\tremaining: 8.77s\n",
      "16:\tlearn: 0.5902120\ttotal: 1.8s\tremaining: 8.81s\n",
      "17:\tlearn: 0.5873566\ttotal: 1.96s\tremaining: 8.91s\n",
      "18:\tlearn: 0.5850147\ttotal: 2.06s\tremaining: 8.8s\n",
      "19:\tlearn: 0.5823643\ttotal: 2.19s\tremaining: 8.74s\n",
      "20:\tlearn: 0.5801091\ttotal: 2.3s\tremaining: 8.64s\n",
      "21:\tlearn: 0.5779846\ttotal: 2.41s\tremaining: 8.53s\n",
      "22:\tlearn: 0.5763719\ttotal: 2.58s\tremaining: 8.64s\n",
      "23:\tlearn: 0.5743938\ttotal: 2.68s\tremaining: 8.49s\n",
      "24:\tlearn: 0.5730332\ttotal: 2.8s\tremaining: 8.4s\n",
      "25:\tlearn: 0.5715802\ttotal: 2.91s\tremaining: 8.27s\n",
      "26:\tlearn: 0.5704031\ttotal: 3.01s\tremaining: 8.13s\n",
      "27:\tlearn: 0.5693427\ttotal: 3.1s\tremaining: 7.98s\n",
      "28:\tlearn: 0.5677932\ttotal: 3.25s\tremaining: 7.95s\n",
      "29:\tlearn: 0.5662526\ttotal: 3.38s\tremaining: 7.88s\n",
      "30:\tlearn: 0.5651437\ttotal: 3.51s\tremaining: 7.82s\n",
      "31:\tlearn: 0.5640103\ttotal: 3.65s\tremaining: 7.77s\n",
      "32:\tlearn: 0.5629057\ttotal: 3.77s\tremaining: 7.65s\n",
      "33:\tlearn: 0.5619673\ttotal: 3.86s\tremaining: 7.49s\n",
      "34:\tlearn: 0.5609782\ttotal: 3.96s\tremaining: 7.35s\n",
      "35:\tlearn: 0.5601441\ttotal: 4.07s\tremaining: 7.24s\n",
      "36:\tlearn: 0.5592217\ttotal: 4.18s\tremaining: 7.12s\n",
      "37:\tlearn: 0.5584854\ttotal: 4.27s\tremaining: 6.96s\n",
      "38:\tlearn: 0.5578764\ttotal: 4.37s\tremaining: 6.84s\n",
      "39:\tlearn: 0.5575207\ttotal: 4.48s\tremaining: 6.72s\n",
      "40:\tlearn: 0.5568773\ttotal: 4.58s\tremaining: 6.59s\n",
      "41:\tlearn: 0.5560978\ttotal: 4.71s\tremaining: 6.5s\n",
      "42:\tlearn: 0.5556019\ttotal: 4.81s\tremaining: 6.38s\n",
      "43:\tlearn: 0.5550312\ttotal: 4.93s\tremaining: 6.28s\n",
      "44:\tlearn: 0.5544601\ttotal: 5.08s\tremaining: 6.21s\n",
      "45:\tlearn: 0.5541742\ttotal: 5.19s\tremaining: 6.09s\n",
      "46:\tlearn: 0.5537194\ttotal: 5.3s\tremaining: 5.97s\n",
      "47:\tlearn: 0.5529784\ttotal: 5.39s\tremaining: 5.84s\n",
      "48:\tlearn: 0.5526710\ttotal: 5.48s\tremaining: 5.7s\n",
      "49:\tlearn: 0.5519925\ttotal: 5.57s\tremaining: 5.57s\n",
      "50:\tlearn: 0.5516531\ttotal: 5.68s\tremaining: 5.46s\n",
      "51:\tlearn: 0.5509753\ttotal: 5.79s\tremaining: 5.35s\n",
      "52:\tlearn: 0.5505757\ttotal: 5.89s\tremaining: 5.22s\n",
      "53:\tlearn: 0.5502784\ttotal: 5.99s\tremaining: 5.11s\n",
      "54:\tlearn: 0.5498879\ttotal: 6.09s\tremaining: 4.98s\n",
      "55:\tlearn: 0.5496069\ttotal: 6.2s\tremaining: 4.87s\n",
      "56:\tlearn: 0.5491344\ttotal: 6.31s\tremaining: 4.76s\n",
      "57:\tlearn: 0.5488285\ttotal: 6.44s\tremaining: 4.66s\n",
      "58:\tlearn: 0.5484088\ttotal: 6.61s\tremaining: 4.59s\n",
      "59:\tlearn: 0.5480490\ttotal: 6.72s\tremaining: 4.48s\n",
      "60:\tlearn: 0.5478559\ttotal: 6.82s\tremaining: 4.36s\n",
      "61:\tlearn: 0.5476088\ttotal: 6.93s\tremaining: 4.25s\n",
      "62:\tlearn: 0.5473950\ttotal: 7.03s\tremaining: 4.13s\n",
      "63:\tlearn: 0.5472123\ttotal: 7.12s\tremaining: 4.01s\n",
      "64:\tlearn: 0.5470394\ttotal: 7.23s\tremaining: 3.9s\n",
      "65:\tlearn: 0.5468095\ttotal: 7.35s\tremaining: 3.79s\n",
      "66:\tlearn: 0.5465195\ttotal: 7.48s\tremaining: 3.69s\n",
      "67:\tlearn: 0.5460058\ttotal: 7.62s\tremaining: 3.59s\n",
      "68:\tlearn: 0.5457162\ttotal: 7.75s\tremaining: 3.48s\n",
      "69:\tlearn: 0.5454931\ttotal: 7.87s\tremaining: 3.37s\n",
      "70:\tlearn: 0.5451607\ttotal: 8.02s\tremaining: 3.28s\n",
      "71:\tlearn: 0.5448476\ttotal: 8.12s\tremaining: 3.15s\n",
      "72:\tlearn: 0.5445000\ttotal: 8.23s\tremaining: 3.04s\n",
      "73:\tlearn: 0.5442837\ttotal: 8.34s\tremaining: 2.93s\n",
      "74:\tlearn: 0.5439282\ttotal: 8.49s\tremaining: 2.83s\n",
      "75:\tlearn: 0.5435338\ttotal: 8.58s\tremaining: 2.71s\n",
      "76:\tlearn: 0.5433277\ttotal: 8.67s\tremaining: 2.59s\n",
      "77:\tlearn: 0.5431014\ttotal: 8.77s\tremaining: 2.47s\n",
      "78:\tlearn: 0.5429288\ttotal: 8.85s\tremaining: 2.35s\n",
      "79:\tlearn: 0.5426155\ttotal: 8.96s\tremaining: 2.24s\n",
      "80:\tlearn: 0.5423907\ttotal: 9.06s\tremaining: 2.13s\n",
      "81:\tlearn: 0.5421645\ttotal: 9.15s\tremaining: 2.01s\n",
      "82:\tlearn: 0.5418510\ttotal: 9.24s\tremaining: 1.89s\n",
      "83:\tlearn: 0.5416916\ttotal: 9.32s\tremaining: 1.77s\n",
      "84:\tlearn: 0.5414670\ttotal: 9.4s\tremaining: 1.66s\n",
      "85:\tlearn: 0.5413815\ttotal: 9.48s\tremaining: 1.54s\n",
      "86:\tlearn: 0.5411222\ttotal: 9.56s\tremaining: 1.43s\n",
      "87:\tlearn: 0.5410235\ttotal: 9.63s\tremaining: 1.31s\n",
      "88:\tlearn: 0.5408148\ttotal: 9.71s\tremaining: 1.2s\n",
      "89:\tlearn: 0.5406994\ttotal: 9.79s\tremaining: 1.09s\n",
      "90:\tlearn: 0.5404969\ttotal: 9.88s\tremaining: 978ms\n",
      "91:\tlearn: 0.5403692\ttotal: 9.96s\tremaining: 866ms\n",
      "92:\tlearn: 0.5401468\ttotal: 10s\tremaining: 756ms\n",
      "93:\tlearn: 0.5398759\ttotal: 10.1s\tremaining: 646ms\n",
      "94:\tlearn: 0.5397746\ttotal: 10.2s\tremaining: 537ms\n",
      "95:\tlearn: 0.5395591\ttotal: 10.3s\tremaining: 429ms\n",
      "96:\tlearn: 0.5393714\ttotal: 10.4s\tremaining: 321ms\n",
      "97:\tlearn: 0.5392208\ttotal: 10.5s\tremaining: 214ms\n",
      "98:\tlearn: 0.5390306\ttotal: 10.6s\tremaining: 107ms\n",
      "99:\tlearn: 0.5388909\ttotal: 10.6s\tremaining: 0us\n",
      "Time taken by function: 0 hours , 2 mins and 33.928167 secs\n"
     ]
    }
   ],
   "source": [
    "# create a voting classifier with soft voting\n",
    "voting_classifier_soft = VotingClassifier(\n",
    "    estimators = [('rf',RandomForestClassifier(n_jobs=-1, random_state=42,**clf1.best_params_)),\n",
    "                  ('lgbm',lgb.LGBMClassifier(random_state=42,**clf2.best_params_)),\n",
    "                  ('xgb', xgb.XGBClassifier(random_state=42,**clf3.best_params_)),\n",
    "                  ('cbc', CatBoostClassifier(random_state=42,**clf4.best_params_))],  \n",
    "    voting='soft')\n",
    "\n",
    "start_time = utils.timer(None)\n",
    "\n",
    "# make predictions with the soft.best_params_ voting model\n",
    "voting_classifier_soft.fit(X_train, y_train)\n",
    "\n",
    "utils.timer(start_time)"
   ]
  },
  {
   "cell_type": "markdown",
   "id": "7641ede7",
   "metadata": {},
   "source": [
    "#### 2.2 -  Voting Classifier: Inference time"
   ]
  },
  {
   "cell_type": "code",
   "execution_count": 8,
   "id": "0090090b",
   "metadata": {
    "scrolled": true
   },
   "outputs": [
    {
     "name": "stdout",
     "output_type": "stream",
     "text": [
      "Time taken by function: 0 hours , 0 mins and 0.331205 secs\n"
     ]
    },
    {
     "name": "stderr",
     "output_type": "stream",
     "text": [
      "/home/app/.local/lib/python3.8/site-packages/sklearn/base.py:450: UserWarning: X does not have valid feature names, but RandomForestClassifier was fitted with feature names\n",
      "  warnings.warn(\n"
     ]
    }
   ],
   "source": [
    "start_time = utils.timer(None)\n",
    "\n",
    "y_pred = rforest.predict(X_test.iloc[0].values.reshape(1,-1))\n",
    "\n",
    "utils.timer(start_time)"
   ]
  },
  {
   "cell_type": "code",
   "execution_count": 9,
   "id": "81fbf3ef",
   "metadata": {},
   "outputs": [
    {
     "name": "stdout",
     "output_type": "stream",
     "text": [
      "Time taken by function: 0 hours , 0 mins and 3.899692 secs\n"
     ]
    }
   ],
   "source": [
    "start_time = utils.timer(None)\n",
    "\n",
    "y_pred_vcs = voting_classifier_soft.predict(X_test)\n",
    "\n",
    "utils.timer(start_time)"
   ]
  },
  {
   "cell_type": "markdown",
   "id": "5279cb30",
   "metadata": {},
   "source": [
    "#### 2.3 - Voting Classifier: Performance metrics and classification report"
   ]
  },
  {
   "cell_type": "code",
   "execution_count": 10,
   "id": "fb66cedc",
   "metadata": {
    "scrolled": true
   },
   "outputs": [
    {
     "name": "stdout",
     "output_type": "stream",
     "text": [
      "Model Performance metrics:\n",
      "------------------------------\n",
      "Accuracy: 0.7421\n",
      "Precision: 0.556420233463035\n",
      "Recall: 0.054831288343558285\n",
      "F1 Score: 0.09982547993019197\n",
      "\n",
      "Model Classification report:\n",
      "------------------------------\n",
      "              precision    recall  f1-score   support\n",
      "\n",
      "           0       0.75      0.98      0.85      7392\n",
      "           1       0.56      0.05      0.10      2608\n",
      "\n",
      "    accuracy                           0.74     10000\n",
      "   macro avg       0.65      0.52      0.47     10000\n",
      "weighted avg       0.70      0.74      0.65     10000\n",
      "\n",
      "\n",
      "Prediction Confusion Matrix:\n",
      "------------------------------\n",
      "      0    1\n",
      "0  7278  114\n",
      "1  2465  143\n"
     ]
    },
    {
     "data": {
      "image/png": "[encoded data removed]",
      "text/plain": [
       "<Figure size 720x360 with 1 Axes>"
      ]
     },
     "metadata": {
      "needs_background": "light"
     },
     "output_type": "display_data"
    }
   ],
   "source": [
    "accuracy, precision, recall, f1_score = predict_model.get_performance(y_pred_vcs,y_test,labels=[0,1])\n",
    "roc_auc = predict_model.plot_roc(voting_classifier_soft,y_test,X_test)"
   ]
  },
  {
   "cell_type": "markdown",
   "id": "b25a2666",
   "metadata": {},
   "source": [
    "#### 2.4 - Voting Classifier: Save model\n"
   ]
  },
  {
   "cell_type": "code",
   "execution_count": 11,
   "id": "0297be91",
   "metadata": {
    "scrolled": true
   },
   "outputs": [
    {
     "name": "stdout",
     "output_type": "stream",
     "text": [
      "Object saved successfully in ../src/models/trained_models/best/vcs.pickle with 47.11MB.\n"
     ]
    }
   ],
   "source": [
    "utils.save_data_checkpoint(voting_classifier_soft,'../src/models/trained_models/best/vcs.pickle')"
   ]
  },
  {
   "cell_type": "markdown",
   "id": "2e06487f",
   "metadata": {},
   "source": [
    "-----------------------------------------------\n",
    "### 3.0 - Building a Stacked Classifier Ensemble\n",
    "-----------------------------------------------"
   ]
  },
  {
   "cell_type": "code",
   "execution_count": 12,
   "id": "594a7fff",
   "metadata": {
    "scrolled": false
   },
   "outputs": [
    {
     "name": "stdout",
     "output_type": "stream",
     "text": [
      "Object loaded successfully from ../data/processed/X_train.pickle.\n",
      "Object loaded successfully from ../data/processed/X_test.pickle.\n",
      "Object loaded successfully from ../data/processed/y_train.pickle.\n",
      "Object loaded successfully from ../data/processed/y_test.pickle.\n"
     ]
    }
   ],
   "source": [
    "X_train = utils.load_data_checkpoint('../data/processed/X_train.pickle')\n",
    "X_test = utils.load_data_checkpoint('../data/processed/X_test.pickle')\n",
    "y_train = utils.load_data_checkpoint('../data/processed/y_train.pickle')\n",
    "y_test = utils.load_data_checkpoint('../data/processed/y_test.pickle')"
   ]
  },
  {
   "cell_type": "code",
   "execution_count": 13,
   "id": "a3f1ac89",
   "metadata": {},
   "outputs": [
    {
     "name": "stdout",
     "output_type": "stream",
     "text": [
      "[LightGBM] [Warning] min_data_in_leaf is set with min_child_samples=20, will be overridden by min_data=50. Current value: min_data_in_leaf=50\n",
      "0:\tlearn: 0.6818707\ttotal: 96.8ms\tremaining: 9.58s\n",
      "1:\tlearn: 0.6719861\ttotal: 132ms\tremaining: 6.49s\n",
      "2:\tlearn: 0.6632935\ttotal: 215ms\tremaining: 6.96s\n",
      "3:\tlearn: 0.6554775\ttotal: 292ms\tremaining: 7.01s\n",
      "4:\tlearn: 0.6472624\ttotal: 380ms\tremaining: 7.21s\n",
      "5:\tlearn: 0.6397606\ttotal: 459ms\tremaining: 7.2s\n",
      "6:\tlearn: 0.6331938\ttotal: 542ms\tremaining: 7.2s\n",
      "7:\tlearn: 0.6268367\ttotal: 624ms\tremaining: 7.18s\n",
      "8:\tlearn: 0.6216404\ttotal: 702ms\tremaining: 7.1s\n",
      "9:\tlearn: 0.6163529\ttotal: 782ms\tremaining: 7.03s\n",
      "10:\tlearn: 0.6117219\ttotal: 875ms\tremaining: 7.08s\n",
      "11:\tlearn: 0.6071428\ttotal: 978ms\tremaining: 7.17s\n",
      "12:\tlearn: 0.6035073\ttotal: 1.1s\tremaining: 7.37s\n",
      "13:\tlearn: 0.5996944\ttotal: 1.2s\tremaining: 7.38s\n",
      "14:\tlearn: 0.5962998\ttotal: 1.29s\tremaining: 7.31s\n",
      "15:\tlearn: 0.5931598\ttotal: 1.38s\tremaining: 7.22s\n",
      "16:\tlearn: 0.5902120\ttotal: 1.47s\tremaining: 7.16s\n",
      "17:\tlearn: 0.5873566\ttotal: 1.58s\tremaining: 7.19s\n",
      "18:\tlearn: 0.5850147\ttotal: 1.69s\tremaining: 7.2s\n",
      "19:\tlearn: 0.5823643\ttotal: 1.81s\tremaining: 7.25s\n",
      "20:\tlearn: 0.5801091\ttotal: 1.9s\tremaining: 7.15s\n",
      "21:\tlearn: 0.5779846\ttotal: 2.02s\tremaining: 7.17s\n",
      "22:\tlearn: 0.5763719\ttotal: 2.11s\tremaining: 7.08s\n",
      "23:\tlearn: 0.5743938\ttotal: 2.25s\tremaining: 7.13s\n",
      "24:\tlearn: 0.5730332\ttotal: 2.34s\tremaining: 7.01s\n",
      "25:\tlearn: 0.5715802\ttotal: 2.44s\tremaining: 6.95s\n",
      "26:\tlearn: 0.5704031\ttotal: 2.56s\tremaining: 6.93s\n",
      "27:\tlearn: 0.5693427\ttotal: 2.67s\tremaining: 6.87s\n",
      "28:\tlearn: 0.5677932\ttotal: 2.78s\tremaining: 6.82s\n",
      "29:\tlearn: 0.5662526\ttotal: 2.89s\tremaining: 6.75s\n",
      "30:\tlearn: 0.5651437\ttotal: 3.01s\tremaining: 6.69s\n",
      "31:\tlearn: 0.5640103\ttotal: 3.13s\tremaining: 6.66s\n",
      "32:\tlearn: 0.5629057\ttotal: 3.24s\tremaining: 6.59s\n",
      "33:\tlearn: 0.5619673\ttotal: 3.42s\tremaining: 6.64s\n",
      "34:\tlearn: 0.5609782\ttotal: 3.53s\tremaining: 6.55s\n",
      "35:\tlearn: 0.5601441\ttotal: 3.64s\tremaining: 6.47s\n",
      "36:\tlearn: 0.5592217\ttotal: 3.74s\tremaining: 6.37s\n",
      "37:\tlearn: 0.5584854\ttotal: 3.86s\tremaining: 6.3s\n",
      "38:\tlearn: 0.5578764\ttotal: 3.98s\tremaining: 6.23s\n",
      "39:\tlearn: 0.5575207\ttotal: 4.08s\tremaining: 6.12s\n",
      "40:\tlearn: 0.5568773\ttotal: 4.19s\tremaining: 6.03s\n",
      "41:\tlearn: 0.5560978\ttotal: 4.3s\tremaining: 5.93s\n",
      "42:\tlearn: 0.5556019\ttotal: 4.38s\tremaining: 5.81s\n",
      "43:\tlearn: 0.5550312\ttotal: 4.48s\tremaining: 5.7s\n",
      "44:\tlearn: 0.5544601\ttotal: 4.58s\tremaining: 5.6s\n",
      "45:\tlearn: 0.5541742\ttotal: 4.66s\tremaining: 5.47s\n",
      "46:\tlearn: 0.5537194\ttotal: 4.78s\tremaining: 5.39s\n",
      "47:\tlearn: 0.5529784\ttotal: 4.9s\tremaining: 5.31s\n",
      "48:\tlearn: 0.5526710\ttotal: 5.01s\tremaining: 5.22s\n",
      "49:\tlearn: 0.5519925\ttotal: 5.12s\tremaining: 5.12s\n",
      "50:\tlearn: 0.5516531\ttotal: 5.2s\tremaining: 5s\n",
      "51:\tlearn: 0.5509753\ttotal: 5.3s\tremaining: 4.9s\n",
      "52:\tlearn: 0.5505757\ttotal: 5.38s\tremaining: 4.77s\n",
      "53:\tlearn: 0.5502784\ttotal: 5.46s\tremaining: 4.65s\n",
      "54:\tlearn: 0.5498879\ttotal: 5.54s\tremaining: 4.54s\n",
      "55:\tlearn: 0.5496069\ttotal: 5.64s\tremaining: 4.44s\n",
      "56:\tlearn: 0.5491344\ttotal: 5.75s\tremaining: 4.33s\n",
      "57:\tlearn: 0.5488285\ttotal: 5.83s\tremaining: 4.22s\n",
      "58:\tlearn: 0.5484088\ttotal: 5.94s\tremaining: 4.13s\n",
      "59:\tlearn: 0.5480490\ttotal: 6.12s\tremaining: 4.08s\n",
      "60:\tlearn: 0.5478559\ttotal: 6.28s\tremaining: 4.02s\n",
      "61:\tlearn: 0.5476088\ttotal: 6.37s\tremaining: 3.91s\n",
      "62:\tlearn: 0.5473950\ttotal: 6.46s\tremaining: 3.79s\n",
      "63:\tlearn: 0.5472123\ttotal: 6.55s\tremaining: 3.68s\n",
      "64:\tlearn: 0.5470394\ttotal: 6.63s\tremaining: 3.57s\n",
      "65:\tlearn: 0.5468095\ttotal: 6.74s\tremaining: 3.47s\n",
      "66:\tlearn: 0.5465195\ttotal: 6.83s\tremaining: 3.37s\n",
      "67:\tlearn: 0.5460058\ttotal: 6.93s\tremaining: 3.26s\n",
      "68:\tlearn: 0.5457162\ttotal: 7.01s\tremaining: 3.15s\n",
      "69:\tlearn: 0.5454931\ttotal: 7.1s\tremaining: 3.04s\n",
      "70:\tlearn: 0.5451607\ttotal: 7.22s\tremaining: 2.95s\n",
      "71:\tlearn: 0.5448476\ttotal: 7.31s\tremaining: 2.84s\n",
      "72:\tlearn: 0.5445000\ttotal: 7.39s\tremaining: 2.73s\n",
      "73:\tlearn: 0.5442837\ttotal: 7.48s\tremaining: 2.63s\n",
      "74:\tlearn: 0.5439282\ttotal: 7.56s\tremaining: 2.52s\n",
      "75:\tlearn: 0.5435338\ttotal: 7.64s\tremaining: 2.41s\n",
      "76:\tlearn: 0.5433277\ttotal: 7.72s\tremaining: 2.3s\n",
      "77:\tlearn: 0.5431014\ttotal: 7.8s\tremaining: 2.2s\n",
      "78:\tlearn: 0.5429288\ttotal: 7.88s\tremaining: 2.09s\n",
      "79:\tlearn: 0.5426155\ttotal: 7.97s\tremaining: 1.99s\n",
      "80:\tlearn: 0.5423907\ttotal: 8.06s\tremaining: 1.89s\n",
      "81:\tlearn: 0.5421645\ttotal: 8.23s\tremaining: 1.8s\n",
      "82:\tlearn: 0.5418510\ttotal: 8.36s\tremaining: 1.71s\n",
      "83:\tlearn: 0.5416916\ttotal: 8.58s\tremaining: 1.64s\n",
      "84:\tlearn: 0.5414670\ttotal: 8.71s\tremaining: 1.54s\n",
      "85:\tlearn: 0.5413815\ttotal: 8.83s\tremaining: 1.44s\n",
      "86:\tlearn: 0.5411222\ttotal: 8.98s\tremaining: 1.34s\n",
      "87:\tlearn: 0.5410235\ttotal: 9.11s\tremaining: 1.24s\n",
      "88:\tlearn: 0.5408148\ttotal: 9.22s\tremaining: 1.14s\n",
      "89:\tlearn: 0.5406994\ttotal: 9.37s\tremaining: 1.04s\n",
      "90:\tlearn: 0.5404969\ttotal: 9.5s\tremaining: 940ms\n",
      "91:\tlearn: 0.5403692\ttotal: 9.66s\tremaining: 840ms\n",
      "92:\tlearn: 0.5401468\ttotal: 9.76s\tremaining: 734ms\n",
      "93:\tlearn: 0.5398759\ttotal: 9.86s\tremaining: 629ms\n",
      "94:\tlearn: 0.5397746\ttotal: 9.94s\tremaining: 523ms\n",
      "95:\tlearn: 0.5395591\ttotal: 10s\tremaining: 418ms\n",
      "96:\tlearn: 0.5393714\ttotal: 10.1s\tremaining: 313ms\n",
      "97:\tlearn: 0.5392208\ttotal: 10.2s\tremaining: 208ms\n",
      "98:\tlearn: 0.5390306\ttotal: 10.3s\tremaining: 104ms\n",
      "99:\tlearn: 0.5388909\ttotal: 10.4s\tremaining: 0us\n",
      "[LightGBM] [Warning] min_data_in_leaf is set with min_child_samples=20, will be overridden by min_data=50. Current value: min_data_in_leaf=50\n",
      "[LightGBM] [Warning] min_data_in_leaf is set with min_child_samples=20, will be overridden by min_data=50. Current value: min_data_in_leaf=50\n",
      "[LightGBM] [Warning] min_data_in_leaf is set with min_child_samples=20, will be overridden by min_data=50. Current value: min_data_in_leaf=50\n",
      "0:\tlearn: 0.6830653\ttotal: 101ms\tremaining: 10s\n",
      "1:\tlearn: 0.6735214\ttotal: 192ms\tremaining: 9.39s\n",
      "2:\tlearn: 0.6646289\ttotal: 285ms\tremaining: 9.22s\n",
      "3:\tlearn: 0.6559938\ttotal: 360ms\tremaining: 8.64s\n",
      "4:\tlearn: 0.6488156\ttotal: 448ms\tremaining: 8.51s\n",
      "5:\tlearn: 0.6414505\ttotal: 536ms\tremaining: 8.4s\n",
      "6:\tlearn: 0.6349410\ttotal: 628ms\tremaining: 8.34s\n",
      "7:\tlearn: 0.6282689\ttotal: 725ms\tremaining: 8.33s\n",
      "8:\tlearn: 0.6226653\ttotal: 818ms\tremaining: 8.28s\n",
      "9:\tlearn: 0.6171084\ttotal: 934ms\tremaining: 8.41s\n",
      "10:\tlearn: 0.6121106\ttotal: 1.02s\tremaining: 8.3s\n",
      "11:\tlearn: 0.6075470\ttotal: 1.17s\tremaining: 8.55s\n",
      "12:\tlearn: 0.6040107\ttotal: 1.33s\tremaining: 8.89s\n",
      "13:\tlearn: 0.6004868\ttotal: 1.49s\tremaining: 9.17s\n",
      "14:\tlearn: 0.5972839\ttotal: 1.64s\tremaining: 9.27s\n",
      "15:\tlearn: 0.5939480\ttotal: 1.75s\tremaining: 9.17s\n",
      "16:\tlearn: 0.5909916\ttotal: 1.84s\tremaining: 8.99s\n",
      "17:\tlearn: 0.5884108\ttotal: 1.96s\tremaining: 8.91s\n",
      "18:\tlearn: 0.5860947\ttotal: 2.1s\tremaining: 8.94s\n",
      "19:\tlearn: 0.5836956\ttotal: 2.22s\tremaining: 8.9s\n",
      "20:\tlearn: 0.5812910\ttotal: 2.51s\tremaining: 9.43s\n",
      "21:\tlearn: 0.5794402\ttotal: 2.61s\tremaining: 9.26s\n",
      "22:\tlearn: 0.5772342\ttotal: 2.79s\tremaining: 9.35s\n",
      "23:\tlearn: 0.5752483\ttotal: 2.92s\tremaining: 9.26s\n",
      "24:\tlearn: 0.5735390\ttotal: 3.04s\tremaining: 9.13s\n",
      "25:\tlearn: 0.5723247\ttotal: 3.15s\tremaining: 8.98s\n",
      "26:\tlearn: 0.5709581\ttotal: 3.27s\tremaining: 8.85s\n",
      "27:\tlearn: 0.5696039\ttotal: 3.41s\tremaining: 8.76s\n",
      "28:\tlearn: 0.5681578\ttotal: 3.56s\tremaining: 8.72s\n",
      "29:\tlearn: 0.5671918\ttotal: 3.66s\tremaining: 8.54s\n",
      "30:\tlearn: 0.5658907\ttotal: 3.76s\tremaining: 8.37s\n",
      "31:\tlearn: 0.5649339\ttotal: 3.84s\tremaining: 8.17s\n",
      "32:\tlearn: 0.5641507\ttotal: 3.96s\tremaining: 8.05s\n",
      "33:\tlearn: 0.5634106\ttotal: 4.08s\tremaining: 7.93s\n",
      "34:\tlearn: 0.5626144\ttotal: 4.2s\tremaining: 7.79s\n",
      "35:\tlearn: 0.5619834\ttotal: 4.32s\tremaining: 7.68s\n",
      "36:\tlearn: 0.5613298\ttotal: 4.44s\tremaining: 7.56s\n",
      "37:\tlearn: 0.5606253\ttotal: 4.55s\tremaining: 7.43s\n",
      "38:\tlearn: 0.5598030\ttotal: 4.71s\tremaining: 7.37s\n",
      "39:\tlearn: 0.5592333\ttotal: 4.83s\tremaining: 7.24s\n",
      "40:\tlearn: 0.5581285\ttotal: 4.94s\tremaining: 7.11s\n",
      "41:\tlearn: 0.5576206\ttotal: 5.04s\tremaining: 6.96s\n",
      "42:\tlearn: 0.5570711\ttotal: 5.16s\tremaining: 6.84s\n",
      "43:\tlearn: 0.5562301\ttotal: 5.28s\tremaining: 6.72s\n",
      "44:\tlearn: 0.5556866\ttotal: 5.38s\tremaining: 6.58s\n",
      "45:\tlearn: 0.5551690\ttotal: 5.47s\tremaining: 6.42s\n",
      "46:\tlearn: 0.5543702\ttotal: 5.58s\tremaining: 6.29s\n",
      "47:\tlearn: 0.5538964\ttotal: 5.67s\tremaining: 6.14s\n",
      "48:\tlearn: 0.5533170\ttotal: 5.8s\tremaining: 6.04s\n",
      "49:\tlearn: 0.5529955\ttotal: 5.96s\tremaining: 5.96s\n",
      "50:\tlearn: 0.5524211\ttotal: 6.12s\tremaining: 5.88s\n"
     ]
    },
    {
     "name": "stdout",
     "output_type": "stream",
     "text": [
      "51:\tlearn: 0.5519452\ttotal: 6.29s\tremaining: 5.8s\n",
      "52:\tlearn: 0.5516200\ttotal: 6.4s\tremaining: 5.68s\n",
      "53:\tlearn: 0.5511101\ttotal: 6.55s\tremaining: 5.58s\n",
      "54:\tlearn: 0.5507773\ttotal: 6.72s\tremaining: 5.5s\n",
      "55:\tlearn: 0.5503072\ttotal: 6.83s\tremaining: 5.37s\n",
      "56:\tlearn: 0.5500108\ttotal: 6.97s\tremaining: 5.26s\n",
      "57:\tlearn: 0.5495829\ttotal: 7.11s\tremaining: 5.15s\n",
      "58:\tlearn: 0.5492946\ttotal: 7.21s\tremaining: 5.01s\n",
      "59:\tlearn: 0.5490418\ttotal: 7.35s\tremaining: 4.9s\n",
      "60:\tlearn: 0.5486346\ttotal: 7.44s\tremaining: 4.75s\n",
      "61:\tlearn: 0.5483494\ttotal: 7.52s\tremaining: 4.61s\n",
      "62:\tlearn: 0.5480295\ttotal: 7.6s\tremaining: 4.46s\n",
      "63:\tlearn: 0.5476926\ttotal: 7.68s\tremaining: 4.32s\n",
      "64:\tlearn: 0.5474080\ttotal: 7.78s\tremaining: 4.19s\n",
      "65:\tlearn: 0.5468665\ttotal: 7.88s\tremaining: 4.06s\n",
      "66:\tlearn: 0.5463899\ttotal: 7.98s\tremaining: 3.93s\n",
      "67:\tlearn: 0.5461349\ttotal: 8.06s\tremaining: 3.79s\n",
      "68:\tlearn: 0.5458851\ttotal: 8.14s\tremaining: 3.66s\n",
      "69:\tlearn: 0.5452757\ttotal: 8.22s\tremaining: 3.52s\n",
      "70:\tlearn: 0.5450213\ttotal: 8.29s\tremaining: 3.39s\n",
      "71:\tlearn: 0.5447156\ttotal: 8.38s\tremaining: 3.26s\n",
      "72:\tlearn: 0.5445050\ttotal: 8.5s\tremaining: 3.14s\n",
      "73:\tlearn: 0.5444634\ttotal: 8.52s\tremaining: 2.99s\n",
      "74:\tlearn: 0.5441019\ttotal: 8.64s\tremaining: 2.88s\n",
      "75:\tlearn: 0.5437468\ttotal: 8.78s\tremaining: 2.77s\n",
      "76:\tlearn: 0.5433729\ttotal: 8.87s\tremaining: 2.65s\n",
      "77:\tlearn: 0.5431061\ttotal: 8.96s\tremaining: 2.52s\n",
      "78:\tlearn: 0.5428394\ttotal: 9.05s\tremaining: 2.41s\n",
      "79:\tlearn: 0.5424422\ttotal: 9.15s\tremaining: 2.29s\n",
      "80:\tlearn: 0.5421325\ttotal: 9.25s\tremaining: 2.17s\n",
      "81:\tlearn: 0.5419271\ttotal: 9.36s\tremaining: 2.05s\n",
      "82:\tlearn: 0.5417961\ttotal: 9.46s\tremaining: 1.94s\n",
      "83:\tlearn: 0.5413061\ttotal: 9.57s\tremaining: 1.82s\n",
      "84:\tlearn: 0.5410023\ttotal: 9.65s\tremaining: 1.7s\n",
      "85:\tlearn: 0.5407975\ttotal: 9.76s\tremaining: 1.59s\n",
      "86:\tlearn: 0.5403957\ttotal: 9.84s\tremaining: 1.47s\n",
      "87:\tlearn: 0.5401742\ttotal: 9.92s\tremaining: 1.35s\n",
      "88:\tlearn: 0.5399380\ttotal: 10s\tremaining: 1.24s\n",
      "89:\tlearn: 0.5396646\ttotal: 10.1s\tremaining: 1.12s\n",
      "90:\tlearn: 0.5395286\ttotal: 10.2s\tremaining: 1s\n",
      "91:\tlearn: 0.5390424\ttotal: 10.2s\tremaining: 889ms\n",
      "92:\tlearn: 0.5387836\ttotal: 10.3s\tremaining: 776ms\n",
      "93:\tlearn: 0.5385308\ttotal: 10.4s\tremaining: 663ms\n",
      "94:\tlearn: 0.5384001\ttotal: 10.5s\tremaining: 551ms\n",
      "95:\tlearn: 0.5381869\ttotal: 10.5s\tremaining: 439ms\n",
      "96:\tlearn: 0.5378223\ttotal: 10.6s\tremaining: 328ms\n",
      "97:\tlearn: 0.5377124\ttotal: 10.7s\tremaining: 218ms\n",
      "98:\tlearn: 0.5376044\ttotal: 10.8s\tremaining: 109ms\n",
      "99:\tlearn: 0.5374016\ttotal: 10.8s\tremaining: 0us\n",
      "0:\tlearn: 0.6825639\ttotal: 84.5ms\tremaining: 8.36s\n",
      "1:\tlearn: 0.6729975\ttotal: 166ms\tremaining: 8.12s\n",
      "2:\tlearn: 0.6641443\ttotal: 249ms\tremaining: 8.05s\n",
      "3:\tlearn: 0.6552790\ttotal: 346ms\tremaining: 8.29s\n",
      "4:\tlearn: 0.6482447\ttotal: 375ms\tremaining: 7.13s\n",
      "5:\tlearn: 0.6414866\ttotal: 447ms\tremaining: 7s\n",
      "6:\tlearn: 0.6349295\ttotal: 529ms\tremaining: 7.03s\n",
      "7:\tlearn: 0.6287420\ttotal: 611ms\tremaining: 7.03s\n",
      "8:\tlearn: 0.6230117\ttotal: 689ms\tremaining: 6.97s\n",
      "9:\tlearn: 0.6174369\ttotal: 781ms\tremaining: 7.03s\n",
      "10:\tlearn: 0.6126171\ttotal: 871ms\tremaining: 7.04s\n",
      "11:\tlearn: 0.6083302\ttotal: 957ms\tremaining: 7.02s\n",
      "12:\tlearn: 0.6039780\ttotal: 1.03s\tremaining: 6.9s\n",
      "13:\tlearn: 0.5995612\ttotal: 1.11s\tremaining: 6.8s\n",
      "14:\tlearn: 0.5966451\ttotal: 1.18s\tremaining: 6.69s\n",
      "15:\tlearn: 0.5936069\ttotal: 1.25s\tremaining: 6.56s\n",
      "16:\tlearn: 0.5909431\ttotal: 1.33s\tremaining: 6.49s\n",
      "17:\tlearn: 0.5881188\ttotal: 1.41s\tremaining: 6.41s\n",
      "18:\tlearn: 0.5859733\ttotal: 1.51s\tremaining: 6.44s\n",
      "19:\tlearn: 0.5839661\ttotal: 1.55s\tremaining: 6.19s\n",
      "20:\tlearn: 0.5817198\ttotal: 1.63s\tremaining: 6.14s\n",
      "21:\tlearn: 0.5799337\ttotal: 1.71s\tremaining: 6.07s\n",
      "22:\tlearn: 0.5780491\ttotal: 1.79s\tremaining: 5.99s\n",
      "23:\tlearn: 0.5761900\ttotal: 1.87s\tremaining: 5.92s\n",
      "24:\tlearn: 0.5748433\ttotal: 1.95s\tremaining: 5.84s\n",
      "25:\tlearn: 0.5734141\ttotal: 2.03s\tremaining: 5.78s\n",
      "26:\tlearn: 0.5720126\ttotal: 2.1s\tremaining: 5.68s\n",
      "27:\tlearn: 0.5707291\ttotal: 2.15s\tremaining: 5.53s\n",
      "28:\tlearn: 0.5697266\ttotal: 2.22s\tremaining: 5.45s\n",
      "29:\tlearn: 0.5688398\ttotal: 2.3s\tremaining: 5.36s\n",
      "30:\tlearn: 0.5675950\ttotal: 2.37s\tremaining: 5.28s\n",
      "31:\tlearn: 0.5664712\ttotal: 2.46s\tremaining: 5.22s\n",
      "32:\tlearn: 0.5653622\ttotal: 2.54s\tremaining: 5.15s\n",
      "33:\tlearn: 0.5644281\ttotal: 2.62s\tremaining: 5.08s\n",
      "34:\tlearn: 0.5637763\ttotal: 2.7s\tremaining: 5.01s\n",
      "35:\tlearn: 0.5630708\ttotal: 2.78s\tremaining: 4.94s\n",
      "36:\tlearn: 0.5623364\ttotal: 2.87s\tremaining: 4.89s\n",
      "37:\tlearn: 0.5615196\ttotal: 2.95s\tremaining: 4.82s\n",
      "38:\tlearn: 0.5607837\ttotal: 3.03s\tremaining: 4.73s\n",
      "39:\tlearn: 0.5601649\ttotal: 3.1s\tremaining: 4.65s\n",
      "40:\tlearn: 0.5597089\ttotal: 3.18s\tremaining: 4.57s\n",
      "41:\tlearn: 0.5589380\ttotal: 3.26s\tremaining: 4.51s\n",
      "42:\tlearn: 0.5583709\ttotal: 3.34s\tremaining: 4.43s\n",
      "43:\tlearn: 0.5577619\ttotal: 3.43s\tremaining: 4.37s\n",
      "44:\tlearn: 0.5573023\ttotal: 3.52s\tremaining: 4.31s\n",
      "45:\tlearn: 0.5568310\ttotal: 3.62s\tremaining: 4.25s\n",
      "46:\tlearn: 0.5563843\ttotal: 3.69s\tremaining: 4.16s\n",
      "47:\tlearn: 0.5560363\ttotal: 3.77s\tremaining: 4.08s\n",
      "48:\tlearn: 0.5554462\ttotal: 3.85s\tremaining: 4.01s\n",
      "49:\tlearn: 0.5549709\ttotal: 3.94s\tremaining: 3.94s\n",
      "50:\tlearn: 0.5544569\ttotal: 4.01s\tremaining: 3.86s\n",
      "51:\tlearn: 0.5538637\ttotal: 4.1s\tremaining: 3.78s\n",
      "52:\tlearn: 0.5535714\ttotal: 4.19s\tremaining: 3.71s\n",
      "53:\tlearn: 0.5530928\ttotal: 4.26s\tremaining: 3.63s\n",
      "54:\tlearn: 0.5527110\ttotal: 4.35s\tremaining: 3.56s\n",
      "55:\tlearn: 0.5523522\ttotal: 4.44s\tremaining: 3.48s\n",
      "56:\tlearn: 0.5519655\ttotal: 4.52s\tremaining: 3.41s\n",
      "57:\tlearn: 0.5516604\ttotal: 4.6s\tremaining: 3.33s\n",
      "58:\tlearn: 0.5510469\ttotal: 4.69s\tremaining: 3.26s\n",
      "59:\tlearn: 0.5506898\ttotal: 4.77s\tremaining: 3.18s\n",
      "60:\tlearn: 0.5503247\ttotal: 4.84s\tremaining: 3.1s\n",
      "61:\tlearn: 0.5499228\ttotal: 4.92s\tremaining: 3.01s\n",
      "62:\tlearn: 0.5497009\ttotal: 4.98s\tremaining: 2.93s\n",
      "63:\tlearn: 0.5493756\ttotal: 5.06s\tremaining: 2.85s\n",
      "64:\tlearn: 0.5489358\ttotal: 5.13s\tremaining: 2.76s\n",
      "65:\tlearn: 0.5486213\ttotal: 5.2s\tremaining: 2.68s\n",
      "66:\tlearn: 0.5483089\ttotal: 5.28s\tremaining: 2.6s\n",
      "67:\tlearn: 0.5480873\ttotal: 5.37s\tremaining: 2.53s\n",
      "68:\tlearn: 0.5478028\ttotal: 5.46s\tremaining: 2.45s\n",
      "69:\tlearn: 0.5475784\ttotal: 5.55s\tremaining: 2.38s\n",
      "70:\tlearn: 0.5473605\ttotal: 5.65s\tremaining: 2.31s\n",
      "71:\tlearn: 0.5470813\ttotal: 5.74s\tremaining: 2.23s\n",
      "72:\tlearn: 0.5467425\ttotal: 5.82s\tremaining: 2.15s\n",
      "73:\tlearn: 0.5465028\ttotal: 5.89s\tremaining: 2.07s\n",
      "74:\tlearn: 0.5463449\ttotal: 5.97s\tremaining: 1.99s\n",
      "75:\tlearn: 0.5460271\ttotal: 6.07s\tremaining: 1.92s\n",
      "76:\tlearn: 0.5457785\ttotal: 6.16s\tremaining: 1.84s\n",
      "77:\tlearn: 0.5453074\ttotal: 6.27s\tremaining: 1.77s\n",
      "78:\tlearn: 0.5450069\ttotal: 6.34s\tremaining: 1.69s\n",
      "79:\tlearn: 0.5445915\ttotal: 6.42s\tremaining: 1.6s\n",
      "80:\tlearn: 0.5443928\ttotal: 6.51s\tremaining: 1.53s\n",
      "81:\tlearn: 0.5441859\ttotal: 6.6s\tremaining: 1.45s\n",
      "82:\tlearn: 0.5440231\ttotal: 6.68s\tremaining: 1.37s\n",
      "83:\tlearn: 0.5437385\ttotal: 6.76s\tremaining: 1.29s\n",
      "84:\tlearn: 0.5436070\ttotal: 6.84s\tremaining: 1.21s\n",
      "85:\tlearn: 0.5434720\ttotal: 6.92s\tremaining: 1.13s\n",
      "86:\tlearn: 0.5431129\ttotal: 7s\tremaining: 1.04s\n",
      "87:\tlearn: 0.5428406\ttotal: 7.07s\tremaining: 965ms\n",
      "88:\tlearn: 0.5426760\ttotal: 7.16s\tremaining: 885ms\n",
      "89:\tlearn: 0.5425077\ttotal: 7.24s\tremaining: 804ms\n",
      "90:\tlearn: 0.5423913\ttotal: 7.33s\tremaining: 725ms\n",
      "91:\tlearn: 0.5418978\ttotal: 7.41s\tremaining: 645ms\n",
      "92:\tlearn: 0.5416655\ttotal: 7.48s\tremaining: 563ms\n",
      "93:\tlearn: 0.5413441\ttotal: 7.56s\tremaining: 482ms\n",
      "94:\tlearn: 0.5411048\ttotal: 7.64s\tremaining: 402ms\n",
      "95:\tlearn: 0.5408900\ttotal: 7.73s\tremaining: 322ms\n",
      "96:\tlearn: 0.5407356\ttotal: 7.79s\tremaining: 241ms\n",
      "97:\tlearn: 0.5405785\ttotal: 7.87s\tremaining: 161ms\n",
      "98:\tlearn: 0.5404495\ttotal: 7.99s\tremaining: 80.8ms\n",
      "99:\tlearn: 0.5402635\ttotal: 8.09s\tremaining: 0us\n",
      "0:\tlearn: 0.6833490\ttotal: 14.7ms\tremaining: 1.46s\n",
      "1:\tlearn: 0.6729020\ttotal: 92.9ms\tremaining: 4.55s\n",
      "2:\tlearn: 0.6640651\ttotal: 148ms\tremaining: 4.77s\n",
      "3:\tlearn: 0.6560473\ttotal: 231ms\tremaining: 5.55s\n",
      "4:\tlearn: 0.6479049\ttotal: 312ms\tremaining: 5.93s\n",
      "5:\tlearn: 0.6410532\ttotal: 388ms\tremaining: 6.08s\n",
      "6:\tlearn: 0.6342451\ttotal: 475ms\tremaining: 6.31s\n",
      "7:\tlearn: 0.6277999\ttotal: 569ms\tremaining: 6.54s\n",
      "8:\tlearn: 0.6220355\ttotal: 656ms\tremaining: 6.63s\n",
      "9:\tlearn: 0.6167677\ttotal: 746ms\tremaining: 6.71s\n",
      "10:\tlearn: 0.6122290\ttotal: 830ms\tremaining: 6.71s\n",
      "11:\tlearn: 0.6080665\ttotal: 918ms\tremaining: 6.73s\n",
      "12:\tlearn: 0.6034859\ttotal: 1.02s\tremaining: 6.85s\n",
      "13:\tlearn: 0.5996681\ttotal: 1.13s\tremaining: 6.91s\n",
      "14:\tlearn: 0.5962229\ttotal: 1.21s\tremaining: 6.84s\n"
     ]
    },
    {
     "name": "stdout",
     "output_type": "stream",
     "text": [
      "15:\tlearn: 0.5927792\ttotal: 1.3s\tremaining: 6.85s\n",
      "16:\tlearn: 0.5898787\ttotal: 1.39s\tremaining: 6.81s\n",
      "17:\tlearn: 0.5872879\ttotal: 1.48s\tremaining: 6.72s\n",
      "18:\tlearn: 0.5843253\ttotal: 1.57s\tremaining: 6.71s\n",
      "19:\tlearn: 0.5821700\ttotal: 1.66s\tremaining: 6.63s\n",
      "20:\tlearn: 0.5801929\ttotal: 1.73s\tremaining: 6.5s\n",
      "21:\tlearn: 0.5782011\ttotal: 1.81s\tremaining: 6.42s\n",
      "22:\tlearn: 0.5762118\ttotal: 1.95s\tremaining: 6.51s\n",
      "23:\tlearn: 0.5744625\ttotal: 2.15s\tremaining: 6.8s\n",
      "24:\tlearn: 0.5728746\ttotal: 2.31s\tremaining: 6.93s\n",
      "25:\tlearn: 0.5711519\ttotal: 2.46s\tremaining: 7s\n",
      "26:\tlearn: 0.5698778\ttotal: 2.57s\tremaining: 6.96s\n",
      "27:\tlearn: 0.5687707\ttotal: 2.73s\tremaining: 7.01s\n",
      "28:\tlearn: 0.5677501\ttotal: 2.83s\tremaining: 6.92s\n",
      "29:\tlearn: 0.5666344\ttotal: 2.94s\tremaining: 6.87s\n",
      "30:\tlearn: 0.5654816\ttotal: 3.05s\tremaining: 6.79s\n",
      "31:\tlearn: 0.5646328\ttotal: 3.18s\tremaining: 6.76s\n",
      "32:\tlearn: 0.5634889\ttotal: 3.31s\tremaining: 6.73s\n",
      "33:\tlearn: 0.5626046\ttotal: 3.44s\tremaining: 6.67s\n",
      "34:\tlearn: 0.5616223\ttotal: 3.57s\tremaining: 6.63s\n",
      "35:\tlearn: 0.5607679\ttotal: 3.67s\tremaining: 6.52s\n",
      "36:\tlearn: 0.5598590\ttotal: 3.76s\tremaining: 6.4s\n",
      "37:\tlearn: 0.5589287\ttotal: 3.84s\tremaining: 6.27s\n",
      "38:\tlearn: 0.5580700\ttotal: 3.93s\tremaining: 6.15s\n",
      "39:\tlearn: 0.5573581\ttotal: 4.02s\tremaining: 6.03s\n",
      "40:\tlearn: 0.5568649\ttotal: 4.16s\tremaining: 5.98s\n",
      "41:\tlearn: 0.5561626\ttotal: 4.26s\tremaining: 5.88s\n",
      "42:\tlearn: 0.5557906\ttotal: 4.33s\tremaining: 5.74s\n",
      "43:\tlearn: 0.5554095\ttotal: 4.41s\tremaining: 5.61s\n",
      "44:\tlearn: 0.5546913\ttotal: 4.49s\tremaining: 5.48s\n",
      "45:\tlearn: 0.5542092\ttotal: 4.57s\tremaining: 5.37s\n",
      "46:\tlearn: 0.5537670\ttotal: 4.65s\tremaining: 5.25s\n",
      "47:\tlearn: 0.5534117\ttotal: 4.73s\tremaining: 5.12s\n",
      "48:\tlearn: 0.5530237\ttotal: 4.81s\tremaining: 5.01s\n",
      "49:\tlearn: 0.5523572\ttotal: 4.89s\tremaining: 4.89s\n",
      "50:\tlearn: 0.5519699\ttotal: 4.98s\tremaining: 4.79s\n",
      "51:\tlearn: 0.5515293\ttotal: 5.07s\tremaining: 4.68s\n",
      "52:\tlearn: 0.5511634\ttotal: 5.15s\tremaining: 4.57s\n",
      "53:\tlearn: 0.5507304\ttotal: 5.24s\tremaining: 4.46s\n",
      "54:\tlearn: 0.5504303\ttotal: 5.31s\tremaining: 4.34s\n",
      "55:\tlearn: 0.5501439\ttotal: 5.39s\tremaining: 4.23s\n",
      "56:\tlearn: 0.5498509\ttotal: 5.48s\tremaining: 4.13s\n",
      "57:\tlearn: 0.5491576\ttotal: 5.57s\tremaining: 4.04s\n",
      "58:\tlearn: 0.5488436\ttotal: 5.67s\tremaining: 3.94s\n",
      "59:\tlearn: 0.5486136\ttotal: 5.75s\tremaining: 3.83s\n",
      "60:\tlearn: 0.5482334\ttotal: 5.83s\tremaining: 3.73s\n",
      "61:\tlearn: 0.5479287\ttotal: 5.93s\tremaining: 3.63s\n",
      "62:\tlearn: 0.5477704\ttotal: 6s\tremaining: 3.53s\n",
      "63:\tlearn: 0.5473328\ttotal: 6.09s\tremaining: 3.42s\n",
      "64:\tlearn: 0.5469023\ttotal: 6.18s\tremaining: 3.33s\n",
      "65:\tlearn: 0.5467673\ttotal: 6.26s\tremaining: 3.23s\n",
      "66:\tlearn: 0.5462783\ttotal: 6.35s\tremaining: 3.13s\n",
      "67:\tlearn: 0.5460232\ttotal: 6.43s\tremaining: 3.03s\n",
      "68:\tlearn: 0.5457276\ttotal: 6.53s\tremaining: 2.93s\n",
      "69:\tlearn: 0.5455106\ttotal: 6.6s\tremaining: 2.83s\n",
      "70:\tlearn: 0.5453141\ttotal: 6.68s\tremaining: 2.73s\n",
      "71:\tlearn: 0.5450917\ttotal: 6.77s\tremaining: 2.63s\n",
      "72:\tlearn: 0.5448530\ttotal: 6.85s\tremaining: 2.53s\n",
      "73:\tlearn: 0.5446385\ttotal: 6.93s\tremaining: 2.44s\n",
      "74:\tlearn: 0.5444061\ttotal: 7.03s\tremaining: 2.34s\n",
      "75:\tlearn: 0.5440744\ttotal: 7.11s\tremaining: 2.25s\n",
      "76:\tlearn: 0.5438369\ttotal: 7.19s\tremaining: 2.15s\n",
      "77:\tlearn: 0.5435749\ttotal: 7.27s\tremaining: 2.05s\n",
      "78:\tlearn: 0.5432768\ttotal: 7.35s\tremaining: 1.95s\n",
      "79:\tlearn: 0.5431291\ttotal: 7.42s\tremaining: 1.86s\n",
      "80:\tlearn: 0.5428256\ttotal: 7.5s\tremaining: 1.76s\n",
      "81:\tlearn: 0.5425184\ttotal: 7.57s\tremaining: 1.66s\n",
      "82:\tlearn: 0.5423816\ttotal: 7.64s\tremaining: 1.56s\n",
      "83:\tlearn: 0.5421967\ttotal: 7.71s\tremaining: 1.47s\n",
      "84:\tlearn: 0.5418333\ttotal: 7.79s\tremaining: 1.38s\n",
      "85:\tlearn: 0.5414177\ttotal: 7.87s\tremaining: 1.28s\n",
      "86:\tlearn: 0.5412049\ttotal: 7.95s\tremaining: 1.19s\n",
      "87:\tlearn: 0.5409169\ttotal: 8.03s\tremaining: 1.09s\n",
      "88:\tlearn: 0.5407064\ttotal: 8.1s\tremaining: 1s\n",
      "89:\tlearn: 0.5404280\ttotal: 8.18s\tremaining: 909ms\n",
      "90:\tlearn: 0.5401910\ttotal: 8.26s\tremaining: 817ms\n",
      "91:\tlearn: 0.5399692\ttotal: 8.33s\tremaining: 725ms\n",
      "92:\tlearn: 0.5396998\ttotal: 8.41s\tremaining: 633ms\n",
      "93:\tlearn: 0.5394993\ttotal: 8.5s\tremaining: 542ms\n",
      "94:\tlearn: 0.5393666\ttotal: 8.58s\tremaining: 452ms\n",
      "95:\tlearn: 0.5390256\ttotal: 8.69s\tremaining: 362ms\n",
      "96:\tlearn: 0.5389213\ttotal: 8.79s\tremaining: 272ms\n",
      "97:\tlearn: 0.5384383\ttotal: 8.91s\tremaining: 182ms\n",
      "98:\tlearn: 0.5382357\ttotal: 9.01s\tremaining: 91ms\n",
      "99:\tlearn: 0.5379355\ttotal: 9.12s\tremaining: 0us\n",
      "0:\tlearn: 0.6820013\ttotal: 77.9ms\tremaining: 7.71s\n",
      "1:\tlearn: 0.6725711\ttotal: 167ms\tremaining: 8.16s\n",
      "2:\tlearn: 0.6637791\ttotal: 222ms\tremaining: 7.16s\n",
      "3:\tlearn: 0.6558120\ttotal: 316ms\tremaining: 7.58s\n",
      "4:\tlearn: 0.6479797\ttotal: 413ms\tremaining: 7.85s\n",
      "5:\tlearn: 0.6406936\ttotal: 509ms\tremaining: 7.97s\n",
      "6:\tlearn: 0.6341517\ttotal: 598ms\tremaining: 7.95s\n",
      "7:\tlearn: 0.6282490\ttotal: 675ms\tremaining: 7.76s\n",
      "8:\tlearn: 0.6223257\ttotal: 755ms\tremaining: 7.64s\n",
      "9:\tlearn: 0.6172397\ttotal: 841ms\tremaining: 7.57s\n",
      "10:\tlearn: 0.6126955\ttotal: 939ms\tremaining: 7.59s\n",
      "11:\tlearn: 0.6080733\ttotal: 1.04s\tremaining: 7.6s\n",
      "12:\tlearn: 0.6043787\ttotal: 1.12s\tremaining: 7.53s\n",
      "13:\tlearn: 0.6009671\ttotal: 1.2s\tremaining: 7.4s\n",
      "14:\tlearn: 0.5975861\ttotal: 1.28s\tremaining: 7.27s\n",
      "15:\tlearn: 0.5940449\ttotal: 1.38s\tremaining: 7.23s\n",
      "16:\tlearn: 0.5912991\ttotal: 1.46s\tremaining: 7.1s\n",
      "17:\tlearn: 0.5888206\ttotal: 1.52s\tremaining: 6.95s\n",
      "18:\tlearn: 0.5866835\ttotal: 1.61s\tremaining: 6.85s\n",
      "19:\tlearn: 0.5839756\ttotal: 1.69s\tremaining: 6.76s\n",
      "20:\tlearn: 0.5820663\ttotal: 1.77s\tremaining: 6.68s\n",
      "21:\tlearn: 0.5801688\ttotal: 1.85s\tremaining: 6.55s\n",
      "22:\tlearn: 0.5782450\ttotal: 1.92s\tremaining: 6.44s\n",
      "23:\tlearn: 0.5765631\ttotal: 2s\tremaining: 6.34s\n",
      "24:\tlearn: 0.5749739\ttotal: 2.08s\tremaining: 6.24s\n",
      "25:\tlearn: 0.5736797\ttotal: 2.16s\tremaining: 6.14s\n",
      "26:\tlearn: 0.5719137\ttotal: 2.24s\tremaining: 6.05s\n",
      "27:\tlearn: 0.5704380\ttotal: 2.32s\tremaining: 5.96s\n",
      "28:\tlearn: 0.5688903\ttotal: 2.4s\tremaining: 5.87s\n",
      "29:\tlearn: 0.5678477\ttotal: 2.48s\tremaining: 5.78s\n",
      "30:\tlearn: 0.5664271\ttotal: 2.56s\tremaining: 5.7s\n",
      "31:\tlearn: 0.5653710\ttotal: 2.63s\tremaining: 5.59s\n",
      "32:\tlearn: 0.5642513\ttotal: 2.7s\tremaining: 5.49s\n",
      "33:\tlearn: 0.5634372\ttotal: 2.78s\tremaining: 5.4s\n",
      "34:\tlearn: 0.5626399\ttotal: 2.83s\tremaining: 5.25s\n",
      "35:\tlearn: 0.5619436\ttotal: 2.91s\tremaining: 5.17s\n",
      "36:\tlearn: 0.5613405\ttotal: 3s\tremaining: 5.1s\n",
      "37:\tlearn: 0.5604565\ttotal: 3.07s\tremaining: 5.02s\n",
      "38:\tlearn: 0.5598086\ttotal: 3.16s\tremaining: 4.94s\n",
      "39:\tlearn: 0.5592799\ttotal: 3.24s\tremaining: 4.86s\n",
      "40:\tlearn: 0.5584663\ttotal: 3.33s\tremaining: 4.79s\n",
      "41:\tlearn: 0.5578024\ttotal: 3.41s\tremaining: 4.71s\n",
      "42:\tlearn: 0.5573622\ttotal: 3.49s\tremaining: 4.63s\n",
      "43:\tlearn: 0.5566592\ttotal: 3.59s\tremaining: 4.57s\n",
      "44:\tlearn: 0.5562113\ttotal: 3.69s\tremaining: 4.5s\n",
      "45:\tlearn: 0.5559067\ttotal: 3.72s\tremaining: 4.36s\n",
      "46:\tlearn: 0.5554241\ttotal: 3.8s\tremaining: 4.28s\n",
      "47:\tlearn: 0.5549186\ttotal: 3.89s\tremaining: 4.22s\n",
      "48:\tlearn: 0.5543366\ttotal: 3.98s\tremaining: 4.14s\n",
      "49:\tlearn: 0.5537441\ttotal: 4.08s\tremaining: 4.08s\n",
      "50:\tlearn: 0.5532875\ttotal: 4.18s\tremaining: 4.01s\n",
      "51:\tlearn: 0.5529732\ttotal: 4.28s\tremaining: 3.95s\n",
      "52:\tlearn: 0.5525242\ttotal: 4.39s\tremaining: 3.9s\n",
      "53:\tlearn: 0.5522255\ttotal: 4.49s\tremaining: 3.82s\n",
      "54:\tlearn: 0.5517419\ttotal: 4.58s\tremaining: 3.75s\n",
      "55:\tlearn: 0.5514619\ttotal: 4.68s\tremaining: 3.68s\n",
      "56:\tlearn: 0.5506927\ttotal: 4.76s\tremaining: 3.59s\n",
      "57:\tlearn: 0.5504691\ttotal: 4.84s\tremaining: 3.5s\n",
      "58:\tlearn: 0.5502582\ttotal: 4.93s\tremaining: 3.43s\n",
      "59:\tlearn: 0.5496335\ttotal: 5.01s\tremaining: 3.34s\n",
      "60:\tlearn: 0.5494098\ttotal: 5.12s\tremaining: 3.27s\n",
      "61:\tlearn: 0.5490663\ttotal: 5.21s\tremaining: 3.19s\n",
      "62:\tlearn: 0.5486182\ttotal: 5.31s\tremaining: 3.12s\n",
      "63:\tlearn: 0.5483577\ttotal: 5.4s\tremaining: 3.04s\n",
      "64:\tlearn: 0.5481788\ttotal: 5.5s\tremaining: 2.96s\n",
      "65:\tlearn: 0.5479105\ttotal: 5.58s\tremaining: 2.88s\n",
      "66:\tlearn: 0.5475069\ttotal: 5.67s\tremaining: 2.79s\n",
      "67:\tlearn: 0.5470741\ttotal: 5.76s\tremaining: 2.71s\n",
      "68:\tlearn: 0.5465891\ttotal: 5.84s\tremaining: 2.62s\n",
      "69:\tlearn: 0.5462252\ttotal: 5.94s\tremaining: 2.54s\n",
      "70:\tlearn: 0.5460311\ttotal: 6.01s\tremaining: 2.46s\n",
      "71:\tlearn: 0.5456385\ttotal: 6.09s\tremaining: 2.37s\n",
      "72:\tlearn: 0.5453949\ttotal: 6.16s\tremaining: 2.28s\n",
      "73:\tlearn: 0.5450068\ttotal: 6.25s\tremaining: 2.2s\n",
      "74:\tlearn: 0.5447624\ttotal: 6.33s\tremaining: 2.11s\n",
      "75:\tlearn: 0.5445512\ttotal: 6.4s\tremaining: 2.02s\n",
      "76:\tlearn: 0.5444091\ttotal: 6.47s\tremaining: 1.93s\n",
      "77:\tlearn: 0.5442561\ttotal: 6.55s\tremaining: 1.85s\n"
     ]
    },
    {
     "name": "stdout",
     "output_type": "stream",
     "text": [
      "78:\tlearn: 0.5438001\ttotal: 6.65s\tremaining: 1.77s\n",
      "79:\tlearn: 0.5432296\ttotal: 6.72s\tremaining: 1.68s\n",
      "80:\tlearn: 0.5429209\ttotal: 6.8s\tremaining: 1.59s\n",
      "81:\tlearn: 0.5427930\ttotal: 6.88s\tremaining: 1.51s\n",
      "82:\tlearn: 0.5425831\ttotal: 6.96s\tremaining: 1.43s\n",
      "83:\tlearn: 0.5424263\ttotal: 7.04s\tremaining: 1.34s\n",
      "84:\tlearn: 0.5422963\ttotal: 7.12s\tremaining: 1.25s\n",
      "85:\tlearn: 0.5421110\ttotal: 7.19s\tremaining: 1.17s\n",
      "86:\tlearn: 0.5417179\ttotal: 7.26s\tremaining: 1.08s\n",
      "87:\tlearn: 0.5413882\ttotal: 7.34s\tremaining: 1s\n",
      "88:\tlearn: 0.5411919\ttotal: 7.42s\tremaining: 917ms\n",
      "89:\tlearn: 0.5409330\ttotal: 7.49s\tremaining: 832ms\n",
      "90:\tlearn: 0.5406971\ttotal: 7.56s\tremaining: 748ms\n",
      "91:\tlearn: 0.5403273\ttotal: 7.64s\tremaining: 664ms\n",
      "92:\tlearn: 0.5400209\ttotal: 7.72s\tremaining: 581ms\n",
      "93:\tlearn: 0.5398486\ttotal: 7.81s\tremaining: 498ms\n",
      "94:\tlearn: 0.5396308\ttotal: 7.9s\tremaining: 416ms\n",
      "95:\tlearn: 0.5393602\ttotal: 7.98s\tremaining: 332ms\n",
      "96:\tlearn: 0.5389045\ttotal: 8.06s\tremaining: 249ms\n",
      "97:\tlearn: 0.5387013\ttotal: 8.14s\tremaining: 166ms\n",
      "98:\tlearn: 0.5383972\ttotal: 8.22s\tremaining: 83ms\n",
      "99:\tlearn: 0.5382127\ttotal: 8.29s\tremaining: 0us\n",
      "Time taken by function: 0 hours , 9 mins and 14.62544600000001 secs\n"
     ]
    }
   ],
   "source": [
    "base_models = [\n",
    "    ('rf',RandomForestClassifier(n_jobs=-1, random_state=42,**clf1.best_params_)),\n",
    "    ('lgbm',lgb.LGBMClassifier(random_state=42,**clf2.best_params_)),\n",
    "    ('xgb', xgb.XGBClassifier(random_state=42,**clf3.best_params_)),\n",
    "    ('cbc', CatBoostClassifier(random_state=42,**clf4.best_params_))\n",
    "]\n",
    "\n",
    "stacked = StackingClassifier(\n",
    "    estimators = base_models,\n",
    "    final_estimator = LogisticRegression(random_state=42),\n",
    "    cv = 4)\n",
    "\n",
    "\n",
    "start_time = utils.timer(None)\n",
    "\n",
    "stacked.fit(X_train, y_train)    \n",
    "\n",
    "utils.timer(start_time)"
   ]
  },
  {
   "cell_type": "markdown",
   "id": "27043f30",
   "metadata": {},
   "source": [
    "#### 3.2 -  Stacked Classifier: Inference time"
   ]
  },
  {
   "cell_type": "code",
   "execution_count": 14,
   "id": "cd756383",
   "metadata": {
    "scrolled": true
   },
   "outputs": [
    {
     "name": "stderr",
     "output_type": "stream",
     "text": [
      "/home/app/.local/lib/python3.8/site-packages/sklearn/base.py:450: UserWarning: X does not have valid feature names, but RandomForestClassifier was fitted with feature names\n",
      "  warnings.warn(\n"
     ]
    },
    {
     "name": "stdout",
     "output_type": "stream",
     "text": [
      "Time taken by function: 0 hours , 0 mins and 0.399165 secs\n"
     ]
    }
   ],
   "source": [
    "start_time = utils.timer(None)\n",
    "\n",
    "y_pred = stacked.predict(X_test.iloc[0].values.reshape(1,-1))\n",
    "\n",
    "utils.timer(start_time)"
   ]
  },
  {
   "cell_type": "code",
   "execution_count": 15,
   "id": "fad3b872",
   "metadata": {},
   "outputs": [
    {
     "name": "stdout",
     "output_type": "stream",
     "text": [
      "Time taken by function: 0 hours , 0 mins and 2.762999 secs\n"
     ]
    }
   ],
   "source": [
    "start_time = utils.timer(None)\n",
    "\n",
    "y_pred = stacked.predict(X_test)\n",
    "\n",
    "utils.timer(start_time)"
   ]
  },
  {
   "cell_type": "markdown",
   "id": "ee3cc17d",
   "metadata": {},
   "source": [
    "#### 3.3 - Stacked Classifier: Performance metrics and classification report"
   ]
  },
  {
   "cell_type": "code",
   "execution_count": 16,
   "id": "46c5e1d0",
   "metadata": {
    "scrolled": true
   },
   "outputs": [
    {
     "name": "stdout",
     "output_type": "stream",
     "text": [
      "Model Performance metrics:\n",
      "------------------------------\n",
      "Accuracy: 0.7408\n",
      "Precision: 0.5689655172413793\n",
      "Recall: 0.02530674846625767\n",
      "F1 Score: 0.04845814977973568\n",
      "\n",
      "Model Classification report:\n",
      "------------------------------\n",
      "              precision    recall  f1-score   support\n",
      "\n",
      "           0       0.74      0.99      0.85      7392\n",
      "           1       0.57      0.03      0.05      2608\n",
      "\n",
      "    accuracy                           0.74     10000\n",
      "   macro avg       0.66      0.51      0.45     10000\n",
      "weighted avg       0.70      0.74      0.64     10000\n",
      "\n",
      "\n",
      "Prediction Confusion Matrix:\n",
      "------------------------------\n",
      "      0   1\n",
      "0  7342  50\n",
      "1  2542  66\n"
     ]
    },
    {
     "data": {
      "image/png": "[encoded data removed]",
      "text/plain": [
       "<Figure size 720x360 with 1 Axes>"
      ]
     },
     "metadata": {
      "needs_background": "light"
     },
     "output_type": "display_data"
    }
   ],
   "source": [
    "accuracy, precision, recall, f1_score = predict_model.get_performance(y_pred,y_test,labels=[0,1])\n",
    "roc_auc = predict_model.plot_roc(stacked,y_test,X_test)"
   ]
  },
  {
   "cell_type": "markdown",
   "id": "16116103",
   "metadata": {},
   "source": [
    "#### 3.4 - Stacked Classifier: Save model\n"
   ]
  },
  {
   "cell_type": "code",
   "execution_count": 17,
   "id": "198b7a2e",
   "metadata": {
    "scrolled": true
   },
   "outputs": [
    {
     "name": "stdout",
     "output_type": "stream",
     "text": [
      "Object saved successfully in ../src/models/trained_models/best/stkd.pickle with 47.11MB.\n"
     ]
    }
   ],
   "source": [
    "utils.save_data_checkpoint(stacked,'../src/models/trained_models/best/stkd.pickle')"
   ]
  }
 ],
 "metadata": {
  "kernelspec": {
   "display_name": "Python 3 (ipykernel)",
   "language": "python",
   "name": "python3"
  },
  "language_info": {
   "codemirror_mode": {
    "name": "ipython",
    "version": 3
   },
   "file_extension": ".py",
   "mimetype": "text/x-python",
   "name": "python",
   "nbconvert_exporter": "python",
   "pygments_lexer": "ipython3",
   "version": "3.8.13"
  },
  "vscode": {
   "interpreter": {
    "hash": "63413d40248b15c5e3979e4e9ac9f50870b25d2b4b7e5c66b4da92bd9f0fa5ed"
   }
  }
 },
 "nbformat": 4,
 "nbformat_minor": 5
}
